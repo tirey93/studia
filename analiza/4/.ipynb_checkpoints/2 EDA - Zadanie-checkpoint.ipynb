{
 "cells": [
  {
   "cell_type": "markdown",
   "id": "76112fbe",
   "metadata": {},
   "source": [
    "# EDA - ZADANIE"
   ]
  },
  {
   "cell_type": "markdown",
   "id": "9ec3b35a",
   "metadata": {},
   "source": [
    "Korzystając z danych Bikes (Dataset - Bikes.xlsx)\n",
    "\n",
    "Przeanalizuj dane i powiedz o nich coś ciekawego :)\n",
    "\n",
    "Mozesz wykorzystać też inne dane z portalu kaggle."
   ]
  },
  {
   "cell_type": "markdown",
   "id": "2438dc47",
   "metadata": {},
   "source": [
    "## Rozwiązanie"
   ]
  },
  {
   "cell_type": "code",
   "execution_count": 1,
   "id": "3c7b3ceb",
   "metadata": {},
   "outputs": [],
   "source": [
    "### importing required libraries\n",
    "import pandas as pd\n",
    "\n",
    "import ydata_profiling\n",
    "from ydata_profiling import ProfileReport \n",
    "\n",
    "import sweetviz as sv"
   ]
  },
  {
   "cell_type": "code",
   "execution_count": 2,
   "id": "f0ce8ef7",
   "metadata": {},
   "outputs": [],
   "source": [
    "### reading training dataset\n",
    "df = pd.read_excel(\"./Data/Dataset - Bikes.xlsx\")"
   ]
  },
  {
   "cell_type": "code",
   "execution_count": 3,
   "id": "1157d167",
   "metadata": {},
   "outputs": [
    {
     "data": {
      "application/vnd.jupyter.widget-view+json": {
       "model_id": "b8d0ffd82cb4434090d4f584bab8b5da",
       "version_major": 2,
       "version_minor": 0
      },
      "text/plain": [
       "Summarize dataset:   0%|          | 0/5 [00:00<?, ?it/s]"
      ]
     },
     "metadata": {},
     "output_type": "display_data"
    },
    {
     "name": "stderr",
     "output_type": "stream",
     "text": [
      "C:\\Users\\ksmol\\anaconda3\\lib\\site-packages\\scipy\\stats\\_stats_py.py:110: RuntimeWarning: The input array could not be properly checked for nan values. nan values will be ignored.\n",
      "  warnings.warn(\"The input array could not be properly \"\n",
      "C:\\Users\\ksmol\\anaconda3\\lib\\site-packages\\scipy\\stats\\_stats_py.py:110: RuntimeWarning: The input array could not be properly checked for nan values. nan values will be ignored.\n",
      "  warnings.warn(\"The input array could not be properly \"\n",
      "C:\\Users\\ksmol\\anaconda3\\lib\\site-packages\\scipy\\stats\\_stats_py.py:110: RuntimeWarning: The input array could not be properly checked for nan values. nan values will be ignored.\n",
      "  warnings.warn(\"The input array could not be properly \"\n",
      "C:\\Users\\ksmol\\anaconda3\\lib\\site-packages\\scipy\\stats\\_stats_py.py:110: RuntimeWarning: The input array could not be properly checked for nan values. nan values will be ignored.\n",
      "  warnings.warn(\"The input array could not be properly \"\n"
     ]
    },
    {
     "data": {
      "application/vnd.jupyter.widget-view+json": {
       "model_id": "514a5a200aaa4fe1a87224a156b5d812",
       "version_major": 2,
       "version_minor": 0
      },
      "text/plain": [
       "Generate report structure:   0%|          | 0/1 [00:00<?, ?it/s]"
      ]
     },
     "metadata": {},
     "output_type": "display_data"
    },
    {
     "data": {
      "application/vnd.jupyter.widget-view+json": {
       "model_id": "680e9aabfce3475b86532c0acf611701",
       "version_major": 2,
       "version_minor": 0
      },
      "text/plain": [
       "Render HTML:   0%|          | 0/1 [00:00<?, ?it/s]"
      ]
     },
     "metadata": {},
     "output_type": "display_data"
    },
    {
     "data": {
      "application/vnd.jupyter.widget-view+json": {
       "model_id": "7d6489d9596942fe9be3b597123f7785",
       "version_major": 2,
       "version_minor": 0
      },
      "text/plain": [
       "Export report to file:   0%|          | 0/1 [00:00<?, ?it/s]"
      ]
     },
     "metadata": {},
     "output_type": "display_data"
    }
   ],
   "source": [
    "#Przypisanie profilu\n",
    "report = ProfileReport(df,title='Profiling Report',\n",
    "                                 html={'style': {'full_width': True}}, \n",
    "                                 sort=None, explorative=True, minimal=False, progress_bar=True)\n",
    "#Zapis do pliku HTML\n",
    "report.to_file(\"EDA_Bikes_ydata_profiling.html\")"
   ]
  },
  {
   "cell_type": "code",
   "execution_count": 4,
   "id": "8d5d9805",
   "metadata": {},
   "outputs": [
    {
     "data": {
      "application/vnd.jupyter.widget-view+json": {
       "model_id": "50bc82c30d3f442baffcd072d36096e6",
       "version_major": 2,
       "version_minor": 0
      },
      "text/plain": [
       "                                             |     | [  0%]   00:00 -> (? left)"
      ]
     },
     "metadata": {},
     "output_type": "display_data"
    },
    {
     "name": "stdout",
     "output_type": "stream",
     "text": [
      "Report EDA_Bikes_Sweetviz.html was generated! NOTEBOOK/COLAB USERS: the web browser MAY not pop up, regardless, the report IS saved in your notebook/colab files.\n"
     ]
    }
   ],
   "source": [
    "### Sweetviz Library:\n",
    "sweetviz_report = sv.analyze(df)\n",
    "sweetviz_report.show_html(filepath='EDA_Bikes_Sweetviz.html')"
   ]
  }
 ],
 "metadata": {
  "kernelspec": {
   "display_name": "Python 3 (ipykernel)",
   "language": "python",
   "name": "python3"
  },
  "language_info": {
   "codemirror_mode": {
    "name": "ipython",
    "version": 3
   },
   "file_extension": ".py",
   "mimetype": "text/x-python",
   "name": "python",
   "nbconvert_exporter": "python",
   "pygments_lexer": "ipython3",
   "version": "3.9.13"
  },
  "toc": {
   "base_numbering": 1,
   "nav_menu": {},
   "number_sections": true,
   "sideBar": true,
   "skip_h1_title": false,
   "title_cell": "Table of Contents",
   "title_sidebar": "Contents",
   "toc_cell": false,
   "toc_position": {
    "height": "calc(100% - 180px)",
    "left": "10px",
    "top": "150px",
    "width": "409.593px"
   },
   "toc_section_display": true,
   "toc_window_display": true
  }
 },
 "nbformat": 4,
 "nbformat_minor": 5
}
