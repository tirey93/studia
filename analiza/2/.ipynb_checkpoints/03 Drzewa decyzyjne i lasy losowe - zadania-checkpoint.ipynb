{
 "cells": [
  {
   "cell_type": "code",
   "execution_count": 3,
   "metadata": {},
   "outputs": [],
   "source": [
    "import pandas as pd\n",
    "import numpy as np\n",
    "import matplotlib.pyplot as plt\n",
    "import seaborn as sns\n",
    "%matplotlib inline\n",
    "\n",
    "from sklearn.model_selection import train_test_split\n",
    "from sklearn.tree import DecisionTreeClassifier"
   ]
  },
  {
   "cell_type": "markdown",
   "metadata": {},
   "source": [
    "# Zadania"
   ]
  },
  {
   "cell_type": "markdown",
   "metadata": {},
   "source": [
    "1. Wyznacz współczynniki TP, TN, FP, FN i na ich podstawie wyznacz dokładność i precyzję (accurancy i precision).\n",
    "1. Załaduj plik \"heart.csv\" i stwórz dla tych danych model Decision Tree lub Random Forest\n",
    "1. Dla danych Kyphosis określ dokładność w zależności od ilości drzew w algorytmie Random Forest (narysuj wykres)\n",
    "1. Załaduj plik \"Dataset - Bikes.xlsx\" i stwórz dla tych danych model Decision Tree lub Random Forest"
   ]
  },
  {
   "cell_type": "code",
   "execution_count": 16,
   "metadata": {},
   "outputs": [],
   "source": [
    "import pandas as pd\n",
    "import numpy as np\n",
    "import matplotlib.pyplot as plt\n",
    "import seaborn as sns\n",
    "%matplotlib inline\n",
    "\n",
    "from sklearn.model_selection import train_test_split\n",
    "from sklearn.tree import DecisionTreeClassifier\n",
    "from sklearn.metrics import classification_report,confusion_matrix"
   ]
  },
  {
   "cell_type": "markdown",
   "metadata": {},
   "source": [
    "## Zadanie 1"
   ]
  },
  {
   "cell_type": "code",
   "execution_count": 17,
   "metadata": {},
   "outputs": [],
   "source": [
    "df = pd.read_csv('.\\\\Data\\\\kyphosis.csv')\n",
    "X = df.drop('Kyphosis',axis=1)\n",
    "y = df['Kyphosis']\n",
    "X_train, X_test, y_train, y_test = train_test_split(X, y, random_state=0, test_size=0.30)"
   ]
  },
  {
   "cell_type": "code",
   "execution_count": 18,
   "metadata": {},
   "outputs": [],
   "source": [
    "dtree = DecisionTreeClassifier()"
   ]
  },
  {
   "cell_type": "code",
   "execution_count": 19,
   "metadata": {},
   "outputs": [],
   "source": [
    "dtree.fit(X_train,y_train);"
   ]
  },
  {
   "cell_type": "code",
   "execution_count": 20,
   "metadata": {},
   "outputs": [],
   "source": [
    " dtree_pred = dtree.predict(X_test)"
   ]
  },
  {
   "cell_type": "markdown",
   "metadata": {},
   "source": [
    "Wyznacz współczynniki TP, TN, FP, FN i na ich podstawie wyznacz dokładność i precyzję (accurancy i precision)."
   ]
  },
  {
   "cell_type": "code",
   "execution_count": 21,
   "metadata": {},
   "outputs": [
    {
     "name": "stdout",
     "output_type": "stream",
     "text": [
      "              precision    recall  f1-score   support\n",
      "\n",
      "      absent       0.73      0.89      0.80        18\n",
      "     present       0.33      0.14      0.20         7\n",
      "\n",
      "    accuracy                           0.68        25\n",
      "   macro avg       0.53      0.52      0.50        25\n",
      "weighted avg       0.62      0.68      0.63        25\n",
      "\n"
     ]
    }
   ],
   "source": [
    "print(classification_report(y_test, dtree_pred))"
   ]
  },
  {
   "cell_type": "code",
   "execution_count": 22,
   "metadata": {},
   "outputs": [],
   "source": [
    "# Positive = present\n",
    "TN, FP, FN, TP = confusion_matrix(y_test, dtree_pred).ravel()"
   ]
  },
  {
   "cell_type": "code",
   "execution_count": 23,
   "metadata": {},
   "outputs": [
    {
     "name": "stdout",
     "output_type": "stream",
     "text": [
      "Dokładność (accurancy) drzew decyzyjnych:\n"
     ]
    },
    {
     "data": {
      "text/plain": [
       "0.68"
      ]
     },
     "execution_count": 23,
     "metadata": {},
     "output_type": "execute_result"
    }
   ],
   "source": [
    "print(\"Dokładność (accurancy) drzew decyzyjnych:\")\n",
    "(TP+TN)/(TP+TN+FP+FN)"
   ]
  },
  {
   "cell_type": "code",
   "execution_count": 24,
   "metadata": {},
   "outputs": [
    {
     "name": "stdout",
     "output_type": "stream",
     "text": [
      "Precyzja drzew decyzyjnych (present):\n"
     ]
    },
    {
     "data": {
      "text/plain": [
       "0.3333333333333333"
      ]
     },
     "execution_count": 24,
     "metadata": {},
     "output_type": "execute_result"
    }
   ],
   "source": [
    "print(\"Precyzja drzew decyzyjnych (present):\")\n",
    "(TP)/(TP+FP)"
   ]
  },
  {
   "cell_type": "code",
   "execution_count": 25,
   "metadata": {},
   "outputs": [
    {
     "name": "stdout",
     "output_type": "stream",
     "text": [
      "Precyzja drzew decyzyjnych (absent):\n"
     ]
    },
    {
     "data": {
      "text/plain": [
       "0.7272727272727273"
      ]
     },
     "execution_count": 25,
     "metadata": {},
     "output_type": "execute_result"
    }
   ],
   "source": [
    "print(\"Precyzja drzew decyzyjnych (absent):\")\n",
    "(TN)/(TN+FN)"
   ]
  },
  {
   "cell_type": "markdown",
   "metadata": {},
   "source": [
    "## Zadanie 4"
   ]
  },
  {
   "cell_type": "markdown",
   "metadata": {},
   "source": [
    "Załaduj plik \"Dataset - Bikes.xlsx\" i stwórz dla tych danych model Decision Tree lub Random Forest."
   ]
  },
  {
   "cell_type": "code",
   "execution_count": 26,
   "metadata": {},
   "outputs": [],
   "source": [
    "from sklearn.model_selection import train_test_split\n",
    "from sklearn.tree import DecisionTreeClassifier\n",
    "from sklearn.ensemble import RandomForestClassifier\n",
    "from sklearn.metrics import classification_report,confusion_matrix"
   ]
  },
  {
   "cell_type": "code",
   "execution_count": 27,
   "metadata": {},
   "outputs": [],
   "source": [
    "df = pd.read_excel('.\\\\Data\\\\Dataset - Bikes.xlsx',sheet_name='Table Analysis Tools Sample')"
   ]
  },
  {
   "cell_type": "code",
   "execution_count": 28,
   "metadata": {},
   "outputs": [],
   "source": [
    "#przemieszanie\n",
    "df = df.sample(frac = 1, random_state=12347)"
   ]
  },
  {
   "cell_type": "code",
   "execution_count": 29,
   "metadata": {},
   "outputs": [
    {
     "name": "stdout",
     "output_type": "stream",
     "text": [
      "<class 'pandas.core.frame.DataFrame'>\n",
      "Index: 1000 entries, 767 to 952\n",
      "Data columns (total 13 columns):\n",
      " #   Column            Non-Null Count  Dtype  \n",
      "---  ------            --------------  -----  \n",
      " 0   ID                1000 non-null   int64  \n",
      " 1   Marital Status    1000 non-null   object \n",
      " 2   Gender            1000 non-null   object \n",
      " 3   Income            1000 non-null   int64  \n",
      " 4   Children          1000 non-null   int64  \n",
      " 5   Education         1000 non-null   object \n",
      " 6   Occupation        1000 non-null   object \n",
      " 7   Home Owner        1000 non-null   object \n",
      " 8   Cars              1000 non-null   int64  \n",
      " 9   Commute Distance  1000 non-null   object \n",
      " 10  Region            998 non-null    object \n",
      " 11  Age               997 non-null    float64\n",
      " 12  Purchased Bike    1000 non-null   object \n",
      "dtypes: float64(1), int64(4), object(8)\n",
      "memory usage: 109.4+ KB\n"
     ]
    }
   ],
   "source": [
    "df.info()"
   ]
  },
  {
   "cell_type": "code",
   "execution_count": 30,
   "metadata": {},
   "outputs": [
    {
     "data": {
      "text/plain": [
       "Index(['ID', 'Marital Status', 'Gender', 'Income', 'Children', 'Education',\n",
       "       'Occupation', 'Home Owner', 'Cars', 'Commute Distance', 'Region', 'Age',\n",
       "       'Purchased Bike'],\n",
       "      dtype='object')"
      ]
     },
     "execution_count": 30,
     "metadata": {},
     "output_type": "execute_result"
    }
   ],
   "source": [
    "df.columns"
   ]
  },
  {
   "cell_type": "code",
   "execution_count": 31,
   "metadata": {},
   "outputs": [],
   "source": [
    "df = df.drop('ID',axis=1)"
   ]
  },
  {
   "cell_type": "code",
   "execution_count": 32,
   "metadata": {},
   "outputs": [
    {
     "data": {
      "text/plain": [
       "Index(['Marital Status', 'Gender', 'Income', 'Children', 'Education',\n",
       "       'Occupation', 'Home Owner', 'Cars', 'Commute Distance', 'Region', 'Age',\n",
       "       'Purchased Bike'],\n",
       "      dtype='object')"
      ]
     },
     "execution_count": 32,
     "metadata": {},
     "output_type": "execute_result"
    }
   ],
   "source": [
    "df.columns"
   ]
  },
  {
   "cell_type": "markdown",
   "metadata": {},
   "source": [
    "Niestety Lasy losowe nie akceptują wartości NaN."
   ]
  },
  {
   "cell_type": "code",
   "execution_count": 33,
   "metadata": {},
   "outputs": [
    {
     "data": {
      "text/plain": [
       "Marital Status      0\n",
       "Gender              0\n",
       "Income              0\n",
       "Children            0\n",
       "Education           0\n",
       "Occupation          0\n",
       "Home Owner          0\n",
       "Cars                0\n",
       "Commute Distance    0\n",
       "Region              2\n",
       "Age                 3\n",
       "Purchased Bike      0\n",
       "dtype: int64"
      ]
     },
     "execution_count": 33,
     "metadata": {},
     "output_type": "execute_result"
    }
   ],
   "source": [
    "df.isnull().sum()"
   ]
  },
  {
   "cell_type": "code",
   "execution_count": 34,
   "metadata": {},
   "outputs": [],
   "source": [
    "from sklearn.impute import SimpleImputer\n",
    "\n",
    "imputer = SimpleImputer(missing_values=np.nan, strategy=\"most_frequent\")\n",
    "Region = imputer.fit_transform(df['Region'].to_numpy().reshape(-1,1)) #musi mieć odpowiedni wymiar [[]], zamiast []\n",
    "\n",
    "imputer = SimpleImputer(missing_values=np.nan, strategy=\"mean\")\n",
    "Age = imputer.fit_transform(df['Age'].to_numpy().reshape(-1,1))"
   ]
  },
  {
   "cell_type": "code",
   "execution_count": 35,
   "metadata": {},
   "outputs": [],
   "source": [
    "df.Region = Region[:,0]\n",
    "df.Age = Age[:,0]"
   ]
  },
  {
   "cell_type": "code",
   "execution_count": 36,
   "metadata": {},
   "outputs": [
    {
     "data": {
      "text/plain": [
       "Marital Status      0\n",
       "Gender              0\n",
       "Income              0\n",
       "Children            0\n",
       "Education           0\n",
       "Occupation          0\n",
       "Home Owner          0\n",
       "Cars                0\n",
       "Commute Distance    0\n",
       "Region              0\n",
       "Age                 0\n",
       "Purchased Bike      0\n",
       "dtype: int64"
      ]
     },
     "execution_count": 36,
     "metadata": {},
     "output_type": "execute_result"
    }
   ],
   "source": [
    "df.isnull().sum()"
   ]
  },
  {
   "cell_type": "markdown",
   "metadata": {},
   "source": [
    "Część klasyfikatów nie akceptuje wartości, które nie są numeryczne."
   ]
  },
  {
   "cell_type": "code",
   "execution_count": 37,
   "metadata": {},
   "outputs": [
    {
     "data": {
      "text/plain": [
       "Index(['Marital Status', 'Gender', 'Income', 'Children', 'Education',\n",
       "       'Occupation', 'Home Owner', 'Cars', 'Commute Distance', 'Region', 'Age',\n",
       "       'Purchased Bike'],\n",
       "      dtype='object')"
      ]
     },
     "execution_count": 37,
     "metadata": {},
     "output_type": "execute_result"
    }
   ],
   "source": [
    "df.columns"
   ]
  },
  {
   "cell_type": "code",
   "execution_count": 38,
   "metadata": {},
   "outputs": [
    {
     "name": "stdout",
     "output_type": "stream",
     "text": [
      "<class 'pandas.core.frame.DataFrame'>\n",
      "Index: 1000 entries, 767 to 952\n",
      "Data columns (total 12 columns):\n",
      " #   Column            Non-Null Count  Dtype  \n",
      "---  ------            --------------  -----  \n",
      " 0   Marital Status    1000 non-null   object \n",
      " 1   Gender            1000 non-null   object \n",
      " 2   Income            1000 non-null   int64  \n",
      " 3   Children          1000 non-null   int64  \n",
      " 4   Education         1000 non-null   object \n",
      " 5   Occupation        1000 non-null   object \n",
      " 6   Home Owner        1000 non-null   object \n",
      " 7   Cars              1000 non-null   int64  \n",
      " 8   Commute Distance  1000 non-null   object \n",
      " 9   Region            1000 non-null   object \n",
      " 10  Age               1000 non-null   float64\n",
      " 11  Purchased Bike    1000 non-null   object \n",
      "dtypes: float64(1), int64(3), object(8)\n",
      "memory usage: 101.6+ KB\n"
     ]
    }
   ],
   "source": [
    "df.info()"
   ]
  },
  {
   "cell_type": "code",
   "execution_count": 39,
   "metadata": {},
   "outputs": [],
   "source": [
    "X = df.drop('Purchased Bike',axis=1)\n",
    "# zamiana wartości typu object (kategorii) na 0 i 1, będą dodatkowe kolumny,\n",
    "X = pd.get_dummies(X)\n",
    "y = df['Purchased Bike']"
   ]
  },
  {
   "cell_type": "code",
   "execution_count": 40,
   "metadata": {},
   "outputs": [
    {
     "data": {
      "text/plain": [
       "Index(['Income', 'Children', 'Cars', 'Age', 'Marital Status_Married',\n",
       "       'Marital Status_Single', 'Gender_Female', 'Gender_Male',\n",
       "       'Education_Bachelors', 'Education_Graduate Degree',\n",
       "       'Education_High School', 'Education_Partial College',\n",
       "       'Education_Partial High School', 'Occupation_Clerical',\n",
       "       'Occupation_Management', 'Occupation_Manual', 'Occupation_Professional',\n",
       "       'Occupation_Skilled Manual', 'Home Owner_No', 'Home Owner_Yes',\n",
       "       'Commute Distance_0-1 Miles', 'Commute Distance_1-2 Miles',\n",
       "       'Commute Distance_10+ Miles', 'Commute Distance_2-5 Miles',\n",
       "       'Commute Distance_5-10 Miles', 'Region_Europe', 'Region_North America',\n",
       "       'Region_Pacific'],\n",
       "      dtype='object')"
      ]
     },
     "execution_count": 40,
     "metadata": {},
     "output_type": "execute_result"
    }
   ],
   "source": [
    "X.columns"
   ]
  },
  {
   "cell_type": "code",
   "execution_count": 41,
   "metadata": {},
   "outputs": [],
   "source": [
    "X_train, X_test, y_train, y_test = train_test_split(X, y, random_state=0, test_size=0.30)"
   ]
  },
  {
   "cell_type": "markdown",
   "metadata": {},
   "source": [
    "### Drzewo decyzyjne"
   ]
  },
  {
   "cell_type": "code",
   "execution_count": 42,
   "metadata": {},
   "outputs": [
    {
     "name": "stdout",
     "output_type": "stream",
     "text": [
      "              precision    recall  f1-score   support\n",
      "\n",
      "          No       0.67      0.69      0.68       157\n",
      "         Yes       0.65      0.62      0.64       143\n",
      "\n",
      "    accuracy                           0.66       300\n",
      "   macro avg       0.66      0.66      0.66       300\n",
      "weighted avg       0.66      0.66      0.66       300\n",
      "\n"
     ]
    }
   ],
   "source": [
    "dtree = DecisionTreeClassifier()\n",
    "dtree.fit(X_train,y_train)\n",
    "dtree_pred = dtree.predict(X_test)\n",
    "\n",
    "print(classification_report(y_test, dtree_pred))"
   ]
  },
  {
   "cell_type": "markdown",
   "metadata": {},
   "source": [
    "### Lasy losowe"
   ]
  },
  {
   "cell_type": "code",
   "execution_count": 43,
   "metadata": {},
   "outputs": [
    {
     "name": "stdout",
     "output_type": "stream",
     "text": [
      "              precision    recall  f1-score   support\n",
      "\n",
      "          No       0.72      0.75      0.74       157\n",
      "         Yes       0.71      0.68      0.70       143\n",
      "\n",
      "    accuracy                           0.72       300\n",
      "   macro avg       0.72      0.71      0.72       300\n",
      "weighted avg       0.72      0.72      0.72       300\n",
      "\n"
     ]
    }
   ],
   "source": [
    "rfc = RandomForestClassifier(n_estimators=100)\n",
    "rfc.fit(X_train,y_train)\n",
    "rfc_pred = rfc.predict(X_test)\n",
    "\n",
    "print(classification_report(y_test, rfc_pred))"
   ]
  },
  {
   "cell_type": "markdown",
   "metadata": {},
   "source": [
    "## Zadanie 3"
   ]
  },
  {
   "cell_type": "markdown",
   "metadata": {},
   "source": [
    "Dla danych Kyphosis określ dokładność w zależności od ilości drzew w algorytmie Random Forest (narysuj wykres)"
   ]
  },
  {
   "cell_type": "code",
   "execution_count": 48,
   "metadata": {},
   "outputs": [],
   "source": [
    "from sklearn.ensemble import RandomForestClassifier\n",
    "from sklearn import metrics\n",
    "from sklearn.metrics import accuracy_score"
   ]
  },
  {
   "cell_type": "code",
   "execution_count": 49,
   "metadata": {},
   "outputs": [],
   "source": [
    "df = pd.read_csv('.\\\\Data\\\\kyphosis.csv')\n",
    "\n",
    "X = df.drop('Kyphosis',axis=1)\n",
    "y = df['Kyphosis']\n",
    "X_train, X_test, y_train, y_test = train_test_split(X, y, random_state=0, test_size=0.30)"
   ]
  },
  {
   "cell_type": "code",
   "execution_count": 50,
   "metadata": {},
   "outputs": [],
   "source": [
    "df_metrics=pd.DataFrame(columns=['n_tree','precission','recall','f1-score','accurancy'])\n",
    "for n_estimators in range(5,201,5):\n",
    "    rfc = RandomForestClassifier(n_estimators=n_estimators)\n",
    "    rfc.fit(X_train, y_train);\n",
    "    y_pred = rfc.predict(X_test)\n",
    "    p, r, f, s = metrics.precision_recall_fscore_support(y_test, y_pred, average='weighted')\n",
    "    a = accuracy_score(y_test, y_pred)\n",
    "    new_row = {'n_tree':n_estimators,'precission':p,'recall':r,'f1-score':f,'accurancy':a}\n",
    "    df_metrics.loc[len(df_metrics)] = new_row"
   ]
  },
  {
   "cell_type": "code",
   "execution_count": 51,
   "metadata": {},
   "outputs": [
    {
     "data": {
      "text/html": [
       "<div>\n",
       "<style scoped>\n",
       "    .dataframe tbody tr th:only-of-type {\n",
       "        vertical-align: middle;\n",
       "    }\n",
       "\n",
       "    .dataframe tbody tr th {\n",
       "        vertical-align: top;\n",
       "    }\n",
       "\n",
       "    .dataframe thead th {\n",
       "        text-align: right;\n",
       "    }\n",
       "</style>\n",
       "<table border=\"1\" class=\"dataframe\">\n",
       "  <thead>\n",
       "    <tr style=\"text-align: right;\">\n",
       "      <th></th>\n",
       "      <th>n_tree</th>\n",
       "      <th>precission</th>\n",
       "      <th>recall</th>\n",
       "      <th>f1-score</th>\n",
       "      <th>accurancy</th>\n",
       "    </tr>\n",
       "  </thead>\n",
       "  <tbody>\n",
       "    <tr>\n",
       "      <th>0</th>\n",
       "      <td>5</td>\n",
       "      <td>0.744000</td>\n",
       "      <td>0.76</td>\n",
       "      <td>0.746316</td>\n",
       "      <td>0.76</td>\n",
       "    </tr>\n",
       "    <tr>\n",
       "      <th>1</th>\n",
       "      <td>10</td>\n",
       "      <td>0.672174</td>\n",
       "      <td>0.72</td>\n",
       "      <td>0.659295</td>\n",
       "      <td>0.72</td>\n",
       "    </tr>\n",
       "    <tr>\n",
       "      <th>2</th>\n",
       "      <td>15</td>\n",
       "      <td>0.792857</td>\n",
       "      <td>0.80</td>\n",
       "      <td>0.780420</td>\n",
       "      <td>0.80</td>\n",
       "    </tr>\n",
       "    <tr>\n",
       "      <th>3</th>\n",
       "      <td>20</td>\n",
       "      <td>0.744000</td>\n",
       "      <td>0.76</td>\n",
       "      <td>0.746316</td>\n",
       "      <td>0.76</td>\n",
       "    </tr>\n",
       "    <tr>\n",
       "      <th>4</th>\n",
       "      <td>25</td>\n",
       "      <td>0.672174</td>\n",
       "      <td>0.72</td>\n",
       "      <td>0.659295</td>\n",
       "      <td>0.72</td>\n",
       "    </tr>\n",
       "  </tbody>\n",
       "</table>\n",
       "</div>"
      ],
      "text/plain": [
       "   n_tree  precission  recall  f1-score  accurancy\n",
       "0       5    0.744000    0.76  0.746316       0.76\n",
       "1      10    0.672174    0.72  0.659295       0.72\n",
       "2      15    0.792857    0.80  0.780420       0.80\n",
       "3      20    0.744000    0.76  0.746316       0.76\n",
       "4      25    0.672174    0.72  0.659295       0.72"
      ]
     },
     "execution_count": 51,
     "metadata": {},
     "output_type": "execute_result"
    }
   ],
   "source": [
    "df_metrics.head()"
   ]
  },
  {
   "cell_type": "code",
   "execution_count": 52,
   "metadata": {},
   "outputs": [
    {
     "data": {
      "text/plain": [
       "<AxesSubplot: xlabel='n_tree'>"
      ]
     },
     "execution_count": 52,
     "metadata": {},
     "output_type": "execute_result"
    },
    {
     "data": {
      "image/png": "[encoded data removed]",
      "text/plain": [
       "<Figure size 640x480 with 1 Axes>"
      ]
     },
     "metadata": {},
     "output_type": "display_data"
    }
   ],
   "source": [
    "df_metrics.plot(x='n_tree', y=['precission','recall','f1-score','accurancy'], kind='line')"
   ]
  },
  {
   "cell_type": "markdown",
   "metadata": {},
   "source": [
    "**Zadanie heart w oddzilenym pliku.**"
   ]
  },
  {
   "cell_type": "code",
   "execution_count": null,
   "metadata": {},
   "outputs": [],
   "source": []
  }
 ],
 "metadata": {
  "kernelspec": {
   "display_name": "Python 3 (ipykernel)",
   "language": "python",
   "name": "python3"
  },
  "language_info": {
   "codemirror_mode": {
    "name": "ipython",
    "version": 3
   },
   "file_extension": ".py",
   "mimetype": "text/x-python",
   "name": "python",
   "nbconvert_exporter": "python",
   "pygments_lexer": "ipython3",
   "version": "3.9.13"
  },
  "toc": {
   "base_numbering": 1,
   "nav_menu": {},
   "number_sections": true,
   "sideBar": true,
   "skip_h1_title": false,
   "title_cell": "Table of Contents",
   "title_sidebar": "Contents",
   "toc_cell": false,
   "toc_position": {},
   "toc_section_display": true,
   "toc_window_display": false
  }
 },
 "nbformat": 4,
 "nbformat_minor": 1
}
