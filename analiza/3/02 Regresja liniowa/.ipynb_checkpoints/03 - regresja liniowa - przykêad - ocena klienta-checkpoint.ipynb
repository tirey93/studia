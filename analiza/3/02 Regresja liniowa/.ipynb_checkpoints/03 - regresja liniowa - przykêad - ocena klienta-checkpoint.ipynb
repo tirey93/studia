{
 "cells": [
  {
   "cell_type": "markdown",
   "metadata": {},
   "source": [
    "# <font color='navy'>Zadanie: Regresja liniowa - przykład oceny klienta</font>\n",
    "\n",
    "<img src=\"./Images/klienci.jpg\" alt=\"Girl in a jacket\" width=\"300\">\n",
    "\n",
    "Gratulacje! Właśnie podpisałeś umowę z firmą e-commerce z siedzibą w Nowym Jorku, która sprzedaje ubrania online, ale mają również sesje doradztwa w zakresie stylu i odzieży w sklepie. Klienci przychodzą do sklepu, mają sesje / spotkania z osobistym stylistą, a następnie mogą iść do domu i zamówić w aplikacji mobilnej lub stronie internetowej na ubrania, które chcą.\n",
    "\n",
    "Firma stara się zdecydować, czy skupić się na swoich doświadczeniach z aplikacji mobilnej, czy na swojej stronie internetowej. Zatrudnili cię na umowę, aby pomóc im to rozgryźć! Zacznijmy!\n",
    "\n",
    "Wystarczy wykonać poniższe czynności, aby przeanalizować dane klienta (jest to fałszywe, nie martw się, nie podałem prawdziwych numerów kart kredytowych ani wiadomości e-mail)."
   ]
  },
  {
   "cell_type": "markdown",
   "metadata": {},
   "source": [
    "## Import"
   ]
  },
  {
   "cell_type": "code",
   "execution_count": 1,
   "metadata": {},
   "outputs": [],
   "source": [
    "import pandas as pd\n",
    "import numpy as np\n",
    "import matplotlib.pyplot as plt\n",
    "import seaborn as sns\n",
    "%matplotlib inline"
   ]
  },
  {
   "cell_type": "markdown",
   "metadata": {},
   "source": [
    "## Pobranie danych\n",
    "\n",
    "Będziemy współpracować z plikiem csv klienta e-commerce od firmy. \n",
    "Ma informacje o kliencie, takie jak adres e-mail, adres i ich kolor Avatara. Następnie ma również kolumny wartości liczbowych:\n",
    "\n",
    "* Avg. Session Length: średnia długość sesji doradztwa w sklepie.\n",
    "* Time on App: średni czas spędzony na aplikacji w minutach\n",
    "* Time on Website: Średni czas spędzony na stronie internetowej w minutach\n",
    "* Length of Membership: ile lat klient jest członkiem.\n",
    "\n",
    "**Pobranie z pliku csv klientów e-commerce jako DataFrame nazwie klientów.**\n",
    "\n"
   ]
  },
  {
   "cell_type": "code",
   "execution_count": 2,
   "metadata": {},
   "outputs": [
    {
     "ename": "FileNotFoundError",
     "evalue": "[Errno 2] No such file or directory: '.\\\\Dane\\\\Ecommerce Customers.csv'",
     "output_type": "error",
     "traceback": [
      "\u001b[1;31m---------------------------------------------------------------------------\u001b[0m",
      "\u001b[1;31mFileNotFoundError\u001b[0m                         Traceback (most recent call last)",
      "\u001b[1;32m~\\AppData\\Local\\Temp\\ipykernel_24780\\3583920328.py\u001b[0m in \u001b[0;36m<module>\u001b[1;34m\u001b[0m\n\u001b[1;32m----> 1\u001b[1;33m \u001b[0mcustomers\u001b[0m \u001b[1;33m=\u001b[0m \u001b[0mpd\u001b[0m\u001b[1;33m.\u001b[0m\u001b[0mread_csv\u001b[0m\u001b[1;33m(\u001b[0m\u001b[1;34m\".\\\\Dane\\\\Ecommerce Customers.csv\"\u001b[0m\u001b[1;33m)\u001b[0m\u001b[1;33m\u001b[0m\u001b[1;33m\u001b[0m\u001b[0m\n\u001b[0m",
      "\u001b[1;32m~\\anaconda3\\lib\\site-packages\\pandas\\io\\parsers\\readers.py\u001b[0m in \u001b[0;36mread_csv\u001b[1;34m(filepath_or_buffer, sep, delimiter, header, names, index_col, usecols, dtype, engine, converters, true_values, false_values, skipinitialspace, skiprows, skipfooter, nrows, na_values, keep_default_na, na_filter, verbose, skip_blank_lines, parse_dates, infer_datetime_format, keep_date_col, date_parser, date_format, dayfirst, cache_dates, iterator, chunksize, compression, thousands, decimal, lineterminator, quotechar, quoting, doublequote, escapechar, comment, encoding, encoding_errors, dialect, on_bad_lines, delim_whitespace, low_memory, memory_map, float_precision, storage_options, dtype_backend)\u001b[0m\n\u001b[0;32m    910\u001b[0m     \u001b[0mkwds\u001b[0m\u001b[1;33m.\u001b[0m\u001b[0mupdate\u001b[0m\u001b[1;33m(\u001b[0m\u001b[0mkwds_defaults\u001b[0m\u001b[1;33m)\u001b[0m\u001b[1;33m\u001b[0m\u001b[1;33m\u001b[0m\u001b[0m\n\u001b[0;32m    911\u001b[0m \u001b[1;33m\u001b[0m\u001b[0m\n\u001b[1;32m--> 912\u001b[1;33m     \u001b[1;32mreturn\u001b[0m \u001b[0m_read\u001b[0m\u001b[1;33m(\u001b[0m\u001b[0mfilepath_or_buffer\u001b[0m\u001b[1;33m,\u001b[0m \u001b[0mkwds\u001b[0m\u001b[1;33m)\u001b[0m\u001b[1;33m\u001b[0m\u001b[1;33m\u001b[0m\u001b[0m\n\u001b[0m\u001b[0;32m    913\u001b[0m \u001b[1;33m\u001b[0m\u001b[0m\n\u001b[0;32m    914\u001b[0m \u001b[1;33m\u001b[0m\u001b[0m\n",
      "\u001b[1;32m~\\anaconda3\\lib\\site-packages\\pandas\\io\\parsers\\readers.py\u001b[0m in \u001b[0;36m_read\u001b[1;34m(filepath_or_buffer, kwds)\u001b[0m\n\u001b[0;32m    575\u001b[0m \u001b[1;33m\u001b[0m\u001b[0m\n\u001b[0;32m    576\u001b[0m     \u001b[1;31m# Create the parser.\u001b[0m\u001b[1;33m\u001b[0m\u001b[1;33m\u001b[0m\u001b[0m\n\u001b[1;32m--> 577\u001b[1;33m     \u001b[0mparser\u001b[0m \u001b[1;33m=\u001b[0m \u001b[0mTextFileReader\u001b[0m\u001b[1;33m(\u001b[0m\u001b[0mfilepath_or_buffer\u001b[0m\u001b[1;33m,\u001b[0m \u001b[1;33m**\u001b[0m\u001b[0mkwds\u001b[0m\u001b[1;33m)\u001b[0m\u001b[1;33m\u001b[0m\u001b[1;33m\u001b[0m\u001b[0m\n\u001b[0m\u001b[0;32m    578\u001b[0m \u001b[1;33m\u001b[0m\u001b[0m\n\u001b[0;32m    579\u001b[0m     \u001b[1;32mif\u001b[0m \u001b[0mchunksize\u001b[0m \u001b[1;32mor\u001b[0m \u001b[0miterator\u001b[0m\u001b[1;33m:\u001b[0m\u001b[1;33m\u001b[0m\u001b[1;33m\u001b[0m\u001b[0m\n",
      "\u001b[1;32m~\\anaconda3\\lib\\site-packages\\pandas\\io\\parsers\\readers.py\u001b[0m in \u001b[0;36m__init__\u001b[1;34m(self, f, engine, **kwds)\u001b[0m\n\u001b[0;32m   1405\u001b[0m \u001b[1;33m\u001b[0m\u001b[0m\n\u001b[0;32m   1406\u001b[0m         \u001b[0mself\u001b[0m\u001b[1;33m.\u001b[0m\u001b[0mhandles\u001b[0m\u001b[1;33m:\u001b[0m \u001b[0mIOHandles\u001b[0m \u001b[1;33m|\u001b[0m \u001b[1;32mNone\u001b[0m \u001b[1;33m=\u001b[0m \u001b[1;32mNone\u001b[0m\u001b[1;33m\u001b[0m\u001b[1;33m\u001b[0m\u001b[0m\n\u001b[1;32m-> 1407\u001b[1;33m         \u001b[0mself\u001b[0m\u001b[1;33m.\u001b[0m\u001b[0m_engine\u001b[0m \u001b[1;33m=\u001b[0m \u001b[0mself\u001b[0m\u001b[1;33m.\u001b[0m\u001b[0m_make_engine\u001b[0m\u001b[1;33m(\u001b[0m\u001b[0mf\u001b[0m\u001b[1;33m,\u001b[0m \u001b[0mself\u001b[0m\u001b[1;33m.\u001b[0m\u001b[0mengine\u001b[0m\u001b[1;33m)\u001b[0m\u001b[1;33m\u001b[0m\u001b[1;33m\u001b[0m\u001b[0m\n\u001b[0m\u001b[0;32m   1408\u001b[0m \u001b[1;33m\u001b[0m\u001b[0m\n\u001b[0;32m   1409\u001b[0m     \u001b[1;32mdef\u001b[0m \u001b[0mclose\u001b[0m\u001b[1;33m(\u001b[0m\u001b[0mself\u001b[0m\u001b[1;33m)\u001b[0m \u001b[1;33m->\u001b[0m \u001b[1;32mNone\u001b[0m\u001b[1;33m:\u001b[0m\u001b[1;33m\u001b[0m\u001b[1;33m\u001b[0m\u001b[0m\n",
      "\u001b[1;32m~\\anaconda3\\lib\\site-packages\\pandas\\io\\parsers\\readers.py\u001b[0m in \u001b[0;36m_make_engine\u001b[1;34m(self, f, engine)\u001b[0m\n\u001b[0;32m   1659\u001b[0m                 \u001b[1;32mif\u001b[0m \u001b[1;34m\"b\"\u001b[0m \u001b[1;32mnot\u001b[0m \u001b[1;32min\u001b[0m \u001b[0mmode\u001b[0m\u001b[1;33m:\u001b[0m\u001b[1;33m\u001b[0m\u001b[1;33m\u001b[0m\u001b[0m\n\u001b[0;32m   1660\u001b[0m                     \u001b[0mmode\u001b[0m \u001b[1;33m+=\u001b[0m \u001b[1;34m\"b\"\u001b[0m\u001b[1;33m\u001b[0m\u001b[1;33m\u001b[0m\u001b[0m\n\u001b[1;32m-> 1661\u001b[1;33m             self.handles = get_handle(\n\u001b[0m\u001b[0;32m   1662\u001b[0m                 \u001b[0mf\u001b[0m\u001b[1;33m,\u001b[0m\u001b[1;33m\u001b[0m\u001b[1;33m\u001b[0m\u001b[0m\n\u001b[0;32m   1663\u001b[0m                 \u001b[0mmode\u001b[0m\u001b[1;33m,\u001b[0m\u001b[1;33m\u001b[0m\u001b[1;33m\u001b[0m\u001b[0m\n",
      "\u001b[1;32m~\\anaconda3\\lib\\site-packages\\pandas\\io\\common.py\u001b[0m in \u001b[0;36mget_handle\u001b[1;34m(path_or_buf, mode, encoding, compression, memory_map, is_text, errors, storage_options)\u001b[0m\n\u001b[0;32m    857\u001b[0m         \u001b[1;32mif\u001b[0m \u001b[0mioargs\u001b[0m\u001b[1;33m.\u001b[0m\u001b[0mencoding\u001b[0m \u001b[1;32mand\u001b[0m \u001b[1;34m\"b\"\u001b[0m \u001b[1;32mnot\u001b[0m \u001b[1;32min\u001b[0m \u001b[0mioargs\u001b[0m\u001b[1;33m.\u001b[0m\u001b[0mmode\u001b[0m\u001b[1;33m:\u001b[0m\u001b[1;33m\u001b[0m\u001b[1;33m\u001b[0m\u001b[0m\n\u001b[0;32m    858\u001b[0m             \u001b[1;31m# Encoding\u001b[0m\u001b[1;33m\u001b[0m\u001b[1;33m\u001b[0m\u001b[0m\n\u001b[1;32m--> 859\u001b[1;33m             handle = open(\n\u001b[0m\u001b[0;32m    860\u001b[0m                 \u001b[0mhandle\u001b[0m\u001b[1;33m,\u001b[0m\u001b[1;33m\u001b[0m\u001b[1;33m\u001b[0m\u001b[0m\n\u001b[0;32m    861\u001b[0m                 \u001b[0mioargs\u001b[0m\u001b[1;33m.\u001b[0m\u001b[0mmode\u001b[0m\u001b[1;33m,\u001b[0m\u001b[1;33m\u001b[0m\u001b[1;33m\u001b[0m\u001b[0m\n",
      "\u001b[1;31mFileNotFoundError\u001b[0m: [Errno 2] No such file or directory: '.\\\\Dane\\\\Ecommerce Customers.csv'"
     ]
    }
   ],
   "source": [
    "customers = pd.read_csv(\".\\\\Dane\\\\Ecommerce Customers.csv\")"
   ]
  },
  {
   "cell_type": "markdown",
   "metadata": {},
   "source": [
    "**Przejrzenie danych, metody info() i describe().**"
   ]
  },
  {
   "cell_type": "code",
   "execution_count": null,
   "metadata": {},
   "outputs": [],
   "source": [
    "customers.head()"
   ]
  },
  {
   "cell_type": "code",
   "execution_count": null,
   "metadata": {},
   "outputs": [],
   "source": [
    "customers.describe()"
   ]
  },
  {
   "cell_type": "code",
   "execution_count": null,
   "metadata": {},
   "outputs": [],
   "source": [
    "customers.info()"
   ]
  },
  {
   "cell_type": "markdown",
   "metadata": {},
   "source": [
    "## EDA - eksploracyjna analiza danych\n",
    "\n",
    "Przez resztę ćwiczenia będziemy używać tylko danych liczbowych pliku csv.\n",
    "\n",
    "**Użyj seaborn, aby utworzyć tabelę łączącą, aby porównać kolumny Czas spędzony w witrynie i Roczne wydatki. \n",
    "Czy korelacja ma sens?**"
   ]
  },
  {
   "cell_type": "code",
   "execution_count": null,
   "metadata": {},
   "outputs": [],
   "source": [
    "sns.set_palette(\"Set2\")\n",
    "sns.set_style('whitegrid')"
   ]
  },
  {
   "cell_type": "code",
   "execution_count": null,
   "metadata": {},
   "outputs": [],
   "source": [
    "# Więcej czasu na stronie, więcej wydanych pieniędzy.\n",
    "sns.jointplot(x='Time on Website',y='Yearly Amount Spent',data=customers)"
   ]
  },
  {
   "cell_type": "markdown",
   "metadata": {},
   "source": [
    "**A jak wygląda w tym konteście czas w aplikacji.**"
   ]
  },
  {
   "cell_type": "code",
   "execution_count": null,
   "metadata": {},
   "outputs": [],
   "source": [
    "sns.jointplot(x='Time on App',y='Yearly Amount Spent',data=customers)"
   ]
  },
  {
   "cell_type": "markdown",
   "metadata": {},
   "source": [
    "**Lub trochę inaczej:**"
   ]
  },
  {
   "cell_type": "code",
   "execution_count": null,
   "metadata": {},
   "outputs": [],
   "source": [
    "sns.jointplot(x='Time on App',y='Length of Membership',kind='hex',data=customers)"
   ]
  },
  {
   "cell_type": "markdown",
   "metadata": {},
   "source": [
    "**Następnie analiza parami.**\n",
    "Więcej o formatowaniu: [pairplot](https://stanford.edu/~mwaskom/software/seaborn/tutorial/axis_grids.html#plotting-pairwise-relationships-with-pairgrid-and-pairplot)."
   ]
  },
  {
   "cell_type": "code",
   "execution_count": null,
   "metadata": {},
   "outputs": [],
   "source": [
    "sns.pairplot(customers)"
   ]
  },
  {
   "cell_type": "markdown",
   "metadata": {},
   "source": [
    "**Opierając się na tym wykresie, co wydaje się być najbardziej skorelowany z cechą rocznej wydanej kwoty (Yearly Amount Spent)?**"
   ]
  },
  {
   "cell_type": "code",
   "execution_count": null,
   "metadata": {},
   "outputs": [],
   "source": [
    "# Długość członkowstwa (Length of Membership)"
   ]
  },
  {
   "cell_type": "markdown",
   "metadata": {},
   "source": [
    "**Stwórzmy liniowy wykres tej zależności (seaborn: lmplot) - Yearly Amount Spent vs. Length of Membership.**"
   ]
  },
  {
   "cell_type": "code",
   "execution_count": null,
   "metadata": {},
   "outputs": [],
   "source": [
    "sns.lmplot(x='Length of Membership',y='Yearly Amount Spent',data=customers)"
   ]
  },
  {
   "cell_type": "markdown",
   "metadata": {},
   "source": [
    "Analiza regresji ma za zadanie znaleźć funkcyjną zależność między d zmiennymi objaśniającymi a zmienną objaśnianą, która jest typu ciągłego.\n",
    "Regresja liniowa\n",
    "Współczynnik korelacji liniowej Pearsona r między parą zmiennych (xi, xj) określony wzorem....\n",
    "\\begin{equation*}\n",
    "r\\left( x_i, y_j \\right) = \\frac{1}{(n - 1)}  \\sum_{k=1}^n \\frac{x_i^{(k)}-\\overline{x}_i}{(S_{x_i})}\\frac{x_j^{(k)}-\\overline{x}_j}{(S_{x_j})}\n",
    "\\end{equation*}\n",
    "\n",
    "gdzie $S_{x_i}$ oraz $S_{x_j}$ oznaczają odchylenia standardowe, a $\\overline{x}_i$ i $\\overline{x}_j$ - średnie arytmetyczne. \n",
    "\n",
    "Wiadomo, że jeśli r jest bliskie 1 lub -1, to istnieje silna, odpowiednio, dodatnia lub ujemna zależność liniowa między parą zmiennych. Wyznaczmy wartości r dla wszystkich par zmiennych ilościowch:"
   ]
  },
  {
   "cell_type": "code",
   "execution_count": null,
   "metadata": {},
   "outputs": [],
   "source": [
    "num_columns = customers.select_dtypes(include=np.number).columns.tolist()\n",
    "c=customers[num_columns].corr(\"pearson\")\n",
    "c"
   ]
  },
  {
   "cell_type": "markdown",
   "metadata": {},
   "source": [
    "Współczynnik korelacji Spearmana służy do badania zależności między danymi. Współczynnik korelacji Spearmana mierzy dowolną monotoniczną zależność. Współczynnik korelacji Spearmana jest ogólniejszy od współczynnika korelacji Pearsona, który mierzy tylko zależność liniową."
   ]
  },
  {
   "cell_type": "code",
   "execution_count": null,
   "metadata": {},
   "outputs": [],
   "source": [
    "cs=customers[num_columns].corr(\"spearman\")\n",
    "cs"
   ]
  },
  {
   "cell_type": "markdown",
   "metadata": {},
   "source": [
    "Dla naszych danych, te współczynniki powinny być zbliżone."
   ]
  },
  {
   "cell_type": "markdown",
   "metadata": {},
   "source": [
    "## Przygotowanie danych\n",
    "\n",
    "Po przeanalizowaniu danych, podzielmy dane na zestawy szkoleniowe i testowe.\n",
    "\n",
    "**Ustaw zmienną X równą numerycznym cechom klientów i zmienną y równą kolumnie \"Roczne wydatki wydane\" (Yearly Amount Spent).**"
   ]
  },
  {
   "cell_type": "code",
   "execution_count": null,
   "metadata": {},
   "outputs": [],
   "source": [
    "y = customers['Yearly Amount Spent']"
   ]
  },
  {
   "cell_type": "code",
   "execution_count": null,
   "metadata": {},
   "outputs": [],
   "source": [
    "X = customers[['Avg. Session Length', 'Time on App','Time on Website', 'Length of Membership']]"
   ]
  },
  {
   "cell_type": "markdown",
   "metadata": {},
   "source": [
    "**Użyj modelu_selection.train_test_split ze sklearn, aby podzielić dane na zestawy szkoleniowe i testowe. Ustaw test_size = 0,3 i random_state = 101**"
   ]
  },
  {
   "cell_type": "code",
   "execution_count": null,
   "metadata": {},
   "outputs": [],
   "source": [
    "from sklearn.model_selection import train_test_split"
   ]
  },
  {
   "cell_type": "code",
   "execution_count": null,
   "metadata": {},
   "outputs": [],
   "source": [
    "X_train, X_test, y_train, y_test = train_test_split(X, y, test_size=0.3, random_state=101)"
   ]
  },
  {
   "cell_type": "markdown",
   "metadata": {},
   "source": [
    "## Tworzenie modelu\n",
    "\n",
    "Teraz czas na szkolenie naszego modelu na naszych danych treningowych!\n",
    "\n",
    "**Importuj LinearRegression ze sklearn.linear_model.**"
   ]
  },
  {
   "cell_type": "code",
   "execution_count": null,
   "metadata": {},
   "outputs": [],
   "source": [
    "from sklearn.linear_model import LinearRegression"
   ]
  },
  {
   "cell_type": "markdown",
   "metadata": {},
   "source": [
    "**Utwórz instancję modelu o nazwie LinearRegression () o nazwie lm.**"
   ]
  },
  {
   "cell_type": "code",
   "execution_count": null,
   "metadata": {},
   "outputs": [],
   "source": [
    "lm = LinearRegression()"
   ]
  },
  {
   "cell_type": "markdown",
   "metadata": {},
   "source": [
    "**Wytrenuj model na podstawie danych treningowych.**"
   ]
  },
  {
   "cell_type": "code",
   "execution_count": null,
   "metadata": {},
   "outputs": [],
   "source": [
    "lm.fit(X_train,y_train);"
   ]
  },
  {
   "cell_type": "markdown",
   "metadata": {},
   "source": [
    "**Przedstaw współczynniki modelu**"
   ]
  },
  {
   "cell_type": "code",
   "execution_count": null,
   "metadata": {},
   "outputs": [],
   "source": [
    "# The coefficients # opis dalej, w ocenie modelu\n",
    "print('Coefficients: \\n', lm.coef_)"
   ]
  },
  {
   "cell_type": "markdown",
   "metadata": {},
   "source": [
    "## Przewidywanie danych testowych\n",
    "\n",
    "Teraz, gdy dopasowaliśmy nasz model, oceńmy jego wydajność, przewidując wartości testowe!\n",
    "\n",
    "**Użyj lm.predict (), aby przewidzieć wynik dla zestawu danych X_test.**"
   ]
  },
  {
   "cell_type": "code",
   "execution_count": null,
   "metadata": {},
   "outputs": [],
   "source": [
    "predictions = lm.predict( X_test)"
   ]
  },
  {
   "cell_type": "markdown",
   "metadata": {},
   "source": [
    "**Utwórz wykres rozproszenia rzeczywistych wartości testowych w stosunku do przewidywanych wartości.**"
   ]
  },
  {
   "cell_type": "code",
   "execution_count": null,
   "metadata": {},
   "outputs": [],
   "source": [
    "plt.scatter(y_test,predictions)\n",
    "plt.xlabel('Y Test')\n",
    "plt.ylabel('Predicted Y')"
   ]
  },
  {
   "cell_type": "markdown",
   "metadata": {},
   "source": [
    "## Ocena metryczna modelu regresji\n",
    "\n",
    "Oto trzy typowe wskaźniki oceny problemów regresji:\n",
    "\n",
    "**Mean Absolute Error** (MAE) średnia z modułów różnic:\n",
    "\n",
    "$$\\frac 1n\\sum_{i=1}^n|y_i-\\hat{y}_i|$$\n",
    "\n",
    "**Mean Squared Error** (MSE) błąd śreniokwadratowy:\n",
    "\n",
    "$$\\frac 1n\\sum_{i=1}^n(y_i-\\hat{y}_i)^2$$\n",
    "\n",
    "**Root Mean Squared Error** (RMSE) pierwiastek błędu średniokwadratowego:\n",
    "\n",
    "$$\\sqrt{\\frac 1n\\sum_{i=1}^n(y_i-\\hat{y}_i)^2}$$\n",
    "\n",
    "Porównanie:\n",
    "\n",
    "- **MAE** jest najłatwiejszy do zrozumienia, ponieważ jest to średni błąd.\n",
    "- **MSE** jest bardziej popularny niż MAE, ponieważ MSE \"uwypukla\" większe błędy, które wydają się być przydatne w realnym świecie.\n",
    "- **RMSE** jest jeszcze bardziej popularny niż MSE, ponieważ RMSE można interpretować w jednostkach \"y\".\n",
    "\n",
    "Wszystkie te funkcje chcemy zminimalizować."
   ]
  },
  {
   "cell_type": "markdown",
   "metadata": {},
   "source": [
    "## Ewaluacja modelu\n",
    "\n",
    "Oceńmy wydajność naszego modelu, obliczając resztkową sumę kwadratów i współczynnik determinacji (R ^ 2).\n",
    "\n",
    "**Oblicz MAE, MSE, RMSE**"
   ]
  },
  {
   "cell_type": "code",
   "execution_count": null,
   "metadata": {},
   "outputs": [],
   "source": [
    "# calculate these metrics by hand!\n",
    "from sklearn import metrics\n",
    "\n",
    "print('MAE:', metrics.mean_absolute_error(y_test, predictions))\n",
    "print('MSE:', metrics.mean_squared_error(y_test, predictions))\n",
    "print('RMSE:', np.sqrt(metrics.mean_squared_error(y_test, predictions)))"
   ]
  },
  {
   "cell_type": "markdown",
   "metadata": {},
   "source": [
    "## Odchylenia\n",
    "\n",
    "Powinieneś dostać bardzo dobry model z dobrym dopasowaniem. Szybko zbadaj odchylenia, aby upewnić się, że wszystko jest w porządku z naszymi danymi.\n",
    "\n",
    "**Sporządź histogram odchyleń i upewnij się, że wygląda jak rozkład normalny. Użyj seaborn distplot (histplot), lub po prostu plt.hist ().**"
   ]
  },
  {
   "cell_type": "code",
   "execution_count": null,
   "metadata": {},
   "outputs": [],
   "source": [
    "# displot nadal działa, jednak należy rozważyć wykorzystanie innej funkcji\n",
    "# `distplot` is a deprecated function and will be removed in seaborn v0.14.0.\n",
    "# https://gist.github.com/mwaskom/de44147ed2974457ad6372750bbe5751\n",
    "sns.distplot((y_test-predictions),bins=50);"
   ]
  },
  {
   "cell_type": "code",
   "execution_count": null,
   "metadata": {},
   "outputs": [],
   "source": [
    "sns.histplot(data=(y_test-predictions),bins=50,kde=True)"
   ]
  },
  {
   "cell_type": "markdown",
   "metadata": {},
   "source": [
    "## Podsumowanie\n",
    "\n",
    "Nadal chcemy znaleźć odpowiedź na oryginalne pytanie, czy koncentrujemy się na działaniach mobilnych czy tworzeniu witryn? A może to nie ma znaczenia, a czas członkostwa jest bardzo ważny. Zobaczmy, czy możemy w ogóle interpretować współczynniki, aby uzyskać pomysł.\n",
    "\n",
    "**Utworzyć ramkę danych poniżej.**"
   ]
  },
  {
   "cell_type": "code",
   "execution_count": null,
   "metadata": {},
   "outputs": [],
   "source": [
    "coeffecients = pd.DataFrame(lm.coef_,X.columns)\n",
    "coeffecients.columns = ['Coeffecient']\n",
    "coeffecients"
   ]
  },
  {
   "cell_type": "markdown",
   "metadata": {},
   "source": [
    "**Jak można interpretować te współczynniki?**"
   ]
  },
  {
   "cell_type": "markdown",
   "metadata": {},
   "source": [
    "Interpretacja współczynników:\n",
    "\n",
    "- Utrzymując wszystkie pozostałe cechy bez zmian, wzrost o 1 jednostkę w **Avg. Session Length** (Śr. Długość sesji) wiąże się z **wzrostem o 25,98 wydanych USD**.\n",
    "- Utrzymując wszystkie pozostałe cechy bez zmian, wzrost o 1 jednostkę w **Time on App** (Czas na aplikację) wiąże się z **wzrostem o 38,59 wydanych USD**.\n",
    "- Utrzymując wszystkie pozostałe cechy bez zmian, wzrost o 1 jednostkę w **Time on Website** (Czas na stronie) wiąże się z **wzrostem o 0,19 USD wydanych USD**.\n",
    "- Utrzymując wszystkie pozostałe cechy bez zmian, wzrost o 1 jednostkę w **Length of Membership** (Długość członkostwa) wiąże się z **wzrostem o 61,27 wydanych USD**.\n"
   ]
  },
  {
   "cell_type": "markdown",
   "metadata": {},
   "source": [
    "**Czy uważasz, że firma powinna bardziej skupić się na swojej aplikacji mobilnej lub na swojej stronie internetowej?**"
   ]
  },
  {
   "cell_type": "markdown",
   "metadata": {},
   "source": [
    "\n",
    "Jest to trudne, istnieją dwa sposoby, aby o tym pomyśleć: zaprojektuj stronę internetową, aby nadrobić zaległości w działaniu aplikacji mobilnej lub rozbuduj aplikację, ponieważ działa to lepiej. Taka odpowiedź naprawdę zależy od innych czynników występujących w firmie. Prawdopodobnie chciałbyś zbadać związek między Długością członkostwa a aplikacją lub witryną zanim dojdziesz do wniosku!\n"
   ]
  }
 ],
 "metadata": {
  "kernelspec": {
   "display_name": "Python 3 (ipykernel)",
   "language": "python",
   "name": "python3"
  },
  "language_info": {
   "codemirror_mode": {
    "name": "ipython",
    "version": 3
   },
   "file_extension": ".py",
   "mimetype": "text/x-python",
   "name": "python",
   "nbconvert_exporter": "python",
   "pygments_lexer": "ipython3",
   "version": "3.9.13"
  },
  "toc": {
   "base_numbering": 1,
   "nav_menu": {},
   "number_sections": true,
   "sideBar": true,
   "skip_h1_title": false,
   "title_cell": "Table of Contents",
   "title_sidebar": "Contents",
   "toc_cell": false,
   "toc_position": {},
   "toc_section_display": true,
   "toc_window_display": false
  }
 },
 "nbformat": 4,
 "nbformat_minor": 1
}
