{
 "cells": [
  {
   "cell_type": "markdown",
   "metadata": {},
   "source": [
    "# Regresja liniowa"
   ]
  },
  {
   "cell_type": "markdown",
   "metadata": {},
   "source": [
    "Regresja to proces nadzorowanego uczenia maszynowego, podobny do klasyfikacji, jednak polegający na prognozowaniu ciągłych wartości, a nie etykiet.\n",
    "Jeżeli celem analizy jest prognozowanie liczb, należy stosować regresję.\n",
    "\n",
    "Jak się okazuje, wiele modeli klasyfikacyjnych udostępnianych przez bibliotekę sklearn można wykorzystywać do rozwiązywania problemów regresyjnych. Udostępniany jest ten sam interfejs API składający się z metod fit, score i predict. Tak samo jest w przypadku wzmacniających bibliotek nowej generacji XGBoost i LightGBM.\n",
    "\n",
    "Jakość modeli regresyjnych, pomimo ich podobieństw do modeli klasyfikacyjnych i hiperparametrów, ocenia się z użyciem innych wskaźników."
   ]
  },
  {
   "cell_type": "markdown",
   "metadata": {},
   "source": [
    "Regresyjny model odniesienia stanowi bazę, z którą porównywane są inne modele. Domyślnym wynikiem metody score z biblioteki sklearn jest współczynnik determinacji (oznaczany jako r2 lub R2). Jest to stopień, w jakim zmienność danych wejściowych przekłada się na zmienność prognozowanych wyników. Zazwyczaj współczynnik ten przyjmuje wartości z przedziału od 0 do 1, choć w przypadku szczególnie złych modeli może być liczbą ujemną."
   ]
  },
  {
   "cell_type": "markdown",
   "metadata": {
    "colab_type": "text",
    "id": "O0beFDfiWD97"
   },
   "source": [
    "## Wprowadzenie\n",
    "\n",
    "Zdefiniujmy:\n",
    "- $X_1, X_2, ..., X_n$ - zmienne niezależne (nasze dane do modelu)\n",
    "- $Y$ - zmienna docelowa\n",
    "- $y_{true}$ - wartość rzeczywista\n",
    "- $y_{pred}$ - wartość przewidziana przez model\n",
    "- $w_0, w_1,...,w_n$ - wagi do modelu (podlegaja uczeniu)\n",
    "\n",
    "W tym modelu zakłada się. ze wartość przewidywana $y_{pred}$ może być liniową kombinacją zmiennych niezależnych. Ogólna postac modelu:\n",
    "\n",
    ">  $$y_{pred}(W, X) = w_0 + w_1X_1 + ... + w_nX_n$$\n",
    ">  $$Y = XW$$\n",
    "\n",
    "gdzie:\n",
    ">  $X = \\begin{pmatrix} 1 & X_1 & X_2 & \\dots & X_n\\end{pmatrix}$,  $W = \\begin{pmatrix} w_{0} \\\\  w_{1}  \\\\ \\dots \\\\ w_{n}\\end{pmatrix}$\n",
    "\n",
    "Wprowadźmy oznaczenia:\n",
    "- $w = (w_1,...w_n)$ jako `coef_`\n",
    "- $w_0$ jako `intercept_`\n",
    "\n",
    "Regresja Liniowa polega na takim dopasowaniu wag $w_0, w_1,...,w_n$ by zminimalizować funkcję kosztu(cost function):\n",
    ">$$||XW-Y||_{2}^{2} \\rightarrow min$$  \n",
    "\n",
    "Przykład w $R^2$:  \n",
    "$Y=w_0 + w_1X_1$\n",
    "\n",
    "Przykład w $R^3$:  \n",
    "$Y=w_0 + w_1X_1 + w_2X_2$\n",
    "\n",
    "\n"
   ]
  },
  {
   "cell_type": "markdown",
   "metadata": {
    "colab_type": "text",
    "id": "g9TFJqBl6zsj"
   },
   "source": [
    "**Podstawowe założenia regresji liniowej**\n",
    "\n",
    "* mamy zależność liniową\n",
    "* wariancja reszt jest taka sama dla wszystkich obserwacji\n",
    "* brak współliniowości (żaden z predyktorów nie stanowi kombinacji liniowej innych predyktorów)"
   ]
  },
  {
   "cell_type": "markdown",
   "metadata": {
    "colab_type": "text",
    "id": "peQ6zK3Vf6bL"
   },
   "source": [
    "## Przykładowe dane\n",
    "### Wygenerowanie danych\n",
    "\n",
    "Przykład w $R^2$:  \n",
    "$Y=w_0 + w_1X_1$"
   ]
  },
  {
   "cell_type": "code",
   "execution_count": 1,
   "metadata": {
    "colab": {
     "base_uri": "https://localhost:8080/",
     "height": 51
    },
    "colab_type": "code",
    "id": "hkcj5Yb_VhrK",
    "outputId": "6961388f-04ad-4930-c673-10c29a3f4a7f"
   },
   "outputs": [
    {
     "name": "stdout",
     "output_type": "stream",
     "text": [
      "Rozmiar X: (100, 1)\n",
      "Rozmiar y: (100,)\n"
     ]
    }
   ],
   "source": [
    "import numpy as np\n",
    "np.random.seed(10)\n",
    "\n",
    "X = np.arange(0, 50, 0.5)\n",
    "noise = 10 * np.random.randn(100)\n",
    "y = 2 * X + 100 + noise\n",
    "X = X.reshape(-1, 1)\n",
    "\n",
    "print('Rozmiar X:',X.shape)\n",
    "print('Rozmiar y:', y.shape)"
   ]
  },
  {
   "cell_type": "markdown",
   "metadata": {
    "colab_type": "text",
    "id": "mFgAtdiUknXb"
   },
   "source": [
    "### Podział danych na zbiór treningowy i testowy"
   ]
  },
  {
   "cell_type": "code",
   "execution_count": 2,
   "metadata": {
    "colab": {
     "base_uri": "https://localhost:8080/",
     "height": 86
    },
    "colab_type": "code",
    "id": "dOEYo3hCkq_z",
    "outputId": "fc56459f-c960-431c-c634-2f7143781949"
   },
   "outputs": [],
   "source": [
    "from sklearn.model_selection import train_test_split\n",
    "\n",
    "X_train, X_test, y_train, y_test = train_test_split(X, y, test_size=0.25)"
   ]
  },
  {
   "cell_type": "markdown",
   "metadata": {
    "colab_type": "text",
    "id": "oopABUY3f93i"
   },
   "source": [
    "### Wizualizacja"
   ]
  },
  {
   "cell_type": "code",
   "execution_count": 3,
   "metadata": {
    "colab": {
     "base_uri": "https://localhost:8080/",
     "height": 356
    },
    "colab_type": "code",
    "id": "c74espDVe-Wj",
    "outputId": "44a15d52-49c9-41a2-cacd-106ce822dce0"
   },
   "outputs": [
    {
     "data": {
      "text/plain": [
       "<matplotlib.legend.Legend at 0x26938713d60>"
      ]
     },
     "execution_count": 3,
     "metadata": {},
     "output_type": "execute_result"
    },
    {
     "data": {
      "image/png": "[encoded data removed]",
      "text/plain": [
       "<Figure size 600x400 with 1 Axes>"
      ]
     },
     "metadata": {},
     "output_type": "display_data"
    }
   ],
   "source": [
    "import matplotlib.pyplot as plt\n",
    "import seaborn as sns\n",
    "sns.set()\n",
    "\n",
    "plt.figure(figsize=(6, 4))\n",
    "plt.scatter(X_train, y_train, c='b', label='Zbiór treningowy')\n",
    "plt.scatter(X_test, y_test, c='g', label='Zbiór testowy')\n",
    "plt.xlabel('X')\n",
    "plt.ylabel('y')\n",
    "plt.legend()"
   ]
  },
  {
   "cell_type": "markdown",
   "metadata": {
    "colab_type": "text",
    "id": "sNdzJ6cRpu6T"
   },
   "source": [
    "## Regresja liniowa - model"
   ]
  },
  {
   "cell_type": "code",
   "execution_count": 4,
   "metadata": {
    "colab": {
     "base_uri": "https://localhost:8080/",
     "height": 51
    },
    "colab_type": "code",
    "id": "CxMuN3E4fTWJ",
    "outputId": "c400edf1-a99c-436b-caa6-14c2daa4cbba"
   },
   "outputs": [
    {
     "name": "stdout",
     "output_type": "stream",
     "text": [
      "[1.93438329]\n",
      "101.86187237393074\n"
     ]
    }
   ],
   "source": [
    "from sklearn.linear_model import LinearRegression\n",
    "\n",
    "lin_reg = LinearRegression()\n",
    "lin_reg.fit(X_train, y_train)\n",
    "\n",
    "print(lin_reg.coef_)\n",
    "print(lin_reg.intercept_)"
   ]
  },
  {
   "cell_type": "markdown",
   "metadata": {
    "colab_type": "text",
    "id": "aFC7wSpmmbT1"
   },
   "source": [
    "Rozwiązaniem jest prosta o postaci:\n",
    "$Y=101.86 + 1.93\\cdot X_1$   "
   ]
  },
  {
   "cell_type": "markdown",
   "metadata": {
    "colab_type": "text",
    "id": "aFC7wSpmmbT1"
   },
   "source": [
    "### Wizualizacja zbioru treningowego i dopasowanego modelu"
   ]
  },
  {
   "cell_type": "code",
   "execution_count": 5,
   "metadata": {
    "colab": {
     "base_uri": "https://localhost:8080/",
     "height": 372
    },
    "colab_type": "code",
    "id": "Lsaj34safVTY",
    "outputId": "21cf81e1-3f92-442a-b3fb-2c5ef12a4299"
   },
   "outputs": [
    {
     "data": {
      "text/plain": [
       "<matplotlib.legend.Legend at 0x2693a9d20a0>"
      ]
     },
     "execution_count": 5,
     "metadata": {},
     "output_type": "execute_result"
    },
    {
     "data": {
      "image/png": "[encoded data removed]",
      "text/plain": [
       "<Figure size 600x400 with 1 Axes>"
      ]
     },
     "metadata": {},
     "output_type": "display_data"
    }
   ],
   "source": [
    "plt.figure(figsize=(6, 4))\n",
    "plt.title('Regresja Liniowa - jedna zmienna')\n",
    "plt.scatter(X_train, y_train, c='b', label='Zbiór treningowy')\n",
    "plt.plot(X, lin_reg.intercept_ + lin_reg.coef_[0] * X, c='red')\n",
    "plt.xlabel('X')\n",
    "plt.ylabel('y')\n",
    "plt.legend()"
   ]
  },
  {
   "cell_type": "markdown",
   "metadata": {
    "colab_type": "text",
    "id": "EpmSbc4Xm92m"
   },
   "source": [
    "###  Wizualizacja zbioru testowego i dopasowanego modelu"
   ]
  },
  {
   "cell_type": "code",
   "execution_count": 6,
   "metadata": {
    "colab": {
     "base_uri": "https://localhost:8080/",
     "height": 372
    },
    "colab_type": "code",
    "id": "N00QTIDtnFCV",
    "outputId": "a0e4e415-0483-4d13-ffb9-be96b56e9c3f"
   },
   "outputs": [
    {
     "data": {
      "text/plain": [
       "<matplotlib.legend.Legend at 0x2693b22b190>"
      ]
     },
     "execution_count": 6,
     "metadata": {},
     "output_type": "execute_result"
    },
    {
     "data": {
      "image/png": "[encoded data removed]",
      "text/plain": [
       "<Figure size 600x400 with 1 Axes>"
      ]
     },
     "metadata": {},
     "output_type": "display_data"
    }
   ],
   "source": [
    "y_pred = lin_reg.predict(X_test)\n",
    "plt.figure(figsize=(6, 4))\n",
    "plt.title('Regresja Liniowa - jedna zmienna')\n",
    "plt.scatter(X_test, y_test, c='g', label='Zbiór testowy')\n",
    "plt.plot(X, lin_reg.intercept_ + lin_reg.coef_[0] * X, c='red')\n",
    "plt.xlabel('X')\n",
    "plt.ylabel('y')\n",
    "plt.legend()"
   ]
  },
  {
   "cell_type": "markdown",
   "metadata": {
    "colab_type": "text",
    "id": "xVT9rxbRj8za"
   },
   "source": [
    "###  Ocena modelu\n",
    "Metoda `score()` zwraca współczynnik determinacji $R^2$  naszej predykcji.\n",
    "\n",
    "Współczynnik determinacji jest zdefiniowany jako:\n",
    "\n",
    "$R^{2} =1 - \\frac{\\sum_{t=1}^{n}(y_{pred, t} - \\bar{y}_{true} )^2}{\\sum_{t=1}^{n}(y_{true, t} - \\bar{y}_{true} )^2}$\n",
    "\n",
    "Współczynnik determinacji jest miarą stopnia dopasowania modelu do próby. Dopasowanie modelu jest tym lepsze im wartość $R^2$ jest bliżej 1."
   ]
  },
  {
   "cell_type": "code",
   "execution_count": 7,
   "metadata": {
    "colab": {
     "base_uri": "https://localhost:8080/",
     "height": 34
    },
    "colab_type": "code",
    "id": "Bhxx8bLgj_0S",
    "outputId": "a4c821c6-6e06-40e9-c9f2-7d9a471cc819"
   },
   "outputs": [
    {
     "data": {
      "text/plain": [
       "0.8773651467468433"
      ]
     },
     "execution_count": 7,
     "metadata": {},
     "output_type": "execute_result"
    }
   ],
   "source": [
    "lin_reg.score(X_test, y_test)"
   ]
  },
  {
   "cell_type": "code",
   "execution_count": 8,
   "metadata": {
    "colab": {},
    "colab_type": "code",
    "id": "IQvG16titmEF"
   },
   "outputs": [],
   "source": [
    "lin_reg.score?"
   ]
  },
  {
   "cell_type": "markdown",
   "metadata": {
    "colab_type": "text",
    "id": "d0uNxKGUjQlv"
   },
   "source": [
    "## Przykład złego zastosowania regresji liniowej"
   ]
  },
  {
   "cell_type": "code",
   "execution_count": 9,
   "metadata": {
    "colab": {
     "base_uri": "https://localhost:8080/",
     "height": 406
    },
    "colab_type": "code",
    "id": "ooqDZvsXiGkq",
    "outputId": "5e5e05cc-5b62-43a0-bc71-d1896695aeb9"
   },
   "outputs": [
    {
     "name": "stdout",
     "output_type": "stream",
     "text": [
      "[-0.97674702]\n",
      "22.30309977402894\n"
     ]
    },
    {
     "data": {
      "text/plain": [
       "Text(0, 0.5, 'y')"
      ]
     },
     "execution_count": 9,
     "metadata": {},
     "output_type": "execute_result"
    },
    {
     "data": {
      "image/png": "[encoded data removed]",
      "text/plain": [
       "<Figure size 700x500 with 1 Axes>"
      ]
     },
     "metadata": {},
     "output_type": "display_data"
    }
   ],
   "source": [
    "X = np.arange(-5, 5, 0.5)\n",
    "noise = 10 * np.random.randn(20)\n",
    "y = 2 * (X ** 2) + 4 + noise\n",
    "X = X.reshape(-1, 1)\n",
    "\n",
    "lin_reg = LinearRegression()\n",
    "lin_reg.fit(X, y)\n",
    "\n",
    "print(lin_reg.coef_)\n",
    "print(lin_reg.intercept_)\n",
    "\n",
    "plt.figure(figsize=(7, 5))\n",
    "plt.title('Regresja Liniowa - jedna zmienna')\n",
    "plt.plot(X, lin_reg.intercept_ + lin_reg.coef_[0] * X, c='red')\n",
    "plt.scatter(X, y)\n",
    "plt.xlabel('X')\n",
    "plt.ylabel('y')"
   ]
  },
  {
   "cell_type": "markdown",
   "metadata": {
    "colab": {},
    "colab_type": "code",
    "id": "OGb55kFe6MhN"
   },
   "source": [
    "# Regresja Wielomianowa - Polynomial Regression\n",
    "\n",
    "Powszechnym wzorcem stosowanym w uczeniu maszynowym jest użycie modeli liniowych wytrenowanych na nieliniowych funkcjach danych. Podejscie to utrzymuje szybkie działanie metod liniowych i zarazem umożliwia stosowanie metod liniowych dla znacznie szerszego zakresu danych.\n",
    "\n",
    "Przykładowo, prosta regresja liniowa może zostać zastosowana przez skonstruowanie cech wielomianowych do modelów nieliniowych.\n",
    "\n",
    "Rozważmy model regresji liniowej:\n",
    "\n",
    "$$\\hat{y}(w, x) = w_0 + w_1 x_1 + w_2 x_2$$\n",
    "\n",
    "Dodając cechy wielomianowe otrzymujemy:\n",
    "\n",
    "$$\\hat{y}(w, x) = w_0 + w_1 x_1 + w_2 x_2 + w_3 x_1 x_2 + w_4 x_1^2 + w_5 x_2^2$$\n",
    "\n",
    "Wyobraźmy sobie teraz następujące podstawienie:\n",
    "\n",
    "$$z = [1, x_1, x_2, x_1 x_2, x_1^2, x_2^2]$$\n",
    "\n",
    "Wrzucając to z powrotem do naszego modelu dotrzymujemy prosty model liniowy:\n",
    "\n",
    "$$\\hat{y}(w, z) = w_0 + w_1 z_1 + w_2 z_2 + w_3 z_3 + w_4 z_4 + w_5 z_5$$\n",
    "\n",
    "To implikuje fakt, iż nasz model regresji wielomianowej znajduje się w klasie modeli liniowych i może być rozwiązany za pomocą tych samych technik. \n",
    "\n",
    "Rozważmy model regresji liniowej: \n",
    "\n",
    "$$\\hat{y}(w,x)=w_0+w_1x_1$$"
   ]
  },
  {
   "cell_type": "code",
   "execution_count": 10,
   "metadata": {},
   "outputs": [
    {
     "data": {
      "image/png": "[encoded data removed]",
      "text/plain": [
       "<Figure size 640x480 with 1 Axes>"
      ]
     },
     "metadata": {},
     "output_type": "display_data"
    }
   ],
   "source": [
    "np.random.seed(0)\n",
    "X = np.arange(-10, 10, 0.5)\n",
    "noise = 80 * np.random.randn(40)\n",
    "y = -X**3 + 10*X**2 - 2*X + 3 + noise\n",
    "X = X.reshape(40, 1)\n",
    "_ = plt.scatter(X, y)"
   ]
  },
  {
   "cell_type": "code",
   "execution_count": 11,
   "metadata": {},
   "outputs": [
    {
     "data": {
      "image/png": "[encoded data removed]",
      "text/plain": [
       "<Figure size 640x480 with 1 Axes>"
      ]
     },
     "metadata": {},
     "output_type": "display_data"
    }
   ],
   "source": [
    "from sklearn.linear_model import LinearRegression\n",
    "\n",
    "regressor = LinearRegression()\n",
    "regressor.fit(X, y)\n",
    "y_pred = regressor.predict(X)\n",
    "\n",
    "plt.scatter(X, y)\n",
    "_ = plt.plot(X, y_pred, c='red')"
   ]
  },
  {
   "cell_type": "code",
   "execution_count": 12,
   "metadata": {},
   "outputs": [
    {
     "data": {
      "text/plain": [
       "0.5398062344255776"
      ]
     },
     "execution_count": 12,
     "metadata": {},
     "output_type": "execute_result"
    }
   ],
   "source": [
    "from sklearn.metrics import r2_score\n",
    "\n",
    "r2_score(y, y_pred)"
   ]
  },
  {
   "cell_type": "markdown",
   "metadata": {},
   "source": [
    "Model jest niedouczony (underfitting). Potrzebujemy zwiekszyć złozoność modelu do naszego problemu."
   ]
  },
  {
   "cell_type": "markdown",
   "metadata": {},
   "source": [
    "## Ekstrakcja cech wielomianowych - stopień 2\n",
    "\n",
    "Rozważmy model regresji liniowej:\n",
    "    \n",
    "$$\\hat{y}(w, x) = w_0 + w_1 x_1$$\n",
    "\n",
    "Dodając cechy wielomianowe otrzymujemy:\n",
    "    \n",
    "$$\\hat{y}(w, x) = w_0 + w_1 x_1 +w_2x_1^2 $$\n",
    "\n",
    "Wyobraźmy sobie teraz nastepujące podstawienie:\n",
    "    \n",
    "$$z = [1, x_1, x_1^2]$$\n",
    "\n",
    "Wrzucając to z powrotem do naszego modelu otrzymujemy prosty model liniowy:\n",
    "    \n",
    "$$\\hat{y}(w, z) = w_0 + w_1 z_1 + w_2 z_2$$"
   ]
  },
  {
   "cell_type": "markdown",
   "metadata": {},
   "source": [
    "**PolynomialFeatures**\n",
    "\n",
    "https://scikit-learn.org/stable/modules/generated/sklearn.preprocessing.PolynomialFeatures.html\n",
    "\n",
    "Generacja cech wielomianowych.\n",
    "Wygeneruj nową macierz cech składającą się ze wszystkich kombinacji wielomianów cech o stopniu mniejszym lub równym określonemu stopniowi. \n",
    "\n",
    "Na przykład, jeśli próbka wejściowa jest dwuwymiarowa i ma postać $[a, b]$, cechy wielomianu stopnia 2 to $[1, a, b, a^2, ab, b^2]$.\n",
    "\n",
    "Jeśli próbka jest jednowymiarowa $[a]$, cechy wielomianu stopnia 2 to $[1,a,a^2]$"
   ]
  },
  {
   "cell_type": "code",
   "execution_count": 13,
   "metadata": {},
   "outputs": [
    {
     "data": {
      "text/plain": [
       "array([[  1.  , -10.  , 100.  ],\n",
       "       [  1.  ,  -9.5 ,  90.25],\n",
       "       [  1.  ,  -9.  ,  81.  ],\n",
       "       [  1.  ,  -8.5 ,  72.25],\n",
       "       [  1.  ,  -8.  ,  64.  ]])"
      ]
     },
     "execution_count": 13,
     "metadata": {},
     "output_type": "execute_result"
    }
   ],
   "source": [
    "from sklearn.preprocessing import PolynomialFeatures\n",
    "\n",
    "poly = PolynomialFeatures(degree=2)\n",
    "X_poly = poly.fit_transform(X)\n",
    "X_poly[0:5]"
   ]
  },
  {
   "cell_type": "markdown",
   "metadata": {},
   "source": [
    "###  Dopasowanie modelu"
   ]
  },
  {
   "cell_type": "code",
   "execution_count": 14,
   "metadata": {},
   "outputs": [
    {
     "data": {
      "image/png": "[encoded data removed]",
      "text/plain": [
       "<Figure size 640x480 with 1 Axes>"
      ]
     },
     "metadata": {},
     "output_type": "display_data"
    }
   ],
   "source": [
    "regressor_poly = LinearRegression()\n",
    "regressor_poly.fit(X_poly, y)\n",
    "\n",
    "y_pred = regressor_poly.predict(X_poly)\n",
    "\n",
    "plt.scatter(X, y)\n",
    "_ = plt.plot(X, y_pred, c='r')"
   ]
  },
  {
   "cell_type": "code",
   "execution_count": 15,
   "metadata": {},
   "outputs": [
    {
     "data": {
      "text/plain": [
       "0.9000601519884677"
      ]
     },
     "execution_count": 15,
     "metadata": {},
     "output_type": "execute_result"
    }
   ],
   "source": [
    "r2_score(y, y_pred)"
   ]
  },
  {
   "cell_type": "markdown",
   "metadata": {},
   "source": [
    "## Ekstrakcja cech wielomianowych - stopień 3"
   ]
  },
  {
   "cell_type": "code",
   "execution_count": 16,
   "metadata": {},
   "outputs": [
    {
     "data": {
      "text/plain": [
       "array([[    1.   ,   -10.   ,   100.   , -1000.   ],\n",
       "       [    1.   ,    -9.5  ,    90.25 ,  -857.375],\n",
       "       [    1.   ,    -9.   ,    81.   ,  -729.   ],\n",
       "       [    1.   ,    -8.5  ,    72.25 ,  -614.125],\n",
       "       [    1.   ,    -8.   ,    64.   ,  -512.   ]])"
      ]
     },
     "execution_count": 16,
     "metadata": {},
     "output_type": "execute_result"
    }
   ],
   "source": [
    "np.set_printoptions(suppress=True)\n",
    "\n",
    "poly = PolynomialFeatures(degree=3)\n",
    "X_poly = poly.fit_transform(X)\n",
    "X_poly[0:5]"
   ]
  },
  {
   "cell_type": "markdown",
   "metadata": {},
   "source": [
    "###  Dopasowanie modelu"
   ]
  },
  {
   "cell_type": "code",
   "execution_count": 17,
   "metadata": {},
   "outputs": [
    {
     "data": {
      "image/png": "[encoded data removed]",
      "text/plain": [
       "<Figure size 640x480 with 1 Axes>"
      ]
     },
     "metadata": {},
     "output_type": "display_data"
    }
   ],
   "source": [
    "regressor_poly_3 = LinearRegression()\n",
    "regressor_poly_3.fit(X_poly, y)\n",
    "\n",
    "y_pred = regressor_poly_3.predict(X_poly)\n",
    "\n",
    "plt.scatter(X, y)\n",
    "_ = plt.plot(X, y_pred, c='r')"
   ]
  },
  {
   "cell_type": "code",
   "execution_count": 18,
   "metadata": {},
   "outputs": [
    {
     "data": {
      "text/plain": [
       "0.9793138557357745"
      ]
     },
     "execution_count": 18,
     "metadata": {},
     "output_type": "execute_result"
    }
   ],
   "source": [
    "r2_score(y, y_pred)"
   ]
  },
  {
   "cell_type": "markdown",
   "metadata": {},
   "source": [
    "# Inne metody regresji - przykłady"
   ]
  },
  {
   "cell_type": "code",
   "execution_count": 19,
   "metadata": {},
   "outputs": [],
   "source": [
    "from sklearn import (\n",
    "    model_selection,\n",
    "    preprocessing,\n",
    ")"
   ]
  },
  {
   "cell_type": "code",
   "execution_count": 20,
   "metadata": {},
   "outputs": [
    {
     "data": {
      "image/png": "[encoded data removed]",
      "text/plain": [
       "<Figure size 640x480 with 1 Axes>"
      ]
     },
     "metadata": {},
     "output_type": "display_data"
    }
   ],
   "source": [
    "cof = 5\n",
    "np.random.seed(0)\n",
    "X = np.arange(-10, 10, 0.5/cof)\n",
    "noise = 80 * np.random.randn(40*cof)\n",
    "y = -X**3 + 10*X**2 - 2*X + 3 + noise\n",
    "X = X.reshape(40*cof, 1)\n",
    "_ = plt.scatter(X, y)"
   ]
  },
  {
   "cell_type": "code",
   "execution_count": 21,
   "metadata": {},
   "outputs": [],
   "source": [
    "X_train, X_test, y_train, y_test = model_selection.train_test_split(\n",
    "    X,\n",
    "    y,\n",
    "    test_size=0.3,\n",
    "    random_state=42,\n",
    ")"
   ]
  },
  {
   "cell_type": "markdown",
   "metadata": {},
   "source": [
    "## Regresja liniowa"
   ]
  },
  {
   "cell_type": "code",
   "execution_count": 22,
   "metadata": {},
   "outputs": [
    {
     "data": {
      "text/plain": [
       "[0.45167010522762296, array([-65.08392859])]"
      ]
     },
     "execution_count": 22,
     "metadata": {},
     "output_type": "execute_result"
    }
   ],
   "source": [
    "from sklearn.linear_model import LinearRegression\n",
    "lr = LinearRegression()\n",
    "lr.fit(X_train, y_train)\n",
    "[lr.score(X_test, y_test),lr.coef_]"
   ]
  },
  {
   "cell_type": "markdown",
   "metadata": {},
   "source": [
    "## Support Vector Machines"
   ]
  },
  {
   "cell_type": "code",
   "execution_count": 23,
   "metadata": {},
   "outputs": [
    {
     "data": {
      "text/plain": [
       "0.025568867373555126"
      ]
     },
     "execution_count": 23,
     "metadata": {},
     "output_type": "execute_result"
    }
   ],
   "source": [
    "from sklearn.svm import SVR\n",
    "svr = SVR(kernel='rbf')\n",
    "svr.fit(X_train, y_train)\n",
    "svr.score(X_test, y_test) #R^2"
   ]
  },
  {
   "cell_type": "code",
   "execution_count": 24,
   "metadata": {},
   "outputs": [
    {
     "data": {
      "text/plain": [
       "[0.3773062700453593, array([[-31.59206963]])]"
      ]
     },
     "execution_count": 24,
     "metadata": {},
     "output_type": "execute_result"
    }
   ],
   "source": [
    "from sklearn.svm import SVR\n",
    "svr = SVR(kernel='linear')\n",
    "svr.fit(X_train, y_train)\n",
    "[svr.score(X_test, y_test),svr.coef_]"
   ]
  },
  {
   "cell_type": "code",
   "execution_count": 25,
   "metadata": {},
   "outputs": [
    {
     "data": {
      "text/plain": [
       "0.25104741853457657"
      ]
     },
     "execution_count": 25,
     "metadata": {},
     "output_type": "execute_result"
    }
   ],
   "source": [
    "from sklearn.svm import SVR\n",
    "svr = SVR(kernel='poly')\n",
    "svr.fit(X_train, y_train)\n",
    "svr.score(X_test, y_test) #R^2"
   ]
  },
  {
   "cell_type": "markdown",
   "metadata": {},
   "source": [
    "## KNN"
   ]
  },
  {
   "cell_type": "code",
   "execution_count": 26,
   "metadata": {},
   "outputs": [
    {
     "data": {
      "text/plain": [
       "0.9737682009657153"
      ]
     },
     "execution_count": 26,
     "metadata": {},
     "output_type": "execute_result"
    }
   ],
   "source": [
    "from sklearn.neighbors import KNeighborsRegressor\n",
    "knr = KNeighborsRegressor()\n",
    "knr.fit(X_train, y_train)\n",
    "knr.score(X_test, y_test) #R^2"
   ]
  },
  {
   "cell_type": "markdown",
   "metadata": {},
   "source": [
    " ## Decision Tree"
   ]
  },
  {
   "cell_type": "code",
   "execution_count": 27,
   "metadata": {},
   "outputs": [
    {
     "data": {
      "text/plain": [
       "0.9417359799638221"
      ]
     },
     "execution_count": 27,
     "metadata": {},
     "output_type": "execute_result"
    }
   ],
   "source": [
    "from sklearn.tree import DecisionTreeRegressor\n",
    "dtr = DecisionTreeRegressor(random_state=42)\n",
    "dtr.fit(X_train, y_train)\n",
    "dtr.score(X_test, y_test) #R^2"
   ]
  },
  {
   "cell_type": "code",
   "execution_count": 28,
   "metadata": {},
   "outputs": [
    {
     "data": {
      "image/svg+xml": [
       "<svg xmlns=\"http://www.w3.org/2000/svg\" xmlns:dc=\"http://purl.org/dc/elements/1.1/\" xmlns:ns2=\"http://creativecommons.org/ns#\" xmlns:rdf=\"http://www.w3.org/1999/02/22-rdf-syntax-ns#\" xmlns:xlink=\"http://www.w3.org/1999/xlink\" width=\"666.0\" height=\"508.0\" viewBox=\"0.0 0.0 666.0 508.0\">\n",
       "<g id=\"graph0\" class=\"graph\" transform=\"scale(2 2) rotate(0) translate(4 250)\">\n",
       "<title>G</title>\n",
       "<polygon fill=\"white\" stroke=\"transparent\" points=\"-4,4 -4,-250 329,-250 329,4 -4,4\" />\n",
       "\n",
       "<g id=\"node1\" class=\"node\">\n",
       "<title>node1</title>\n",
       "<svg width=\"129px\" height=\"61px\" viewBox=\"0 0 172.355 82.30025\" version=\"1.1\" preserveAspectRatio=\"xMinYMin meet\" x=\"15.5\" y=\"-141.5\">\n",
       " <metadata>\n",
       "  <rdf:RDF>\n",
       "   <ns2:Work>\n",
       "    <dc:type rdf:resource=\"http://purl.org/dc/dcmitype/StillImage\" />\n",
       "    <dc:date>2023-12-12T05:33:58.378469</dc:date>\n",
       "    <dc:format>image/svg+xml</dc:format>\n",
       "    <dc:creator>\n",
       "     <ns2:Agent>\n",
       "      <dc:title>Matplotlib v3.6.0, https://matplotlib.org/</dc:title>\n",
       "     </ns2:Agent>\n",
       "    </dc:creator>\n",
       "   </ns2:Work>\n",
       "  </rdf:RDF>\n",
       " </metadata>\n",
       " <defs>\n",
       "  <style type=\"text/css\">*{stroke-linejoin: round; stroke-linecap: butt}</style>\n",
       " </defs>\n",
       " <g id=\"figure_1\">\n",
       "  <g id=\"patch_1\">\n",
       "   <path d=\"M 0 82.30025  L 172.355 82.30025  L 172.355 0  L 0 0  z \" style=\"fill: #ffffff\" />\n",
       "  </g>\n",
       "  <g id=\"axes_1\">\n",
       "   <g id=\"patch_2\">\n",
       "    <path d=\"M 27.295 60.984  L 166.795 60.984  L 166.795 0  L 27.295 0  z \" style=\"fill: #eaeaf2\" />\n",
       "   </g>\n",
       "   <g id=\"matplotlib.axis_1\">\n",
       "    <g id=\"xtick_1\">\n",
       "     <g id=\"text_1\">\n",
       "      \n",
       "      <g style=\"fill: #444443\" transform=\"translate(17.174375 80.71025) scale(0.08 -0.08)\">\n",
       "       <defs>\n",
       "        <path id=\"ArialMT-2212\" d=\"M 3381 1997  L 356 1997  L 356 2522  L 3381 2522  L 3381 1997  z \" transform=\"scale(0.015625)\" />\n",
       "        <path id=\"ArialMT-31\" d=\"M 2384 0  L 1822 0  L 1822 3584  Q 1619 3391 1289 3197  Q 959 3003 697 2906  L 697 3450  Q 1169 3672 1522 3987  Q 1875 4303 2022 4600  L 2384 4600  L 2384 0  z \" transform=\"scale(0.015625)\" />\n",
       "        <path id=\"ArialMT-30\" d=\"M 266 2259  Q 266 3072 433 3567  Q 600 4063 929 4331  Q 1259 4600 1759 4600  Q 2128 4600 2406 4451  Q 2684 4303 2865 4023  Q 3047 3744 3150 3342  Q 3253 2941 3253 2259  Q 3253 1453 3087 958  Q 2922 463 2592 192  Q 2263 -78 1759 -78  Q 1097 -78 719 397  Q 266 969 266 2259  z M 844 2259  Q 844 1131 1108 757  Q 1372 384 1759 384  Q 2147 384 2411 759  Q 2675 1134 2675 2259  Q 2675 3391 2411 3762  Q 2147 4134 1753 4134  Q 1366 4134 1134 3806  Q 844 3388 844 2259  z \" transform=\"scale(0.015625)\" />\n",
       "        <path id=\"ArialMT-2e\" d=\"M 581 0  L 581 641  L 1222 641  L 1222 0  L 581 0  z \" transform=\"scale(0.015625)\" />\n",
       "       </defs>\n",
       "       <use xlink:href=\"#ArialMT-2212\" />\n",
       "       <use xlink:href=\"#ArialMT-31\" x=\"58.398438\" />\n",
       "       <use xlink:href=\"#ArialMT-30\" x=\"114.013672\" />\n",
       "       <use xlink:href=\"#ArialMT-2e\" x=\"169.628906\" />\n",
       "       <use xlink:href=\"#ArialMT-30\" x=\"197.412109\" />\n",
       "      </g>\n",
       "     </g>\n",
       "    </g>\n",
       "    <g id=\"xtick_2\">\n",
       "     <g id=\"text_2\">\n",
       "      \n",
       "      <g style=\"fill: #444443\" transform=\"translate(161.235 80.71025) scale(0.08 -0.08)\">\n",
       "       <defs>\n",
       "        <path id=\"ArialMT-39\" d=\"M 350 1059  L 891 1109  Q 959 728 1153 556  Q 1347 384 1650 384  Q 1909 384 2104 503  Q 2300 622 2425 820  Q 2550 1019 2634 1356  Q 2719 1694 2719 2044  Q 2719 2081 2716 2156  Q 2547 1888 2255 1720  Q 1963 1553 1622 1553  Q 1053 1553 659 1965  Q 266 2378 266 3053  Q 266 3750 677 4175  Q 1088 4600 1706 4600  Q 2153 4600 2523 4359  Q 2894 4119 3086 3673  Q 3278 3228 3278 2384  Q 3278 1506 3087 986  Q 2897 466 2520 194  Q 2144 -78 1638 -78  Q 1100 -78 759 220  Q 419 519 350 1059  z M 2653 3081  Q 2653 3566 2395 3850  Q 2138 4134 1775 4134  Q 1400 4134 1122 3828  Q 844 3522 844 3034  Q 844 2597 1108 2323  Q 1372 2050 1759 2050  Q 2150 2050 2401 2323  Q 2653 2597 2653 3081  z \" transform=\"scale(0.015625)\" />\n",
       "       </defs>\n",
       "       <use xlink:href=\"#ArialMT-39\" />\n",
       "       <use xlink:href=\"#ArialMT-2e\" x=\"55.615234\" />\n",
       "       <use xlink:href=\"#ArialMT-39\" x=\"83.398438\" />\n",
       "      </g>\n",
       "     </g>\n",
       "    </g>\n",
       "   </g>\n",
       "   <g id=\"matplotlib.axis_2\">\n",
       "    <g id=\"ytick_1\">\n",
       "     <g id=\"text_3\">\n",
       "      \n",
       "      <g style=\"fill: #444443\" transform=\"translate(13.34625 61.027197) scale(0.08 -0.08)\">\n",
       "       <use xlink:href=\"#ArialMT-30\" />\n",
       "      </g>\n",
       "     </g>\n",
       "    </g>\n",
       "    <g id=\"ytick_2\">\n",
       "     <g id=\"text_4\">\n",
       "      \n",
       "      <g style=\"fill: #444443\" transform=\"translate(0 34.933513) scale(0.08 -0.08)\">\n",
       "       <use xlink:href=\"#ArialMT-31\" />\n",
       "       <use xlink:href=\"#ArialMT-30\" x=\"55.615234\" />\n",
       "       <use xlink:href=\"#ArialMT-30\" x=\"111.230469\" />\n",
       "       <use xlink:href=\"#ArialMT-30\" x=\"166.845703\" />\n",
       "      </g>\n",
       "     </g>\n",
       "    </g>\n",
       "    <g id=\"ytick_3\">\n",
       "     <g id=\"text_5\">\n",
       "      \n",
       "      <g style=\"fill: #444443\" transform=\"translate(0 8.839829) scale(0.08 -0.08)\">\n",
       "       <defs>\n",
       "        <path id=\"ArialMT-32\" d=\"M 3222 541  L 3222 0  L 194 0  Q 188 203 259 391  Q 375 700 629 1000  Q 884 1300 1366 1694  Q 2113 2306 2375 2664  Q 2638 3022 2638 3341  Q 2638 3675 2398 3904  Q 2159 4134 1775 4134  Q 1369 4134 1125 3890  Q 881 3647 878 3216  L 300 3275  Q 359 3922 746 4261  Q 1134 4600 1788 4600  Q 2447 4600 2831 4234  Q 3216 3869 3216 3328  Q 3216 3053 3103 2787  Q 2991 2522 2730 2228  Q 2469 1934 1863 1422  Q 1356 997 1212 845  Q 1069 694 975 541  L 3222 541  z \" transform=\"scale(0.015625)\" />\n",
       "       </defs>\n",
       "       <use xlink:href=\"#ArialMT-32\" />\n",
       "       <use xlink:href=\"#ArialMT-30\" x=\"55.615234\" />\n",
       "       <use xlink:href=\"#ArialMT-30\" x=\"111.230469\" />\n",
       "       <use xlink:href=\"#ArialMT-30\" x=\"166.845703\" />\n",
       "      </g>\n",
       "     </g>\n",
       "    </g>\n",
       "   </g>\n",
       "   <g id=\"PathCollection_1\">\n",
       "    <defs>\n",
       "     <path id=\"m64aa1d799c\" d=\"M 0 1.118034  C 0.296506 1.118034 0.580908 1.000231 0.790569 0.790569  C 1.000231 0.580908 1.118034 0.296506 1.118034 0  C 1.118034 -0.296506 1.000231 -0.580908 0.790569 -0.790569  C 0.580908 -1.000231 0.296506 -1.118034 0 -1.118034  C -0.296506 -1.118034 -0.580908 -1.000231 -0.790569 -0.790569  C -1.000231 -0.580908 -1.118034 -0.296506 -1.118034 0  C -1.118034 0.296506 -1.000231 0.580908 -0.790569 0.790569  C -0.580908 1.000231 -0.296506 1.118034 0 1.118034  z \" style=\"stroke: #4575b4; stroke-opacity: 0.7; stroke-width: 0.3\" />\n",
       "    </defs>\n",
       "    <g clip-path=\"url(#p64c16ef66d)\">\n",
       "     <use xlink:href=\"#m64aa1d799c\" x=\"49.026156\" y=\"35.941073\" style=\"fill: #4575b4; fill-opacity: 0.7; stroke: #4575b4; stroke-opacity: 0.7; stroke-width: 0.3\" />\n",
       "     <use xlink:href=\"#m64aa1d799c\" x=\"35.70706\" y=\"18.048816\" style=\"fill: #4575b4; fill-opacity: 0.7; stroke: #4575b4; stroke-opacity: 0.7; stroke-width: 0.3\" />\n",
       "     <use xlink:href=\"#m64aa1d799c\" x=\"45.521131\" y=\"32.741395\" style=\"fill: #4575b4; fill-opacity: 0.7; stroke: #4575b4; stroke-opacity: 0.7; stroke-width: 0.3\" />\n",
       "     <use xlink:href=\"#m64aa1d799c\" x=\"28.69701\" y=\"5.911703\" style=\"fill: #4575b4; fill-opacity: 0.7; stroke: #4575b4; stroke-opacity: 0.7; stroke-width: 0.3\" />\n",
       "     <use xlink:href=\"#m64aa1d799c\" x=\"42.717111\" y=\"27.616016\" style=\"fill: #4575b4; fill-opacity: 0.7; stroke: #4575b4; stroke-opacity: 0.7; stroke-width: 0.3\" />\n",
       "     <use xlink:href=\"#m64aa1d799c\" x=\"35.006055\" y=\"15.52149\" style=\"fill: #4575b4; fill-opacity: 0.7; stroke: #4575b4; stroke-opacity: 0.7; stroke-width: 0.3\" />\n",
       "     <use xlink:href=\"#m64aa1d799c\" x=\"31.50103\" y=\"10.882549\" style=\"fill: #4575b4; fill-opacity: 0.7; stroke: #4575b4; stroke-opacity: 0.7; stroke-width: 0.3\" />\n",
       "     <use xlink:href=\"#m64aa1d799c\" x=\"46.222136\" y=\"34.039357\" style=\"fill: #4575b4; fill-opacity: 0.7; stroke: #4575b4; stroke-opacity: 0.7; stroke-width: 0.3\" />\n",
       "     <use xlink:href=\"#m64aa1d799c\" x=\"30.09902\" y=\"6.552314\" style=\"fill: #4575b4; fill-opacity: 0.7; stroke: #4575b4; stroke-opacity: 0.7; stroke-width: 0.3\" />\n",
       "     <use xlink:href=\"#m64aa1d799c\" x=\"34.30505\" y=\"17.157235\" style=\"fill: #4575b4; fill-opacity: 0.7; stroke: #4575b4; stroke-opacity: 0.7; stroke-width: 0.3\" />\n",
       "     <use xlink:href=\"#m64aa1d799c\" x=\"27.295\" y=\"1.694099\" style=\"fill: #4575b4; fill-opacity: 0.7; stroke: #4575b4; stroke-opacity: 0.7; stroke-width: 0.3\" />\n",
       "     <use xlink:href=\"#m64aa1d799c\" x=\"46.923141\" y=\"31.243992\" style=\"fill: #4575b4; fill-opacity: 0.7; stroke: #4575b4; stroke-opacity: 0.7; stroke-width: 0.3\" />\n",
       "     <use xlink:href=\"#m64aa1d799c\" x=\"44.820126\" y=\"35.044396\" style=\"fill: #4575b4; fill-opacity: 0.7; stroke: #4575b4; stroke-opacity: 0.7; stroke-width: 0.3\" />\n",
       "     <use xlink:href=\"#m64aa1d799c\" x=\"43.418116\" y=\"31.849641\" style=\"fill: #4575b4; fill-opacity: 0.7; stroke: #4575b4; stroke-opacity: 0.7; stroke-width: 0.3\" />\n",
       "     <use xlink:href=\"#m64aa1d799c\" x=\"29.398015\" y=\"4.535172\" style=\"fill: #4575b4; fill-opacity: 0.7; stroke: #4575b4; stroke-opacity: 0.7; stroke-width: 0.3\" />\n",
       "     <use xlink:href=\"#m64aa1d799c\" x=\"32.202035\" y=\"14.359341\" style=\"fill: #4575b4; fill-opacity: 0.7; stroke: #4575b4; stroke-opacity: 0.7; stroke-width: 0.3\" />\n",
       "     <use xlink:href=\"#m64aa1d799c\" x=\"32.90304\" y=\"15.416603\" style=\"fill: #4575b4; fill-opacity: 0.7; stroke: #4575b4; stroke-opacity: 0.7; stroke-width: 0.3\" />\n",
       "     <use xlink:href=\"#m64aa1d799c\" x=\"36.408065\" y=\"20.444686\" style=\"fill: #4575b4; fill-opacity: 0.7; stroke: #4575b4; stroke-opacity: 0.7; stroke-width: 0.3\" />\n",
       "     <use xlink:href=\"#m64aa1d799c\" x=\"39.212085\" y=\"25.184934\" style=\"fill: #4575b4; fill-opacity: 0.7; stroke: #4575b4; stroke-opacity: 0.7; stroke-width: 0.3\" />\n",
       "     <use xlink:href=\"#m64aa1d799c\" x=\"42.016106\" y=\"27.158813\" style=\"fill: #4575b4; fill-opacity: 0.7; stroke: #4575b4; stroke-opacity: 0.7; stroke-width: 0.3\" />\n",
       "     <use xlink:href=\"#m64aa1d799c\" x=\"27.996005\" y=\"5.840715\" style=\"fill: #4575b4; fill-opacity: 0.7; stroke: #4575b4; stroke-opacity: 0.7; stroke-width: 0.3\" />\n",
       "     <use xlink:href=\"#m64aa1d799c\" x=\"41.315101\" y=\"32.937721\" style=\"fill: #4575b4; fill-opacity: 0.7; stroke: #4575b4; stroke-opacity: 0.7; stroke-width: 0.3\" />\n",
       "     <use xlink:href=\"#m64aa1d799c\" x=\"37.10907\" y=\"20.814484\" style=\"fill: #4575b4; fill-opacity: 0.7; stroke: #4575b4; stroke-opacity: 0.7; stroke-width: 0.3\" />\n",
       "    </g>\n",
       "   </g>\n",
       "   <g id=\"patch_3\">\n",
       "    <path d=\"M 38.160576 60.984  L 35.649576 67.0824  L 40.671576 67.0824  z \" style=\"fill: #444443; stroke: #ffffff; stroke-linejoin: miter\" />\n",
       "   </g>\n",
       "   <g id=\"line2d_1\">\n",
       "    <path d=\"M 27.295 12.090708  L 38.160576 12.090708  \" clip-path=\"url(#p64c16ef66d)\" style=\"fill: none; stroke-dasharray: 3.7,1.6; stroke-dashoffset: 0; stroke: #444443\" />\n",
       "   </g>\n",
       "   <g id=\"line2d_2\">\n",
       "    <path d=\"M 38.160576 60.984  L 38.160576 0  \" clip-path=\"url(#p64c16ef66d)\" style=\"fill: none; stroke-dasharray: 3.7,1.6; stroke-dashoffset: 0; stroke: #444443\" />\n",
       "   </g>\n",
       "   <g id=\"line2d_3\">\n",
       "    <path d=\"M 38.160576 31.375734  L 166.795 31.375734  \" clip-path=\"url(#p64c16ef66d)\" style=\"fill: none; stroke-dasharray: 3.7,1.6; stroke-dashoffset: 0; stroke: #444443\" />\n",
       "   </g>\n",
       "   <g id=\"patch_4\">\n",
       "    <path d=\"M 27.295 60.984  L 27.295 0  \" style=\"fill: none; stroke: #444443; stroke-width: 0.3; stroke-linejoin: miter; stroke-linecap: square\" />\n",
       "   </g>\n",
       "   <g id=\"patch_5\">\n",
       "    <path d=\"M 27.295 60.984  L 166.795 60.984  \" style=\"fill: none; stroke: #444443; stroke-width: 0.3; stroke-linejoin: miter; stroke-linecap: square\" />\n",
       "   </g>\n",
       "  </g>\n",
       " </g>\n",
       " <defs>\n",
       "  <clipPath id=\"p64c16ef66d\">\n",
       "   <rect x=\"27.295\" y=\"0\" width=\"139.5\" height=\"60.984\" />\n",
       "  </clipPath>\n",
       " </defs>\n",
       "</svg></g>\n",
       "\n",
       "<g id=\"node2\" class=\"node\">\n",
       "<title>node4</title>\n",
       "<svg width=\"131px\" height=\"61px\" viewBox=\"0 0 174.579375 82.30025\" version=\"1.1\" preserveAspectRatio=\"xMinYMin meet\" x=\"166.5\" y=\"-141.5\">\n",
       " <metadata>\n",
       "  <rdf:RDF>\n",
       "   <ns2:Work>\n",
       "    <dc:type rdf:resource=\"http://purl.org/dc/dcmitype/StillImage\" />\n",
       "    <dc:date>2023-12-12T05:33:58.476512</dc:date>\n",
       "    <dc:format>image/svg+xml</dc:format>\n",
       "    <dc:creator>\n",
       "     <ns2:Agent>\n",
       "      <dc:title>Matplotlib v3.6.0, https://matplotlib.org/</dc:title>\n",
       "     </ns2:Agent>\n",
       "    </dc:creator>\n",
       "   </ns2:Work>\n",
       "  </rdf:RDF>\n",
       " </metadata>\n",
       " <defs>\n",
       "  <style type=\"text/css\">*{stroke-linejoin: round; stroke-linecap: butt}</style>\n",
       " </defs>\n",
       " <g id=\"figure_1\">\n",
       "  <g id=\"patch_1\">\n",
       "   <path d=\"M 0 82.30025  L 174.579375 82.30025  L 174.579375 0  L 0 0  z \" style=\"fill: #ffffff\" />\n",
       "  </g>\n",
       "  <g id=\"axes_1\">\n",
       "   <g id=\"patch_2\">\n",
       "    <path d=\"M 27.295 60.984  L 166.795 60.984  L 166.795 0  L 27.295 0  z \" style=\"fill: #eaeaf2\" />\n",
       "   </g>\n",
       "   <g id=\"matplotlib.axis_1\">\n",
       "    <g id=\"xtick_1\">\n",
       "     <g id=\"text_1\">\n",
       "      \n",
       "      <g style=\"fill: #444443\" transform=\"translate(14.95 80.71025) scale(0.08 -0.08)\">\n",
       "       <defs>\n",
       "        <path id=\"ArialMT-2212\" d=\"M 3381 1997  L 356 1997  L 356 2522  L 3381 2522  L 3381 1997  z \" transform=\"scale(0.015625)\" />\n",
       "        <path id=\"ArialMT-31\" d=\"M 2384 0  L 1822 0  L 1822 3584  Q 1619 3391 1289 3197  Q 959 3003 697 2906  L 697 3450  Q 1169 3672 1522 3987  Q 1875 4303 2022 4600  L 2384 4600  L 2384 0  z \" transform=\"scale(0.015625)\" />\n",
       "        <path id=\"ArialMT-30\" d=\"M 266 2259  Q 266 3072 433 3567  Q 600 4063 929 4331  Q 1259 4600 1759 4600  Q 2128 4600 2406 4451  Q 2684 4303 2865 4023  Q 3047 3744 3150 3342  Q 3253 2941 3253 2259  Q 3253 1453 3087 958  Q 2922 463 2592 192  Q 2263 -78 1759 -78  Q 1097 -78 719 397  Q 266 969 266 2259  z M 844 2259  Q 844 1131 1108 757  Q 1372 384 1759 384  Q 2147 384 2411 759  Q 2675 1134 2675 2259  Q 2675 3391 2411 3762  Q 2147 4134 1753 4134  Q 1366 4134 1134 3806  Q 844 3388 844 2259  z \" transform=\"scale(0.015625)\" />\n",
       "        <path id=\"ArialMT-2e\" d=\"M 581 0  L 581 641  L 1222 641  L 1222 0  L 581 0  z \" transform=\"scale(0.015625)\" />\n",
       "       </defs>\n",
       "       <use xlink:href=\"#ArialMT-2212\" />\n",
       "       <use xlink:href=\"#ArialMT-31\" x=\"58.398438\" />\n",
       "       <use xlink:href=\"#ArialMT-30\" x=\"114.013672\" />\n",
       "       <use xlink:href=\"#ArialMT-2e\" x=\"169.628906\" />\n",
       "       <use xlink:href=\"#ArialMT-30\" x=\"197.412109\" />\n",
       "       <use xlink:href=\"#ArialMT-30\" x=\"253.027344\" />\n",
       "      </g>\n",
       "     </g>\n",
       "    </g>\n",
       "    <g id=\"xtick_2\">\n",
       "     <g id=\"text_2\">\n",
       "      \n",
       "      <g style=\"fill: #444443\" transform=\"translate(53.276133 80.71025) scale(0.08 -0.08)\">\n",
       "       <defs>\n",
       "        <path id=\"ArialMT-34\" d=\"M 2069 0  L 2069 1097  L 81 1097  L 81 1613  L 2172 4581  L 2631 4581  L 2631 1613  L 3250 1613  L 3250 1097  L 2631 1097  L 2631 0  L 2069 0  z M 2069 1613  L 2069 3678  L 634 1613  L 2069 1613  z \" transform=\"scale(0.015625)\" />\n",
       "        <path id=\"ArialMT-38\" d=\"M 1131 2484  Q 781 2613 612 2850  Q 444 3088 444 3419  Q 444 3919 803 4259  Q 1163 4600 1759 4600  Q 2359 4600 2725 4251  Q 3091 3903 3091 3403  Q 3091 3084 2923 2848  Q 2756 2613 2416 2484  Q 2838 2347 3058 2040  Q 3278 1734 3278 1309  Q 3278 722 2862 322  Q 2447 -78 1769 -78  Q 1091 -78 675 323  Q 259 725 259 1325  Q 259 1772 486 2073  Q 713 2375 1131 2484  z M 1019 3438  Q 1019 3113 1228 2906  Q 1438 2700 1772 2700  Q 2097 2700 2305 2904  Q 2513 3109 2513 3406  Q 2513 3716 2298 3927  Q 2084 4138 1766 4138  Q 1444 4138 1231 3931  Q 1019 3725 1019 3438  z M 838 1322  Q 838 1081 952 856  Q 1066 631 1291 507  Q 1516 384 1775 384  Q 2178 384 2440 643  Q 2703 903 2703 1303  Q 2703 1709 2433 1975  Q 2163 2241 1756 2241  Q 1359 2241 1098 1978  Q 838 1716 838 1322  z \" transform=\"scale(0.015625)\" />\n",
       "        <path id=\"ArialMT-35\" d=\"M 266 1200  L 856 1250  Q 922 819 1161 601  Q 1400 384 1738 384  Q 2144 384 2425 690  Q 2706 997 2706 1503  Q 2706 1984 2436 2262  Q 2166 2541 1728 2541  Q 1456 2541 1237 2417  Q 1019 2294 894 2097  L 366 2166  L 809 4519  L 3088 4519  L 3088 3981  L 1259 3981  L 1013 2750  Q 1425 3038 1878 3038  Q 2478 3038 2890 2622  Q 3303 2206 3303 1553  Q 3303 931 2941 478  Q 2500 -78 1738 -78  Q 1113 -78 717 272  Q 322 622 266 1200  z \" transform=\"scale(0.015625)\" />\n",
       "       </defs>\n",
       "       <use xlink:href=\"#ArialMT-2212\" />\n",
       "       <use xlink:href=\"#ArialMT-34\" x=\"58.398438\" />\n",
       "       <use xlink:href=\"#ArialMT-2e\" x=\"114.013672\" />\n",
       "       <use xlink:href=\"#ArialMT-38\" x=\"141.796875\" />\n",
       "       <use xlink:href=\"#ArialMT-35\" x=\"197.412109\" />\n",
       "      </g>\n",
       "     </g>\n",
       "    </g>\n",
       "    <g id=\"xtick_3\">\n",
       "     <g id=\"text_3\">\n",
       "      \n",
       "      <g style=\"fill: #444443\" transform=\"translate(159.010625 80.71025) scale(0.08 -0.08)\">\n",
       "       <defs>\n",
       "        <path id=\"ArialMT-39\" d=\"M 350 1059  L 891 1109  Q 959 728 1153 556  Q 1347 384 1650 384  Q 1909 384 2104 503  Q 2300 622 2425 820  Q 2550 1019 2634 1356  Q 2719 1694 2719 2044  Q 2719 2081 2716 2156  Q 2547 1888 2255 1720  Q 1963 1553 1622 1553  Q 1053 1553 659 1965  Q 266 2378 266 3053  Q 266 3750 677 4175  Q 1088 4600 1706 4600  Q 2153 4600 2523 4359  Q 2894 4119 3086 3673  Q 3278 3228 3278 2384  Q 3278 1506 3087 986  Q 2897 466 2520 194  Q 2144 -78 1638 -78  Q 1100 -78 759 220  Q 419 519 350 1059  z M 2653 3081  Q 2653 3566 2395 3850  Q 2138 4134 1775 4134  Q 1400 4134 1122 3828  Q 844 3522 844 3034  Q 844 2597 1108 2323  Q 1372 2050 1759 2050  Q 2150 2050 2401 2323  Q 2653 2597 2653 3081  z \" transform=\"scale(0.015625)\" />\n",
       "       </defs>\n",
       "       <use xlink:href=\"#ArialMT-39\" />\n",
       "       <use xlink:href=\"#ArialMT-2e\" x=\"55.615234\" />\n",
       "       <use xlink:href=\"#ArialMT-39\" x=\"83.398438\" />\n",
       "       <use xlink:href=\"#ArialMT-30\" x=\"139.013672\" />\n",
       "      </g>\n",
       "     </g>\n",
       "    </g>\n",
       "   </g>\n",
       "   <g id=\"matplotlib.axis_2\">\n",
       "    <g id=\"ytick_1\">\n",
       "     <g id=\"text_4\">\n",
       "      \n",
       "      <g style=\"fill: #444443\" transform=\"translate(13.34625 61.027197) scale(0.08 -0.08)\">\n",
       "       <use xlink:href=\"#ArialMT-30\" />\n",
       "      </g>\n",
       "     </g>\n",
       "    </g>\n",
       "    <g id=\"ytick_2\">\n",
       "     <g id=\"text_5\">\n",
       "      \n",
       "      <g style=\"fill: #444443\" transform=\"translate(0 34.933513) scale(0.08 -0.08)\">\n",
       "       <use xlink:href=\"#ArialMT-31\" />\n",
       "       <use xlink:href=\"#ArialMT-30\" x=\"55.615234\" />\n",
       "       <use xlink:href=\"#ArialMT-30\" x=\"111.230469\" />\n",
       "       <use xlink:href=\"#ArialMT-30\" x=\"166.845703\" />\n",
       "      </g>\n",
       "     </g>\n",
       "    </g>\n",
       "    <g id=\"ytick_3\">\n",
       "     <g id=\"text_6\">\n",
       "      \n",
       "      <g style=\"fill: #444443\" transform=\"translate(0 8.839829) scale(0.08 -0.08)\">\n",
       "       <defs>\n",
       "        <path id=\"ArialMT-32\" d=\"M 3222 541  L 3222 0  L 194 0  Q 188 203 259 391  Q 375 700 629 1000  Q 884 1300 1366 1694  Q 2113 2306 2375 2664  Q 2638 3022 2638 3341  Q 2638 3675 2398 3904  Q 2159 4134 1775 4134  Q 1369 4134 1125 3890  Q 881 3647 878 3216  L 300 3275  Q 359 3922 746 4261  Q 1134 4600 1788 4600  Q 2447 4600 2831 4234  Q 3216 3869 3216 3328  Q 3216 3053 3103 2787  Q 2991 2522 2730 2228  Q 2469 1934 1863 1422  Q 1356 997 1212 845  Q 1069 694 975 541  L 3222 541  z \" transform=\"scale(0.015625)\" />\n",
       "       </defs>\n",
       "       <use xlink:href=\"#ArialMT-32\" />\n",
       "       <use xlink:href=\"#ArialMT-30\" x=\"55.615234\" />\n",
       "       <use xlink:href=\"#ArialMT-30\" x=\"111.230469\" />\n",
       "       <use xlink:href=\"#ArialMT-30\" x=\"166.845703\" />\n",
       "      </g>\n",
       "     </g>\n",
       "    </g>\n",
       "   </g>\n",
       "   <g id=\"PathCollection_1\">\n",
       "    <defs>\n",
       "     <path id=\"mc95f5cf645\" d=\"M 0 1.118034  C 0.296506 1.118034 0.580908 1.000231 0.790569 0.790569  C 1.000231 0.580908 1.118034 0.296506 1.118034 0  C 1.118034 -0.296506 1.000231 -0.580908 0.790569 -0.790569  C 0.580908 -1.000231 0.296506 -1.118034 0 -1.118034  C -0.296506 -1.118034 -0.580908 -1.000231 -0.790569 -0.790569  C -1.000231 -0.580908 -1.118034 -0.296506 -1.118034 0  C -1.118034 0.296506 -1.000231 0.580908 -0.790569 0.790569  C -0.580908 1.000231 -0.296506 1.118034 0 1.118034  z \" style=\"stroke: #4575b4; stroke-opacity: 0.7; stroke-width: 0.3\" />\n",
       "    </defs>\n",
       "    <g clip-path=\"url(#p4860755dba)\">\n",
       "     <use xlink:href=\"#mc95f5cf645\" x=\"145.764849\" y=\"53.933075\" style=\"fill: #4575b4; fill-opacity: 0.7; stroke: #4575b4; stroke-opacity: 0.7; stroke-width: 0.3\" />\n",
       "     <use xlink:href=\"#mc95f5cf645\" x=\"95.292487\" y=\"54.317951\" style=\"fill: #4575b4; fill-opacity: 0.7; stroke: #4575b4; stroke-opacity: 0.7; stroke-width: 0.3\" />\n",
       "     <use xlink:href=\"#mc95f5cf645\" x=\"51.830176\" y=\"39.229636\" style=\"fill: #4575b4; fill-opacity: 0.7; stroke: #4575b4; stroke-opacity: 0.7; stroke-width: 0.3\" />\n",
       "     <use xlink:href=\"#mc95f5cf645\" x=\"110.714598\" y=\"55.49684\" style=\"fill: #4575b4; fill-opacity: 0.7; stroke: #4575b4; stroke-opacity: 0.7; stroke-width: 0.3\" />\n",
       "     <use xlink:href=\"#mc95f5cf645\" x=\"56.737211\" y=\"47.475828\" style=\"fill: #4575b4; fill-opacity: 0.7; stroke: #4575b4; stroke-opacity: 0.7; stroke-width: 0.3\" />\n",
       "     <use xlink:href=\"#mc95f5cf645\" x=\"159.78495\" y=\"53.055655\" style=\"fill: #4575b4; fill-opacity: 0.7; stroke: #4575b4; stroke-opacity: 0.7; stroke-width: 0.3\" />\n",
       "     <use xlink:href=\"#mc95f5cf645\" x=\"90.385452\" y=\"58.588203\" style=\"fill: #4575b4; fill-opacity: 0.7; stroke: #4575b4; stroke-opacity: 0.7; stroke-width: 0.3\" />\n",
       "     <use xlink:href=\"#mc95f5cf645\" x=\"122.631683\" y=\"54.905721\" style=\"fill: #4575b4; fill-opacity: 0.7; stroke: #4575b4; stroke-opacity: 0.7; stroke-width: 0.3\" />\n",
       "     <use xlink:href=\"#mc95f5cf645\" x=\"63.046256\" y=\"47.687426\" style=\"fill: #4575b4; fill-opacity: 0.7; stroke: #4575b4; stroke-opacity: 0.7; stroke-width: 0.3\" />\n",
       "     <use xlink:href=\"#mc95f5cf645\" x=\"116.322638\" y=\"52.977741\" style=\"fill: #4575b4; fill-opacity: 0.7; stroke: #4575b4; stroke-opacity: 0.7; stroke-width: 0.3\" />\n",
       "     <use xlink:href=\"#mc95f5cf645\" x=\"140.857814\" y=\"52.615885\" style=\"fill: #4575b4; fill-opacity: 0.7; stroke: #4575b4; stroke-opacity: 0.7; stroke-width: 0.3\" />\n",
       "     <use xlink:href=\"#mc95f5cf645\" x=\"56.036206\" y=\"46.299859\" style=\"fill: #4575b4; fill-opacity: 0.7; stroke: #4575b4; stroke-opacity: 0.7; stroke-width: 0.3\" />\n",
       "     <use xlink:href=\"#mc95f5cf645\" x=\"110.013593\" y=\"56.204584\" style=\"fill: #4575b4; fill-opacity: 0.7; stroke: #4575b4; stroke-opacity: 0.7; stroke-width: 0.3\" />\n",
       "     <use xlink:href=\"#mc95f5cf645\" x=\"106.508568\" y=\"53.782728\" style=\"fill: #4575b4; fill-opacity: 0.7; stroke: #4575b4; stroke-opacity: 0.7; stroke-width: 0.3\" />\n",
       "     <use xlink:href=\"#mc95f5cf645\" x=\"124.734698\" y=\"58.150084\" style=\"fill: #4575b4; fill-opacity: 0.7; stroke: #4575b4; stroke-opacity: 0.7; stroke-width: 0.3\" />\n",
       "     <use xlink:href=\"#mc95f5cf645\" x=\"97.395503\" y=\"54.154724\" style=\"fill: #4575b4; fill-opacity: 0.7; stroke: #4575b4; stroke-opacity: 0.7; stroke-width: 0.3\" />\n",
       "     <use xlink:href=\"#mc95f5cf645\" x=\"105.106558\" y=\"55.970831\" style=\"fill: #4575b4; fill-opacity: 0.7; stroke: #4575b4; stroke-opacity: 0.7; stroke-width: 0.3\" />\n",
       "     <use xlink:href=\"#mc95f5cf645\" x=\"81.272387\" y=\"57.476268\" style=\"fill: #4575b4; fill-opacity: 0.7; stroke: #4575b4; stroke-opacity: 0.7; stroke-width: 0.3\" />\n",
       "     <use xlink:href=\"#mc95f5cf645\" x=\"59.541231\" y=\"48.701449\" style=\"fill: #4575b4; fill-opacity: 0.7; stroke: #4575b4; stroke-opacity: 0.7; stroke-width: 0.3\" />\n",
       "     <use xlink:href=\"#mc95f5cf645\" x=\"158.38294\" y=\"55.863386\" style=\"fill: #4575b4; fill-opacity: 0.7; stroke: #4575b4; stroke-opacity: 0.7; stroke-width: 0.3\" />\n",
       "     <use xlink:href=\"#mc95f5cf645\" x=\"161.18696\" y=\"56.058492\" style=\"fill: #4575b4; fill-opacity: 0.7; stroke: #4575b4; stroke-opacity: 0.7; stroke-width: 0.3\" />\n",
       "     <use xlink:href=\"#mc95f5cf645\" x=\"86.880427\" y=\"53.374677\" style=\"fill: #4575b4; fill-opacity: 0.7; stroke: #4575b4; stroke-opacity: 0.7; stroke-width: 0.3\" />\n",
       "     <use xlink:href=\"#mc95f5cf645\" x=\"140.156809\" y=\"50.589556\" style=\"fill: #4575b4; fill-opacity: 0.7; stroke: #4575b4; stroke-opacity: 0.7; stroke-width: 0.3\" />\n",
       "     <use xlink:href=\"#mc95f5cf645\" x=\"52.531181\" y=\"37.655291\" style=\"fill: #4575b4; fill-opacity: 0.7; stroke: #4575b4; stroke-opacity: 0.7; stroke-width: 0.3\" />\n",
       "     <use xlink:href=\"#mc95f5cf645\" x=\"160.485955\" y=\"59.140721\" style=\"fill: #4575b4; fill-opacity: 0.7; stroke: #4575b4; stroke-opacity: 0.7; stroke-width: 0.3\" />\n",
       "     <use xlink:href=\"#mc95f5cf645\" x=\"70.056307\" y=\"53.116125\" style=\"fill: #4575b4; fill-opacity: 0.7; stroke: #4575b4; stroke-opacity: 0.7; stroke-width: 0.3\" />\n",
       "     <use xlink:href=\"#mc95f5cf645\" x=\"126.136709\" y=\"54.794586\" style=\"fill: #4575b4; fill-opacity: 0.7; stroke: #4575b4; stroke-opacity: 0.7; stroke-width: 0.3\" />\n",
       "     <use xlink:href=\"#mc95f5cf645\" x=\"98.096508\" y=\"60.901866\" style=\"fill: #4575b4; fill-opacity: 0.7; stroke: #4575b4; stroke-opacity: 0.7; stroke-width: 0.3\" />\n",
       "     <use xlink:href=\"#mc95f5cf645\" x=\"50.428166\" y=\"42.309568\" style=\"fill: #4575b4; fill-opacity: 0.7; stroke: #4575b4; stroke-opacity: 0.7; stroke-width: 0.3\" />\n",
       "     <use xlink:href=\"#mc95f5cf645\" x=\"163.289975\" y=\"56.100632\" style=\"fill: #4575b4; fill-opacity: 0.7; stroke: #4575b4; stroke-opacity: 0.7; stroke-width: 0.3\" />\n",
       "     <use xlink:href=\"#mc95f5cf645\" x=\"138.754799\" y=\"55.583527\" style=\"fill: #4575b4; fill-opacity: 0.7; stroke: #4575b4; stroke-opacity: 0.7; stroke-width: 0.3\" />\n",
       "     <use xlink:href=\"#mc95f5cf645\" x=\"111.415603\" y=\"56.569381\" style=\"fill: #4575b4; fill-opacity: 0.7; stroke: #4575b4; stroke-opacity: 0.7; stroke-width: 0.3\" />\n",
       "     <use xlink:href=\"#mc95f5cf645\" x=\"49.727161\" y=\"39.313756\" style=\"fill: #4575b4; fill-opacity: 0.7; stroke: #4575b4; stroke-opacity: 0.7; stroke-width: 0.3\" />\n",
       "     <use xlink:href=\"#mc95f5cf645\" x=\"126.837714\" y=\"55.287351\" style=\"fill: #4575b4; fill-opacity: 0.7; stroke: #4575b4; stroke-opacity: 0.7; stroke-width: 0.3\" />\n",
       "     <use xlink:href=\"#mc95f5cf645\" x=\"128.940729\" y=\"53.442854\" style=\"fill: #4575b4; fill-opacity: 0.7; stroke: #4575b4; stroke-opacity: 0.7; stroke-width: 0.3\" />\n",
       "     <use xlink:href=\"#mc95f5cf645\" x=\"103.704548\" y=\"54.849856\" style=\"fill: #4575b4; fill-opacity: 0.7; stroke: #4575b4; stroke-opacity: 0.7; stroke-width: 0.3\" />\n",
       "     <use xlink:href=\"#mc95f5cf645\" x=\"128.239724\" y=\"50.51164\" style=\"fill: #4575b4; fill-opacity: 0.7; stroke: #4575b4; stroke-opacity: 0.7; stroke-width: 0.3\" />\n",
       "     <use xlink:href=\"#mc95f5cf645\" x=\"70.757312\" y=\"54.385177\" style=\"fill: #4575b4; fill-opacity: 0.7; stroke: #4575b4; stroke-opacity: 0.7; stroke-width: 0.3\" />\n",
       "     <use xlink:href=\"#mc95f5cf645\" x=\"105.807563\" y=\"59.615561\" style=\"fill: #4575b4; fill-opacity: 0.7; stroke: #4575b4; stroke-opacity: 0.7; stroke-width: 0.3\" />\n",
       "     <use xlink:href=\"#mc95f5cf645\" x=\"129.641734\" y=\"57.249796\" style=\"fill: #4575b4; fill-opacity: 0.7; stroke: #4575b4; stroke-opacity: 0.7; stroke-width: 0.3\" />\n",
       "     <use xlink:href=\"#mc95f5cf645\" x=\"143.661834\" y=\"56.653593\" style=\"fill: #4575b4; fill-opacity: 0.7; stroke: #4575b4; stroke-opacity: 0.7; stroke-width: 0.3\" />\n",
       "     <use xlink:href=\"#mc95f5cf645\" x=\"166.093995\" y=\"53.580276\" style=\"fill: #4575b4; fill-opacity: 0.7; stroke: #4575b4; stroke-opacity: 0.7; stroke-width: 0.3\" />\n",
       "     <use xlink:href=\"#mc95f5cf645\" x=\"134.548769\" y=\"56.642603\" style=\"fill: #4575b4; fill-opacity: 0.7; stroke: #4575b4; stroke-opacity: 0.7; stroke-width: 0.3\" />\n",
       "     <use xlink:href=\"#mc95f5cf645\" x=\"76.365352\" y=\"53.354295\" style=\"fill: #4575b4; fill-opacity: 0.7; stroke: #4575b4; stroke-opacity: 0.7; stroke-width: 0.3\" />\n",
       "     <use xlink:href=\"#mc95f5cf645\" x=\"113.518618\" y=\"54.374124\" style=\"fill: #4575b4; fill-opacity: 0.7; stroke: #4575b4; stroke-opacity: 0.7; stroke-width: 0.3\" />\n",
       "     <use xlink:href=\"#mc95f5cf645\" x=\"72.159322\" y=\"52.928372\" style=\"fill: #4575b4; fill-opacity: 0.7; stroke: #4575b4; stroke-opacity: 0.7; stroke-width: 0.3\" />\n",
       "     <use xlink:href=\"#mc95f5cf645\" x=\"58.139221\" y=\"46.09199\" style=\"fill: #4575b4; fill-opacity: 0.7; stroke: #4575b4; stroke-opacity: 0.7; stroke-width: 0.3\" />\n",
       "     <use xlink:href=\"#mc95f5cf645\" x=\"141.558819\" y=\"54.399873\" style=\"fill: #4575b4; fill-opacity: 0.7; stroke: #4575b4; stroke-opacity: 0.7; stroke-width: 0.3\" />\n",
       "     <use xlink:href=\"#mc95f5cf645\" x=\"55.335201\" y=\"44.931553\" style=\"fill: #4575b4; fill-opacity: 0.7; stroke: #4575b4; stroke-opacity: 0.7; stroke-width: 0.3\" />\n",
       "     <use xlink:href=\"#mc95f5cf645\" x=\"103.003543\" y=\"53.95977\" style=\"fill: #4575b4; fill-opacity: 0.7; stroke: #4575b4; stroke-opacity: 0.7; stroke-width: 0.3\" />\n",
       "     <use xlink:href=\"#mc95f5cf645\" x=\"135.950779\" y=\"56.205826\" style=\"fill: #4575b4; fill-opacity: 0.7; stroke: #4575b4; stroke-opacity: 0.7; stroke-width: 0.3\" />\n",
       "     <use xlink:href=\"#mc95f5cf645\" x=\"136.651784\" y=\"52.425683\" style=\"fill: #4575b4; fill-opacity: 0.7; stroke: #4575b4; stroke-opacity: 0.7; stroke-width: 0.3\" />\n",
       "     <use xlink:href=\"#mc95f5cf645\" x=\"156.279925\" y=\"54.273125\" style=\"fill: #4575b4; fill-opacity: 0.7; stroke: #4575b4; stroke-opacity: 0.7; stroke-width: 0.3\" />\n",
       "     <use xlink:href=\"#mc95f5cf645\" x=\"130.342739\" y=\"52.944336\" style=\"fill: #4575b4; fill-opacity: 0.7; stroke: #4575b4; stroke-opacity: 0.7; stroke-width: 0.3\" />\n",
       "     <use xlink:href=\"#mc95f5cf645\" x=\"84.076407\" y=\"54.985206\" style=\"fill: #4575b4; fill-opacity: 0.7; stroke: #4575b4; stroke-opacity: 0.7; stroke-width: 0.3\" />\n",
       "     <use xlink:href=\"#mc95f5cf645\" x=\"54.634196\" y=\"42.766273\" style=\"fill: #4575b4; fill-opacity: 0.7; stroke: #4575b4; stroke-opacity: 0.7; stroke-width: 0.3\" />\n",
       "     <use xlink:href=\"#mc95f5cf645\" x=\"145.063844\" y=\"52.099629\" style=\"fill: #4575b4; fill-opacity: 0.7; stroke: #4575b4; stroke-opacity: 0.7; stroke-width: 0.3\" />\n",
       "     <use xlink:href=\"#mc95f5cf645\" x=\"60.242236\" y=\"44.971726\" style=\"fill: #4575b4; fill-opacity: 0.7; stroke: #4575b4; stroke-opacity: 0.7; stroke-width: 0.3\" />\n",
       "     <use xlink:href=\"#mc95f5cf645\" x=\"93.189472\" y=\"57.210992\" style=\"fill: #4575b4; fill-opacity: 0.7; stroke: #4575b4; stroke-opacity: 0.7; stroke-width: 0.3\" />\n",
       "     <use xlink:href=\"#mc95f5cf645\" x=\"135.249774\" y=\"55.073019\" style=\"fill: #4575b4; fill-opacity: 0.7; stroke: #4575b4; stroke-opacity: 0.7; stroke-width: 0.3\" />\n",
       "     <use xlink:href=\"#mc95f5cf645\" x=\"57.438216\" y=\"40.405884\" style=\"fill: #4575b4; fill-opacity: 0.7; stroke: #4575b4; stroke-opacity: 0.7; stroke-width: 0.3\" />\n",
       "     <use xlink:href=\"#mc95f5cf645\" x=\"124.033693\" y=\"55.121326\" style=\"fill: #4575b4; fill-opacity: 0.7; stroke: #4575b4; stroke-opacity: 0.7; stroke-width: 0.3\" />\n",
       "     <use xlink:href=\"#mc95f5cf645\" x=\"100.900528\" y=\"53.992613\" style=\"fill: #4575b4; fill-opacity: 0.7; stroke: #4575b4; stroke-opacity: 0.7; stroke-width: 0.3\" />\n",
       "     <use xlink:href=\"#mc95f5cf645\" x=\"64.448266\" y=\"51.831854\" style=\"fill: #4575b4; fill-opacity: 0.7; stroke: #4575b4; stroke-opacity: 0.7; stroke-width: 0.3\" />\n",
       "     <use xlink:href=\"#mc95f5cf645\" x=\"120.528668\" y=\"56.28769\" style=\"fill: #4575b4; fill-opacity: 0.7; stroke: #4575b4; stroke-opacity: 0.7; stroke-width: 0.3\" />\n",
       "     <use xlink:href=\"#mc95f5cf645\" x=\"153.475905\" y=\"55.902259\" style=\"fill: #4575b4; fill-opacity: 0.7; stroke: #4575b4; stroke-opacity: 0.7; stroke-width: 0.3\" />\n",
       "     <use xlink:href=\"#mc95f5cf645\" x=\"152.073894\" y=\"55.951187\" style=\"fill: #4575b4; fill-opacity: 0.7; stroke: #4575b4; stroke-opacity: 0.7; stroke-width: 0.3\" />\n",
       "     <use xlink:href=\"#mc95f5cf645\" x=\"156.98093\" y=\"59.045767\" style=\"fill: #4575b4; fill-opacity: 0.7; stroke: #4575b4; stroke-opacity: 0.7; stroke-width: 0.3\" />\n",
       "     <use xlink:href=\"#mc95f5cf645\" x=\"61.644246\" y=\"48.015409\" style=\"fill: #4575b4; fill-opacity: 0.7; stroke: #4575b4; stroke-opacity: 0.7; stroke-width: 0.3\" />\n",
       "     <use xlink:href=\"#mc95f5cf645\" x=\"83.375402\" y=\"59.161163\" style=\"fill: #4575b4; fill-opacity: 0.7; stroke: #4575b4; stroke-opacity: 0.7; stroke-width: 0.3\" />\n",
       "     <use xlink:href=\"#mc95f5cf645\" x=\"51.129171\" y=\"39.59938\" style=\"fill: #4575b4; fill-opacity: 0.7; stroke: #4575b4; stroke-opacity: 0.7; stroke-width: 0.3\" />\n",
       "     <use xlink:href=\"#mc95f5cf645\" x=\"104.405553\" y=\"54.004616\" style=\"fill: #4575b4; fill-opacity: 0.7; stroke: #4575b4; stroke-opacity: 0.7; stroke-width: 0.3\" />\n",
       "     <use xlink:href=\"#mc95f5cf645\" x=\"91.086457\" y=\"55.256593\" style=\"fill: #4575b4; fill-opacity: 0.7; stroke: #4575b4; stroke-opacity: 0.7; stroke-width: 0.3\" />\n",
       "     <use xlink:href=\"#mc95f5cf645\" x=\"85.478417\" y=\"60.321667\" style=\"fill: #4575b4; fill-opacity: 0.7; stroke: #4575b4; stroke-opacity: 0.7; stroke-width: 0.3\" />\n",
       "     <use xlink:href=\"#mc95f5cf645\" x=\"150.671884\" y=\"56.542317\" style=\"fill: #4575b4; fill-opacity: 0.7; stroke: #4575b4; stroke-opacity: 0.7; stroke-width: 0.3\" />\n",
       "     <use xlink:href=\"#mc95f5cf645\" x=\"154.17691\" y=\"58.125899\" style=\"fill: #4575b4; fill-opacity: 0.7; stroke: #4575b4; stroke-opacity: 0.7; stroke-width: 0.3\" />\n",
       "     <use xlink:href=\"#mc95f5cf645\" x=\"89.684447\" y=\"55.476758\" style=\"fill: #4575b4; fill-opacity: 0.7; stroke: #4575b4; stroke-opacity: 0.7; stroke-width: 0.3\" />\n",
       "     <use xlink:href=\"#mc95f5cf645\" x=\"68.654296\" y=\"52.444292\" style=\"fill: #4575b4; fill-opacity: 0.7; stroke: #4575b4; stroke-opacity: 0.7; stroke-width: 0.3\" />\n",
       "     <use xlink:href=\"#mc95f5cf645\" x=\"147.166859\" y=\"53.976369\" style=\"fill: #4575b4; fill-opacity: 0.7; stroke: #4575b4; stroke-opacity: 0.7; stroke-width: 0.3\" />\n",
       "     <use xlink:href=\"#mc95f5cf645\" x=\"119.126658\" y=\"55.391646\" style=\"fill: #4575b4; fill-opacity: 0.7; stroke: #4575b4; stroke-opacity: 0.7; stroke-width: 0.3\" />\n",
       "     <use xlink:href=\"#mc95f5cf645\" x=\"77.767362\" y=\"52.94262\" style=\"fill: #4575b4; fill-opacity: 0.7; stroke: #4575b4; stroke-opacity: 0.7; stroke-width: 0.3\" />\n",
       "     <use xlink:href=\"#mc95f5cf645\" x=\"149.970879\" y=\"53.384947\" style=\"fill: #4575b4; fill-opacity: 0.7; stroke: #4575b4; stroke-opacity: 0.7; stroke-width: 0.3\" />\n",
       "     <use xlink:href=\"#mc95f5cf645\" x=\"121.229673\" y=\"57.599709\" style=\"fill: #4575b4; fill-opacity: 0.7; stroke: #4575b4; stroke-opacity: 0.7; stroke-width: 0.3\" />\n",
       "     <use xlink:href=\"#mc95f5cf645\" x=\"144.362839\" y=\"57.794708\" style=\"fill: #4575b4; fill-opacity: 0.7; stroke: #4575b4; stroke-opacity: 0.7; stroke-width: 0.3\" />\n",
       "     <use xlink:href=\"#mc95f5cf645\" x=\"155.57892\" y=\"60.104379\" style=\"fill: #4575b4; fill-opacity: 0.7; stroke: #4575b4; stroke-opacity: 0.7; stroke-width: 0.3\" />\n",
       "     <use xlink:href=\"#mc95f5cf645\" x=\"71.458317\" y=\"56.602355\" style=\"fill: #4575b4; fill-opacity: 0.7; stroke: #4575b4; stroke-opacity: 0.7; stroke-width: 0.3\" />\n",
       "     <use xlink:href=\"#mc95f5cf645\" x=\"65.149271\" y=\"49.843281\" style=\"fill: #4575b4; fill-opacity: 0.7; stroke: #4575b4; stroke-opacity: 0.7; stroke-width: 0.3\" />\n",
       "     <use xlink:href=\"#mc95f5cf645\" x=\"102.302538\" y=\"59.563721\" style=\"fill: #4575b4; fill-opacity: 0.7; stroke: #4575b4; stroke-opacity: 0.7; stroke-width: 0.3\" />\n",
       "     <use xlink:href=\"#mc95f5cf645\" x=\"62.345251\" y=\"49.909004\" style=\"fill: #4575b4; fill-opacity: 0.7; stroke: #4575b4; stroke-opacity: 0.7; stroke-width: 0.3\" />\n",
       "     <use xlink:href=\"#mc95f5cf645\" x=\"164.691985\" y=\"56.013763\" style=\"fill: #4575b4; fill-opacity: 0.7; stroke: #4575b4; stroke-opacity: 0.7; stroke-width: 0.3\" />\n",
       "     <use xlink:href=\"#mc95f5cf645\" x=\"67.953291\" y=\"52.654593\" style=\"fill: #4575b4; fill-opacity: 0.7; stroke: #4575b4; stroke-opacity: 0.7; stroke-width: 0.3\" />\n",
       "     <use xlink:href=\"#mc95f5cf645\" x=\"60.943241\" y=\"50.458707\" style=\"fill: #4575b4; fill-opacity: 0.7; stroke: #4575b4; stroke-opacity: 0.7; stroke-width: 0.3\" />\n",
       "     <use xlink:href=\"#mc95f5cf645\" x=\"88.983442\" y=\"59.837517\" style=\"fill: #4575b4; fill-opacity: 0.7; stroke: #4575b4; stroke-opacity: 0.7; stroke-width: 0.3\" />\n",
       "     <use xlink:href=\"#mc95f5cf645\" x=\"67.252286\" y=\"50.330624\" style=\"fill: #4575b4; fill-opacity: 0.7; stroke: #4575b4; stroke-opacity: 0.7; stroke-width: 0.3\" />\n",
       "     <use xlink:href=\"#mc95f5cf645\" x=\"139.455804\" y=\"55.681065\" style=\"fill: #4575b4; fill-opacity: 0.7; stroke: #4575b4; stroke-opacity: 0.7; stroke-width: 0.3\" />\n",
       "     <use xlink:href=\"#mc95f5cf645\" x=\"161.887965\" y=\"56.881062\" style=\"fill: #4575b4; fill-opacity: 0.7; stroke: #4575b4; stroke-opacity: 0.7; stroke-width: 0.3\" />\n",
       "     <use xlink:href=\"#mc95f5cf645\" x=\"117.724648\" y=\"55.82848\" style=\"fill: #4575b4; fill-opacity: 0.7; stroke: #4575b4; stroke-opacity: 0.7; stroke-width: 0.3\" />\n",
       "     <use xlink:href=\"#mc95f5cf645\" x=\"53.232186\" y=\"38.365818\" style=\"fill: #4575b4; fill-opacity: 0.7; stroke: #4575b4; stroke-opacity: 0.7; stroke-width: 0.3\" />\n",
       "     <use xlink:href=\"#mc95f5cf645\" x=\"137.352789\" y=\"56.99214\" style=\"fill: #4575b4; fill-opacity: 0.7; stroke: #4575b4; stroke-opacity: 0.7; stroke-width: 0.3\" />\n",
       "     <use xlink:href=\"#mc95f5cf645\" x=\"162.58897\" y=\"59.429732\" style=\"fill: #4575b4; fill-opacity: 0.7; stroke: #4575b4; stroke-opacity: 0.7; stroke-width: 0.3\" />\n",
       "     <use xlink:href=\"#mc95f5cf645\" x=\"63.747261\" y=\"50.003857\" style=\"fill: #4575b4; fill-opacity: 0.7; stroke: #4575b4; stroke-opacity: 0.7; stroke-width: 0.3\" />\n",
       "     <use xlink:href=\"#mc95f5cf645\" x=\"131.744749\" y=\"56.109867\" style=\"fill: #4575b4; fill-opacity: 0.7; stroke: #4575b4; stroke-opacity: 0.7; stroke-width: 0.3\" />\n",
       "     <use xlink:href=\"#mc95f5cf645\" x=\"118.425653\" y=\"58.205647\" style=\"fill: #4575b4; fill-opacity: 0.7; stroke: #4575b4; stroke-opacity: 0.7; stroke-width: 0.3\" />\n",
       "     <use xlink:href=\"#mc95f5cf645\" x=\"133.146759\" y=\"51.449739\" style=\"fill: #4575b4; fill-opacity: 0.7; stroke: #4575b4; stroke-opacity: 0.7; stroke-width: 0.3\" />\n",
       "     <use xlink:href=\"#mc95f5cf645\" x=\"99.498518\" y=\"56.055057\" style=\"fill: #4575b4; fill-opacity: 0.7; stroke: #4575b4; stroke-opacity: 0.7; stroke-width: 0.3\" />\n",
       "     <use xlink:href=\"#mc95f5cf645\" x=\"96.694497\" y=\"57.238786\" style=\"fill: #4575b4; fill-opacity: 0.7; stroke: #4575b4; stroke-opacity: 0.7; stroke-width: 0.3\" />\n",
       "     <use xlink:href=\"#mc95f5cf645\" x=\"108.611583\" y=\"55.630789\" style=\"fill: #4575b4; fill-opacity: 0.7; stroke: #4575b4; stroke-opacity: 0.7; stroke-width: 0.3\" />\n",
       "     <use xlink:href=\"#mc95f5cf645\" x=\"88.282437\" y=\"57.895228\" style=\"fill: #4575b4; fill-opacity: 0.7; stroke: #4575b4; stroke-opacity: 0.7; stroke-width: 0.3\" />\n",
       "     <use xlink:href=\"#mc95f5cf645\" x=\"79.169372\" y=\"54.887662\" style=\"fill: #4575b4; fill-opacity: 0.7; stroke: #4575b4; stroke-opacity: 0.7; stroke-width: 0.3\" />\n",
       "     <use xlink:href=\"#mc95f5cf645\" x=\"112.116608\" y=\"59.5813\" style=\"fill: #4575b4; fill-opacity: 0.7; stroke: #4575b4; stroke-opacity: 0.7; stroke-width: 0.3\" />\n",
       "     <use xlink:href=\"#mc95f5cf645\" x=\"166.795\" y=\"55.556706\" style=\"fill: #4575b4; fill-opacity: 0.7; stroke: #4575b4; stroke-opacity: 0.7; stroke-width: 0.3\" />\n",
       "     <use xlink:href=\"#mc95f5cf645\" x=\"159.083945\" y=\"57.66404\" style=\"fill: #4575b4; fill-opacity: 0.7; stroke: #4575b4; stroke-opacity: 0.7; stroke-width: 0.3\" />\n",
       "     <use xlink:href=\"#mc95f5cf645\" x=\"77.066357\" y=\"54.834319\" style=\"fill: #4575b4; fill-opacity: 0.7; stroke: #4575b4; stroke-opacity: 0.7; stroke-width: 0.3\" />\n",
       "     <use xlink:href=\"#mc95f5cf645\" x=\"101.601533\" y=\"58.89223\" style=\"fill: #4575b4; fill-opacity: 0.7; stroke: #4575b4; stroke-opacity: 0.7; stroke-width: 0.3\" />\n",
       "     <use xlink:href=\"#mc95f5cf645\" x=\"91.787462\" y=\"57.428908\" style=\"fill: #4575b4; fill-opacity: 0.7; stroke: #4575b4; stroke-opacity: 0.7; stroke-width: 0.3\" />\n",
       "     <use xlink:href=\"#mc95f5cf645\" x=\"152.774899\" y=\"55.041719\" style=\"fill: #4575b4; fill-opacity: 0.7; stroke: #4575b4; stroke-opacity: 0.7; stroke-width: 0.3\" />\n",
       "     <use xlink:href=\"#mc95f5cf645\" x=\"98.797513\" y=\"60.73813\" style=\"fill: #4575b4; fill-opacity: 0.7; stroke: #4575b4; stroke-opacity: 0.7; stroke-width: 0.3\" />\n",
       "    </g>\n",
       "   </g>\n",
       "   <g id=\"patch_3\">\n",
       "    <path d=\"M 63.396758 60.984  L 60.885758 67.0824  L 65.907758 67.0824  z \" style=\"fill: #444443; stroke: #ffffff; stroke-linejoin: miter\" />\n",
       "   </g>\n",
       "   <g id=\"line2d_1\">\n",
       "    <path d=\"M 27.295 44.121587  L 63.396758 44.121587  \" clip-path=\"url(#p4860755dba)\" style=\"fill: none; stroke-dasharray: 3.7,1.6; stroke-dashoffset: 0; stroke: #444443\" />\n",
       "   </g>\n",
       "   <g id=\"line2d_2\">\n",
       "    <path d=\"M 63.396758 60.984  L 63.396758 0  \" clip-path=\"url(#p4860755dba)\" style=\"fill: none; stroke-dasharray: 3.7,1.6; stroke-dashoffset: 0; stroke: #444443\" />\n",
       "   </g>\n",
       "   <g id=\"line2d_3\">\n",
       "    <path d=\"M 63.396758 55.532413  L 166.795 55.532413  \" clip-path=\"url(#p4860755dba)\" style=\"fill: none; stroke-dasharray: 3.7,1.6; stroke-dashoffset: 0; stroke: #444443\" />\n",
       "   </g>\n",
       "   <g id=\"patch_4\">\n",
       "    <path d=\"M 27.295 60.984  L 27.295 0  \" style=\"fill: none; stroke: #444443; stroke-width: 0.3; stroke-linejoin: miter; stroke-linecap: square\" />\n",
       "   </g>\n",
       "   <g id=\"patch_5\">\n",
       "    <path d=\"M 27.295 60.984  L 166.795 60.984  \" style=\"fill: none; stroke: #444443; stroke-width: 0.3; stroke-linejoin: miter; stroke-linecap: square\" />\n",
       "   </g>\n",
       "  </g>\n",
       " </g>\n",
       " <defs>\n",
       "  <clipPath id=\"p4860755dba\">\n",
       "   <rect x=\"27.295\" y=\"0\" width=\"139.5\" height=\"60.984\" />\n",
       "  </clipPath>\n",
       " </defs>\n",
       "</svg></g>\n",
       "\n",
       "\n",
       "<g id=\"node4\" class=\"node\">\n",
       "<title>leaf2</title>\n",
       "<polygon fill=\"none\" stroke=\"#444443\" stroke-width=\"0\" points=\"65,-60 0,-60 0,0 65,0 65,-60\" />\n",
       "<svg width=\"57px\" height=\"52px\" viewBox=\"0 0 76.910625 69.944875\" version=\"1.1\" preserveAspectRatio=\"xMinYMin meet\" x=\"4.5\" y=\"-56\">\n",
       " <metadata>\n",
       "  <rdf:RDF>\n",
       "   <ns2:Work>\n",
       "    <dc:type rdf:resource=\"http://purl.org/dc/dcmitype/StillImage\" />\n",
       "    <dc:date>2023-12-12T05:33:58.631077</dc:date>\n",
       "    <dc:format>image/svg+xml</dc:format>\n",
       "    <dc:creator>\n",
       "     <ns2:Agent>\n",
       "      <dc:title>Matplotlib v3.6.0, https://matplotlib.org/</dc:title>\n",
       "     </ns2:Agent>\n",
       "    </dc:creator>\n",
       "   </ns2:Work>\n",
       "  </rdf:RDF>\n",
       " </metadata>\n",
       " <defs>\n",
       "  <style type=\"text/css\">*{stroke-linejoin: round; stroke-linecap: butt}</style>\n",
       " </defs>\n",
       " <g id=\"figure_1\">\n",
       "  <g id=\"patch_1\">\n",
       "   <path d=\"M 0 69.944875  L 76.910625 69.944875  L 76.910625 -0  L 0 -0  z \" style=\"fill: #ffffff\" />\n",
       "  </g>\n",
       "  <g id=\"axes_1\">\n",
       "   <g id=\"patch_2\">\n",
       "    <path d=\"M 27.295 44.352  L 69.145 44.352  L 69.145 -0  L 27.295 -0  z \" style=\"fill: #eaeaf2\" />\n",
       "   </g>\n",
       "   <g id=\"matplotlib.axis_1\" />\n",
       "   <g id=\"matplotlib.axis_2\">\n",
       "    <g id=\"ytick_1\">\n",
       "     <g id=\"text_1\">\n",
       "      \n",
       "      <g style=\"fill: #444443\" transform=\"translate(13.34625 45.164268) scale(0.08 -0.08)\">\n",
       "       <defs>\n",
       "        <path id=\"ArialMT-30\" d=\"M 266 2259  Q 266 3072 433 3567  Q 600 4063 929 4331  Q 1259 4600 1759 4600  Q 2128 4600 2406 4451  Q 2684 4303 2865 4023  Q 3047 3744 3150 3342  Q 3253 2941 3253 2259  Q 3253 1453 3087 958  Q 2922 463 2592 192  Q 2263 -78 1759 -78  Q 1097 -78 719 397  Q 266 969 266 2259  z M 844 2259  Q 844 1131 1108 757  Q 1372 384 1759 384  Q 2147 384 2411 759  Q 2675 1134 2675 2259  Q 2675 3391 2411 3762  Q 2147 4134 1753 4134  Q 1366 4134 1134 3806  Q 844 3388 844 2259  z \" transform=\"scale(0.015625)\" />\n",
       "       </defs>\n",
       "       <use xlink:href=\"#ArialMT-30\" />\n",
       "      </g>\n",
       "     </g>\n",
       "    </g>\n",
       "    <g id=\"ytick_2\">\n",
       "     <g id=\"text_2\">\n",
       "      \n",
       "      <g style=\"fill: #444443\" transform=\"translate(0 7.209819) scale(0.08 -0.08)\">\n",
       "       <defs>\n",
       "        <path id=\"ArialMT-32\" d=\"M 3222 541  L 3222 0  L 194 0  Q 188 203 259 391  Q 375 700 629 1000  Q 884 1300 1366 1694  Q 2113 2306 2375 2664  Q 2638 3022 2638 3341  Q 2638 3675 2398 3904  Q 2159 4134 1775 4134  Q 1369 4134 1125 3890  Q 881 3647 878 3216  L 300 3275  Q 359 3922 746 4261  Q 1134 4600 1788 4600  Q 2447 4600 2831 4234  Q 3216 3869 3216 3328  Q 3216 3053 3103 2787  Q 2991 2522 2730 2228  Q 2469 1934 1863 1422  Q 1356 997 1212 845  Q 1069 694 975 541  L 3222 541  z \" transform=\"scale(0.015625)\" />\n",
       "       </defs>\n",
       "       <use xlink:href=\"#ArialMT-32\" />\n",
       "       <use xlink:href=\"#ArialMT-30\" x=\"55.615234\" />\n",
       "       <use xlink:href=\"#ArialMT-30\" x=\"111.230469\" />\n",
       "       <use xlink:href=\"#ArialMT-30\" x=\"166.845703\" />\n",
       "      </g>\n",
       "     </g>\n",
       "    </g>\n",
       "   </g>\n",
       "   <g id=\"PathCollection_1\">\n",
       "    <defs>\n",
       "     <path id=\"m450ee913ad\" d=\"M 0 1.118034  C 0.296506 1.118034 0.580908 1.000231 0.790569 0.790569  C 1.000231 0.580908 1.118034 0.296506 1.118034 0  C 1.118034 -0.296506 1.000231 -0.580908 0.790569 -0.790569  C 0.580908 -1.000231 0.296506 -1.118034 0 -1.118034  C -0.296506 -1.118034 -0.580908 -1.000231 -0.790569 -0.790569  C -1.000231 -0.580908 -1.118034 -0.296506 -1.118034 0  C -1.118034 0.296506 -1.000231 0.580908 -0.790569 0.790569  C -0.580908 1.000231 -0.296506 1.118034 0 1.118034  z \" style=\"stroke: #4575b4; stroke-opacity: 0.7; stroke-width: 0.3\" />\n",
       "    </defs>\n",
       "    <g clip-path=\"url(#pd3cb972c55)\">\n",
       "     <use xlink:href=\"#m450ee913ad\" x=\"46.983979\" y=\"13.126412\" style=\"fill: #4575b4; fill-opacity: 0.7; stroke: #4575b4; stroke-opacity: 0.7; stroke-width: 0.3\" />\n",
       "     <use xlink:href=\"#m450ee913ad\" x=\"47.418559\" y=\"4.299421\" style=\"fill: #4575b4; fill-opacity: 0.7; stroke: #4575b4; stroke-opacity: 0.7; stroke-width: 0.3\" />\n",
       "     <use xlink:href=\"#m450ee913ad\" x=\"51.90166\" y=\"11.288356\" style=\"fill: #4575b4; fill-opacity: 0.7; stroke: #4575b4; stroke-opacity: 0.7; stroke-width: 0.3\" />\n",
       "     <use xlink:href=\"#m450ee913ad\" x=\"50.413823\" y=\"7.914581\" style=\"fill: #4575b4; fill-opacity: 0.7; stroke: #4575b4; stroke-opacity: 0.7; stroke-width: 0.3\" />\n",
       "     <use xlink:href=\"#m450ee913ad\" x=\"50.36316\" y=\"4.765319\" style=\"fill: #4575b4; fill-opacity: 0.7; stroke: #4575b4; stroke-opacity: 0.7; stroke-width: 0.3\" />\n",
       "     <use xlink:href=\"#m450ee913ad\" x=\"42.806431\" y=\"12.477989\" style=\"fill: #4575b4; fill-opacity: 0.7; stroke: #4575b4; stroke-opacity: 0.7; stroke-width: 0.3\" />\n",
       "     <use xlink:href=\"#m450ee913ad\" x=\"48.138556\" y=\"1.232072\" style=\"fill: #4575b4; fill-opacity: 0.7; stroke: #4575b4; stroke-opacity: 0.7; stroke-width: 0.3\" />\n",
       "     <use xlink:href=\"#m450ee913ad\" x=\"45.749073\" y=\"3.298307\" style=\"fill: #4575b4; fill-opacity: 0.7; stroke: #4575b4; stroke-opacity: 0.7; stroke-width: 0.3\" />\n",
       "     <use xlink:href=\"#m450ee913ad\" x=\"49.157188\" y=\"10.443157\" style=\"fill: #4575b4; fill-opacity: 0.7; stroke: #4575b4; stroke-opacity: 0.7; stroke-width: 0.3\" />\n",
       "     <use xlink:href=\"#m450ee913ad\" x=\"47.891392\" y=\"11.212075\" style=\"fill: #4575b4; fill-opacity: 0.7; stroke: #4575b4; stroke-opacity: 0.7; stroke-width: 0.3\" />\n",
       "     <use xlink:href=\"#m450ee913ad\" x=\"51.267279\" y=\"14.868863\" style=\"fill: #4575b4; fill-opacity: 0.7; stroke: #4575b4; stroke-opacity: 0.7; stroke-width: 0.3\" />\n",
       "     <use xlink:href=\"#m450ee913ad\" x=\"49.282047\" y=\"4.247792\" style=\"fill: #4575b4; fill-opacity: 0.7; stroke: #4575b4; stroke-opacity: 0.7; stroke-width: 0.3\" />\n",
       "     <use xlink:href=\"#m450ee913ad\" x=\"50.852626\" y=\"15.137807\" style=\"fill: #4575b4; fill-opacity: 0.7; stroke: #4575b4; stroke-opacity: 0.7; stroke-width: 0.3\" />\n",
       "    </g>\n",
       "   </g>\n",
       "   <g id=\"line2d_1\">\n",
       "    <path d=\"M 27.295 8.793242  L 77.910625 8.793242  \" clip-path=\"url(#pd3cb972c55)\" style=\"fill: none; stroke-dasharray: 3.7,1.6; stroke-dashoffset: 0; stroke: #444443\" />\n",
       "   </g>\n",
       "   <g id=\"patch_3\">\n",
       "    <path d=\"M 27.295 44.352  L 27.295 -0  \" style=\"fill: none; stroke: #444443; stroke-width: 0.3; stroke-linejoin: miter; stroke-linecap: square\" />\n",
       "   </g>\n",
       "   <g id=\"text_3\">\n",
       "    \n",
       "    <g style=\"fill: #444443\" transform=\"translate(20.529375 54.727) scale(0.12 -0.12)\">\n",
       "     <defs>\n",
       "      <path id=\"ArialMT-79\" d=\"M 397 -1278  L 334 -750  Q 519 -800 656 -800  Q 844 -800 956 -737  Q 1069 -675 1141 -563  Q 1194 -478 1313 -144  Q 1328 -97 1363 -6  L 103 3319  L 709 3319  L 1400 1397  Q 1534 1031 1641 628  Q 1738 1016 1872 1384  L 2581 3319  L 3144 3319  L 1881 -56  Q 1678 -603 1566 -809  Q 1416 -1088 1222 -1217  Q 1028 -1347 759 -1347  Q 597 -1347 397 -1278  z \" transform=\"scale(0.015625)\" />\n",
       "      <path id=\"ArialMT-3d\" d=\"M 3381 2694  L 356 2694  L 356 3219  L 3381 3219  L 3381 2694  z M 3381 1303  L 356 1303  L 356 1828  L 3381 1828  L 3381 1303  z \" transform=\"scale(0.015625)\" />\n",
       "      <path id=\"ArialMT-31\" d=\"M 2384 0  L 1822 0  L 1822 3584  Q 1619 3391 1289 3197  Q 959 3003 697 2906  L 697 3450  Q 1169 3672 1522 3987  Q 1875 4303 2022 4600  L 2384 4600  L 2384 0  z \" transform=\"scale(0.015625)\" />\n",
       "      <path id=\"ArialMT-37\" d=\"M 303 3981  L 303 4522  L 3269 4522  L 3269 4084  Q 2831 3619 2401 2847  Q 1972 2075 1738 1259  Q 1569 684 1522 0  L 944 0  Q 953 541 1156 1306  Q 1359 2072 1739 2783  Q 2119 3494 2547 3981  L 303 3981  z \" transform=\"scale(0.015625)\" />\n",
       "      <path id=\"ArialMT-36\" d=\"M 3184 3459  L 2625 3416  Q 2550 3747 2413 3897  Q 2184 4138 1850 4138  Q 1581 4138 1378 3988  Q 1113 3794 959 3422  Q 806 3050 800 2363  Q 1003 2672 1297 2822  Q 1591 2972 1913 2972  Q 2475 2972 2870 2558  Q 3266 2144 3266 1488  Q 3266 1056 3080 686  Q 2894 316 2569 119  Q 2244 -78 1831 -78  Q 1128 -78 684 439  Q 241 956 241 2144  Q 241 3472 731 4075  Q 1159 4600 1884 4600  Q 2425 4600 2770 4297  Q 3116 3994 3184 3459  z M 888 1484  Q 888 1194 1011 928  Q 1134 663 1356 523  Q 1578 384 1822 384  Q 2178 384 2434 671  Q 2691 959 2691 1453  Q 2691 1928 2437 2201  Q 2184 2475 1800 2475  Q 1419 2475 1153 2201  Q 888 1928 888 1484  z \" transform=\"scale(0.015625)\" />\n",
       "      <path id=\"ArialMT-35\" d=\"M 266 1200  L 856 1250  Q 922 819 1161 601  Q 1400 384 1738 384  Q 2144 384 2425 690  Q 2706 997 2706 1503  Q 2706 1984 2436 2262  Q 2166 2541 1728 2541  Q 1456 2541 1237 2417  Q 1019 2294 894 2097  L 366 2166  L 809 4519  L 3088 4519  L 3088 3981  L 1259 3981  L 1013 2750  Q 1425 3038 1878 3038  Q 2478 3038 2890 2622  Q 3303 2206 3303 1553  Q 3303 931 2941 478  Q 2500 -78 1738 -78  Q 1113 -78 717 272  Q 322 622 266 1200  z \" transform=\"scale(0.015625)\" />\n",
       "      <path id=\"ArialMT-2e\" d=\"M 581 0  L 581 641  L 1222 641  L 1222 0  L 581 0  z \" transform=\"scale(0.015625)\" />\n",
       "      <path id=\"ArialMT-39\" d=\"M 350 1059  L 891 1109  Q 959 728 1153 556  Q 1347 384 1650 384  Q 1909 384 2104 503  Q 2300 622 2425 820  Q 2550 1019 2634 1356  Q 2719 1694 2719 2044  Q 2719 2081 2716 2156  Q 2547 1888 2255 1720  Q 1963 1553 1622 1553  Q 1053 1553 659 1965  Q 266 2378 266 3053  Q 266 3750 677 4175  Q 1088 4600 1706 4600  Q 2153 4600 2523 4359  Q 2894 4119 3086 3673  Q 3278 3228 3278 2384  Q 3278 1506 3087 986  Q 2897 466 2520 194  Q 2144 -78 1638 -78  Q 1100 -78 759 220  Q 419 519 350 1059  z M 2653 3081  Q 2653 3566 2395 3850  Q 2138 4134 1775 4134  Q 1400 4134 1122 3828  Q 844 3522 844 3034  Q 844 2597 1108 2323  Q 1372 2050 1759 2050  Q 2150 2050 2401 2323  Q 2653 2597 2653 3081  z \" transform=\"scale(0.015625)\" />\n",
       "     </defs>\n",
       "     <use xlink:href=\"#ArialMT-79\" />\n",
       "     <use xlink:href=\"#ArialMT-3d\" x=\"50\" />\n",
       "     <use xlink:href=\"#ArialMT-31\" x=\"108.398438\" />\n",
       "     <use xlink:href=\"#ArialMT-37\" x=\"164.013672\" />\n",
       "     <use xlink:href=\"#ArialMT-36\" x=\"219.628906\" />\n",
       "     <use xlink:href=\"#ArialMT-35\" x=\"275.244141\" />\n",
       "     <use xlink:href=\"#ArialMT-2e\" x=\"330.859375\" />\n",
       "     <use xlink:href=\"#ArialMT-36\" x=\"358.642578\" />\n",
       "     <use xlink:href=\"#ArialMT-39\" x=\"414.257812\" />\n",
       "    </g>\n",
       "    \n",
       "    <g style=\"fill: #444443\" transform=\"translate(35.205938 67.559875) scale(0.12 -0.12)\">\n",
       "     <defs>\n",
       "      <path id=\"ArialMT-6e\" d=\"M 422 0  L 422 3319  L 928 3319  L 928 2847  Q 1294 3394 1984 3394  Q 2284 3394 2536 3286  Q 2788 3178 2913 3003  Q 3038 2828 3088 2588  Q 3119 2431 3119 2041  L 3119 0  L 2556 0  L 2556 2019  Q 2556 2363 2490 2533  Q 2425 2703 2258 2804  Q 2091 2906 1866 2906  Q 1506 2906 1245 2678  Q 984 2450 984 1813  L 984 0  L 422 0  z \" transform=\"scale(0.015625)\" />\n",
       "      <path id=\"ArialMT-33\" d=\"M 269 1209  L 831 1284  Q 928 806 1161 595  Q 1394 384 1728 384  Q 2125 384 2398 659  Q 2672 934 2672 1341  Q 2672 1728 2419 1979  Q 2166 2231 1775 2231  Q 1616 2231 1378 2169  L 1441 2663  Q 1497 2656 1531 2656  Q 1891 2656 2178 2843  Q 2466 3031 2466 3422  Q 2466 3731 2256 3934  Q 2047 4138 1716 4138  Q 1388 4138 1169 3931  Q 950 3725 888 3313  L 325 3413  Q 428 3978 793 4289  Q 1159 4600 1703 4600  Q 2078 4600 2393 4439  Q 2709 4278 2876 4000  Q 3044 3722 3044 3409  Q 3044 3113 2884 2869  Q 2725 2625 2413 2481  Q 2819 2388 3044 2092  Q 3269 1797 3269 1353  Q 3269 753 2831 336  Q 2394 -81 1725 -81  Q 1122 -81 723 278  Q 325 638 269 1209  z \" transform=\"scale(0.015625)\" />\n",
       "     </defs>\n",
       "     <use xlink:href=\"#ArialMT-6e\" />\n",
       "     <use xlink:href=\"#ArialMT-3d\" x=\"55.615234\" />\n",
       "     <use xlink:href=\"#ArialMT-31\" x=\"114.013672\" />\n",
       "     <use xlink:href=\"#ArialMT-33\" x=\"169.628906\" />\n",
       "    </g>\n",
       "   </g>\n",
       "  </g>\n",
       " </g>\n",
       " <defs>\n",
       "  <clipPath id=\"pd3cb972c55\">\n",
       "   <rect x=\"27.295\" y=\"-0\" width=\"41.85\" height=\"44.352\" />\n",
       "  </clipPath>\n",
       " </defs>\n",
       "</svg></g>\n",
       "\n",
       "<g id=\"edge1\" class=\"edge\">\n",
       "<title>node1-&gt;leaf2</title>\n",
       "<path fill=\"none\" stroke=\"#444443\" stroke-width=\"0.3\" d=\"M59.57,-76.78C57.07,-72.55 54.51,-68.23 52.01,-64.01\" />\n",
       "<polygon fill=\"#444443\" stroke=\"#444443\" stroke-width=\"0.3\" points=\"53.18,-63.22 49.93,-60.49 50.76,-64.65 53.18,-63.22\" />\n",
       "</g>\n",
       "\n",
       "<g id=\"node5\" class=\"node\">\n",
       "<title>leaf3</title>\n",
       "<polygon fill=\"none\" stroke=\"#444443\" stroke-width=\"0\" points=\"144,-60 79,-60 79,0 144,0 144,-60\" />\n",
       "<svg width=\"57px\" height=\"52px\" viewBox=\"0 0 76.910625 69.944875\" version=\"1.1\" preserveAspectRatio=\"xMinYMin meet\" x=\"83.5\" y=\"-56\">\n",
       " <metadata>\n",
       "  <rdf:RDF>\n",
       "   <ns2:Work>\n",
       "    <dc:type rdf:resource=\"http://purl.org/dc/dcmitype/StillImage\" />\n",
       "    <dc:date>2023-12-12T05:33:58.685637</dc:date>\n",
       "    <dc:format>image/svg+xml</dc:format>\n",
       "    <dc:creator>\n",
       "     <ns2:Agent>\n",
       "      <dc:title>Matplotlib v3.6.0, https://matplotlib.org/</dc:title>\n",
       "     </ns2:Agent>\n",
       "    </dc:creator>\n",
       "   </ns2:Work>\n",
       "  </rdf:RDF>\n",
       " </metadata>\n",
       " <defs>\n",
       "  <style type=\"text/css\">*{stroke-linejoin: round; stroke-linecap: butt}</style>\n",
       " </defs>\n",
       " <g id=\"figure_1\">\n",
       "  <g id=\"patch_1\">\n",
       "   <path d=\"M 0 69.944875  L 76.910625 69.944875  L 76.910625 -0  L 0 -0  z \" style=\"fill: #ffffff\" />\n",
       "  </g>\n",
       "  <g id=\"axes_1\">\n",
       "   <g id=\"patch_2\">\n",
       "    <path d=\"M 27.295 44.352  L 69.145 44.352  L 69.145 -0  L 27.295 -0  z \" style=\"fill: #eaeaf2\" />\n",
       "   </g>\n",
       "   <g id=\"matplotlib.axis_1\" />\n",
       "   <g id=\"matplotlib.axis_2\">\n",
       "    <g id=\"ytick_1\">\n",
       "     <g id=\"text_1\">\n",
       "      \n",
       "      <g style=\"fill: #444443\" transform=\"translate(13.34625 45.164268) scale(0.08 -0.08)\">\n",
       "       <defs>\n",
       "        <path id=\"ArialMT-30\" d=\"M 266 2259  Q 266 3072 433 3567  Q 600 4063 929 4331  Q 1259 4600 1759 4600  Q 2128 4600 2406 4451  Q 2684 4303 2865 4023  Q 3047 3744 3150 3342  Q 3253 2941 3253 2259  Q 3253 1453 3087 958  Q 2922 463 2592 192  Q 2263 -78 1759 -78  Q 1097 -78 719 397  Q 266 969 266 2259  z M 844 2259  Q 844 1131 1108 757  Q 1372 384 1759 384  Q 2147 384 2411 759  Q 2675 1134 2675 2259  Q 2675 3391 2411 3762  Q 2147 4134 1753 4134  Q 1366 4134 1134 3806  Q 844 3388 844 2259  z \" transform=\"scale(0.015625)\" />\n",
       "       </defs>\n",
       "       <use xlink:href=\"#ArialMT-30\" />\n",
       "      </g>\n",
       "     </g>\n",
       "    </g>\n",
       "    <g id=\"ytick_2\">\n",
       "     <g id=\"text_2\">\n",
       "      \n",
       "      <g style=\"fill: #444443\" transform=\"translate(0 7.209819) scale(0.08 -0.08)\">\n",
       "       <defs>\n",
       "        <path id=\"ArialMT-32\" d=\"M 3222 541  L 3222 0  L 194 0  Q 188 203 259 391  Q 375 700 629 1000  Q 884 1300 1366 1694  Q 2113 2306 2375 2664  Q 2638 3022 2638 3341  Q 2638 3675 2398 3904  Q 2159 4134 1775 4134  Q 1369 4134 1125 3890  Q 881 3647 878 3216  L 300 3275  Q 359 3922 746 4261  Q 1134 4600 1788 4600  Q 2447 4600 2831 4234  Q 3216 3869 3216 3328  Q 3216 3053 3103 2787  Q 2991 2522 2730 2228  Q 2469 1934 1863 1422  Q 1356 997 1212 845  Q 1069 694 975 541  L 3222 541  z \" transform=\"scale(0.015625)\" />\n",
       "       </defs>\n",
       "       <use xlink:href=\"#ArialMT-32\" />\n",
       "       <use xlink:href=\"#ArialMT-30\" x=\"55.615234\" />\n",
       "       <use xlink:href=\"#ArialMT-30\" x=\"111.230469\" />\n",
       "       <use xlink:href=\"#ArialMT-30\" x=\"166.845703\" />\n",
       "      </g>\n",
       "     </g>\n",
       "    </g>\n",
       "   </g>\n",
       "   <g id=\"PathCollection_1\">\n",
       "    <defs>\n",
       "     <path id=\"me6c6a6561c\" d=\"M 0 1.118034  C 0.296506 1.118034 0.580908 1.000231 0.790569 0.790569  C 1.000231 0.580908 1.118034 0.296506 1.118034 0  C 1.118034 -0.296506 1.000231 -0.580908 0.790569 -0.790569  C 0.580908 -1.000231 0.296506 -1.118034 0 -1.118034  C -0.296506 -1.118034 -0.580908 -1.000231 -0.790569 -0.790569  C -1.000231 -0.580908 -1.118034 -0.296506 -1.118034 0  C -1.118034 0.296506 -1.000231 0.580908 -0.790569 0.790569  C -0.580908 1.000231 -0.296506 1.118034 0 1.118034  z \" style=\"stroke: #4575b4; stroke-opacity: 0.7; stroke-width: 0.3\" />\n",
       "    </defs>\n",
       "    <g clip-path=\"url(#pec78ca8cba)\">\n",
       "     <use xlink:href=\"#me6c6a6561c\" x=\"46.658429\" y=\"26.138962\" style=\"fill: #4575b4; fill-opacity: 0.7; stroke: #4575b4; stroke-opacity: 0.7; stroke-width: 0.3\" />\n",
       "     <use xlink:href=\"#me6c6a6561c\" x=\"45.057994\" y=\"23.811924\" style=\"fill: #4575b4; fill-opacity: 0.7; stroke: #4575b4; stroke-opacity: 0.7; stroke-width: 0.3\" />\n",
       "     <use xlink:href=\"#me6c6a6561c\" x=\"46.847154\" y=\"20.084375\" style=\"fill: #4575b4; fill-opacity: 0.7; stroke: #4575b4; stroke-opacity: 0.7; stroke-width: 0.3\" />\n",
       "     <use xlink:href=\"#me6c6a6561c\" x=\"48.163016\" y=\"24.755896\" style=\"fill: #4575b4; fill-opacity: 0.7; stroke: #4575b4; stroke-opacity: 0.7; stroke-width: 0.3\" />\n",
       "     <use xlink:href=\"#me6c6a6561c\" x=\"49.4894\" y=\"22.722903\" style=\"fill: #4575b4; fill-opacity: 0.7; stroke: #4575b4; stroke-opacity: 0.7; stroke-width: 0.3\" />\n",
       "     <use xlink:href=\"#me6c6a6561c\" x=\"55.784166\" y=\"25.486833\" style=\"fill: #4575b4; fill-opacity: 0.7; stroke: #4575b4; stroke-opacity: 0.7; stroke-width: 0.3\" />\n",
       "     <use xlink:href=\"#me6c6a6561c\" x=\"48.078523\" y=\"23.163375\" style=\"fill: #4575b4; fill-opacity: 0.7; stroke: #4575b4; stroke-opacity: 0.7; stroke-width: 0.3\" />\n",
       "     <use xlink:href=\"#me6c6a6561c\" x=\"45.019496\" y=\"18.316316\" style=\"fill: #4575b4; fill-opacity: 0.7; stroke: #4575b4; stroke-opacity: 0.7; stroke-width: 0.3\" />\n",
       "     <use xlink:href=\"#me6c6a6561c\" x=\"47.061653\" y=\"19.751864\" style=\"fill: #4575b4; fill-opacity: 0.7; stroke: #4575b4; stroke-opacity: 0.7; stroke-width: 0.3\" />\n",
       "     <use xlink:href=\"#me6c6a6561c\" x=\"46.667881\" y=\"23.954706\" style=\"fill: #4575b4; fill-opacity: 0.7; stroke: #4575b4; stroke-opacity: 0.7; stroke-width: 0.3\" />\n",
       "    </g>\n",
       "   </g>\n",
       "   <g id=\"line2d_1\">\n",
       "    <path d=\"M 27.295 22.818716  L 77.910625 22.818716  \" clip-path=\"url(#pec78ca8cba)\" style=\"fill: none; stroke-dasharray: 3.7,1.6; stroke-dashoffset: 0; stroke: #444443\" />\n",
       "   </g>\n",
       "   <g id=\"patch_3\">\n",
       "    <path d=\"M 27.295 44.352  L 27.295 -0  \" style=\"fill: none; stroke: #444443; stroke-width: 0.3; stroke-linejoin: miter; stroke-linecap: square\" />\n",
       "   </g>\n",
       "   <g id=\"text_3\">\n",
       "    \n",
       "    <g style=\"fill: #444443\" transform=\"translate(20.529375 54.727) scale(0.12 -0.12)\">\n",
       "     <defs>\n",
       "      <path id=\"ArialMT-79\" d=\"M 397 -1278  L 334 -750  Q 519 -800 656 -800  Q 844 -800 956 -737  Q 1069 -675 1141 -563  Q 1194 -478 1313 -144  Q 1328 -97 1363 -6  L 103 3319  L 709 3319  L 1400 1397  Q 1534 1031 1641 628  Q 1738 1016 1872 1384  L 2581 3319  L 3144 3319  L 1881 -56  Q 1678 -603 1566 -809  Q 1416 -1088 1222 -1217  Q 1028 -1347 759 -1347  Q 597 -1347 397 -1278  z \" transform=\"scale(0.015625)\" />\n",
       "      <path id=\"ArialMT-3d\" d=\"M 3381 2694  L 356 2694  L 356 3219  L 3381 3219  L 3381 2694  z M 3381 1303  L 356 1303  L 356 1828  L 3381 1828  L 3381 1303  z \" transform=\"scale(0.015625)\" />\n",
       "      <path id=\"ArialMT-31\" d=\"M 2384 0  L 1822 0  L 1822 3584  Q 1619 3391 1289 3197  Q 959 3003 697 2906  L 697 3450  Q 1169 3672 1522 3987  Q 1875 4303 2022 4600  L 2384 4600  L 2384 0  z \" transform=\"scale(0.015625)\" />\n",
       "      <path id=\"ArialMT-36\" d=\"M 3184 3459  L 2625 3416  Q 2550 3747 2413 3897  Q 2184 4138 1850 4138  Q 1581 4138 1378 3988  Q 1113 3794 959 3422  Q 806 3050 800 2363  Q 1003 2672 1297 2822  Q 1591 2972 1913 2972  Q 2475 2972 2870 2558  Q 3266 2144 3266 1488  Q 3266 1056 3080 686  Q 2894 316 2569 119  Q 2244 -78 1831 -78  Q 1128 -78 684 439  Q 241 956 241 2144  Q 241 3472 731 4075  Q 1159 4600 1884 4600  Q 2425 4600 2770 4297  Q 3116 3994 3184 3459  z M 888 1484  Q 888 1194 1011 928  Q 1134 663 1356 523  Q 1578 384 1822 384  Q 2178 384 2434 671  Q 2691 959 2691 1453  Q 2691 1928 2437 2201  Q 2184 2475 1800 2475  Q 1419 2475 1153 2201  Q 888 1928 888 1484  z \" transform=\"scale(0.015625)\" />\n",
       "      <path id=\"ArialMT-2e\" d=\"M 581 0  L 581 641  L 1222 641  L 1222 0  L 581 0  z \" transform=\"scale(0.015625)\" />\n",
       "     </defs>\n",
       "     <use xlink:href=\"#ArialMT-79\" />\n",
       "     <use xlink:href=\"#ArialMT-3d\" x=\"50\" />\n",
       "     <use xlink:href=\"#ArialMT-31\" x=\"108.398438\" />\n",
       "     <use xlink:href=\"#ArialMT-30\" x=\"164.013672\" />\n",
       "     <use xlink:href=\"#ArialMT-32\" x=\"219.628906\" />\n",
       "     <use xlink:href=\"#ArialMT-36\" x=\"275.244141\" />\n",
       "     <use xlink:href=\"#ArialMT-2e\" x=\"330.859375\" />\n",
       "     <use xlink:href=\"#ArialMT-36\" x=\"358.642578\" />\n",
       "     <use xlink:href=\"#ArialMT-32\" x=\"414.257812\" />\n",
       "    </g>\n",
       "    \n",
       "    <g style=\"fill: #444443\" transform=\"translate(35.205938 67.559875) scale(0.12 -0.12)\">\n",
       "     <defs>\n",
       "      <path id=\"ArialMT-6e\" d=\"M 422 0  L 422 3319  L 928 3319  L 928 2847  Q 1294 3394 1984 3394  Q 2284 3394 2536 3286  Q 2788 3178 2913 3003  Q 3038 2828 3088 2588  Q 3119 2431 3119 2041  L 3119 0  L 2556 0  L 2556 2019  Q 2556 2363 2490 2533  Q 2425 2703 2258 2804  Q 2091 2906 1866 2906  Q 1506 2906 1245 2678  Q 984 2450 984 1813  L 984 0  L 422 0  z \" transform=\"scale(0.015625)\" />\n",
       "     </defs>\n",
       "     <use xlink:href=\"#ArialMT-6e\" />\n",
       "     <use xlink:href=\"#ArialMT-3d\" x=\"55.615234\" />\n",
       "     <use xlink:href=\"#ArialMT-31\" x=\"114.013672\" />\n",
       "     <use xlink:href=\"#ArialMT-30\" x=\"169.628906\" />\n",
       "    </g>\n",
       "   </g>\n",
       "  </g>\n",
       " </g>\n",
       " <defs>\n",
       "  <clipPath id=\"pec78ca8cba\">\n",
       "   <rect x=\"27.295\" y=\"-0\" width=\"41.85\" height=\"44.352\" />\n",
       "  </clipPath>\n",
       " </defs>\n",
       "</svg></g>\n",
       "\n",
       "<g id=\"edge2\" class=\"edge\">\n",
       "<title>node1-&gt;leaf3</title>\n",
       "<path fill=\"none\" stroke=\"#444443\" stroke-width=\"0.3\" d=\"M93.07,-76.78C94.74,-72.64 96.45,-68.4 98.11,-64.26\" />\n",
       "<polygon fill=\"#444443\" stroke=\"#444443\" stroke-width=\"0.3\" points=\"99.43,-64.72 99.63,-60.49 96.84,-63.68 99.43,-64.72\" />\n",
       "</g>\n",
       "\n",
       "<g id=\"node6\" class=\"node\">\n",
       "<title>leaf5</title>\n",
       "<polygon fill=\"none\" stroke=\"#444443\" stroke-width=\"0\" points=\"248,-60 185,-60 185,0 248,0 248,-60\" />\n",
       "<svg width=\"55px\" height=\"52px\" viewBox=\"0 0 73.574062 69.944875\" version=\"1.1\" preserveAspectRatio=\"xMinYMin meet\" x=\"189.5\" y=\"-56\">\n",
       " <metadata>\n",
       "  <rdf:RDF>\n",
       "   <ns2:Work>\n",
       "    <dc:type rdf:resource=\"http://purl.org/dc/dcmitype/StillImage\" />\n",
       "    <dc:date>2023-12-12T05:33:58.745060</dc:date>\n",
       "    <dc:format>image/svg+xml</dc:format>\n",
       "    <dc:creator>\n",
       "     <ns2:Agent>\n",
       "      <dc:title>Matplotlib v3.6.0, https://matplotlib.org/</dc:title>\n",
       "     </ns2:Agent>\n",
       "    </dc:creator>\n",
       "   </ns2:Work>\n",
       "  </rdf:RDF>\n",
       " </metadata>\n",
       " <defs>\n",
       "  <style type=\"text/css\">*{stroke-linejoin: round; stroke-linecap: butt}</style>\n",
       " </defs>\n",
       " <g id=\"figure_1\">\n",
       "  <g id=\"patch_1\">\n",
       "   <path d=\"M 0 69.944875  L 73.574062 69.944875  L 73.574062 -0  L 0 -0  z \" style=\"fill: #ffffff\" />\n",
       "  </g>\n",
       "  <g id=\"axes_1\">\n",
       "   <g id=\"patch_2\">\n",
       "    <path d=\"M 27.295 44.352  L 69.145 44.352  L 69.145 -0  L 27.295 -0  z \" style=\"fill: #eaeaf2\" />\n",
       "   </g>\n",
       "   <g id=\"matplotlib.axis_1\" />\n",
       "   <g id=\"matplotlib.axis_2\">\n",
       "    <g id=\"ytick_1\">\n",
       "     <g id=\"text_1\">\n",
       "      \n",
       "      <g style=\"fill: #444443\" transform=\"translate(13.34625 45.164268) scale(0.08 -0.08)\">\n",
       "       <defs>\n",
       "        <path id=\"ArialMT-30\" d=\"M 266 2259  Q 266 3072 433 3567  Q 600 4063 929 4331  Q 1259 4600 1759 4600  Q 2128 4600 2406 4451  Q 2684 4303 2865 4023  Q 3047 3744 3150 3342  Q 3253 2941 3253 2259  Q 3253 1453 3087 958  Q 2922 463 2592 192  Q 2263 -78 1759 -78  Q 1097 -78 719 397  Q 266 969 266 2259  z M 844 2259  Q 844 1131 1108 757  Q 1372 384 1759 384  Q 2147 384 2411 759  Q 2675 1134 2675 2259  Q 2675 3391 2411 3762  Q 2147 4134 1753 4134  Q 1366 4134 1134 3806  Q 844 3388 844 2259  z \" transform=\"scale(0.015625)\" />\n",
       "       </defs>\n",
       "       <use xlink:href=\"#ArialMT-30\" />\n",
       "      </g>\n",
       "     </g>\n",
       "    </g>\n",
       "    <g id=\"ytick_2\">\n",
       "     <g id=\"text_2\">\n",
       "      \n",
       "      <g style=\"fill: #444443\" transform=\"translate(0 7.209819) scale(0.08 -0.08)\">\n",
       "       <defs>\n",
       "        <path id=\"ArialMT-32\" d=\"M 3222 541  L 3222 0  L 194 0  Q 188 203 259 391  Q 375 700 629 1000  Q 884 1300 1366 1694  Q 2113 2306 2375 2664  Q 2638 3022 2638 3341  Q 2638 3675 2398 3904  Q 2159 4134 1775 4134  Q 1369 4134 1125 3890  Q 881 3647 878 3216  L 300 3275  Q 359 3922 746 4261  Q 1134 4600 1788 4600  Q 2447 4600 2831 4234  Q 3216 3869 3216 3328  Q 3216 3053 3103 2787  Q 2991 2522 2730 2228  Q 2469 1934 1863 1422  Q 1356 997 1212 845  Q 1069 694 975 541  L 3222 541  z \" transform=\"scale(0.015625)\" />\n",
       "       </defs>\n",
       "       <use xlink:href=\"#ArialMT-32\" />\n",
       "       <use xlink:href=\"#ArialMT-30\" x=\"55.615234\" />\n",
       "       <use xlink:href=\"#ArialMT-30\" x=\"111.230469\" />\n",
       "       <use xlink:href=\"#ArialMT-30\" x=\"166.845703\" />\n",
       "      </g>\n",
       "     </g>\n",
       "    </g>\n",
       "   </g>\n",
       "   <g id=\"PathCollection_1\">\n",
       "    <defs>\n",
       "     <path id=\"me6ba48bd81\" d=\"M 0 1.118034  C 0.296506 1.118034 0.580908 1.000231 0.790569 0.790569  C 1.000231 0.580908 1.118034 0.296506 1.118034 0  C 1.118034 -0.296506 1.000231 -0.580908 0.790569 -0.790569  C 0.580908 -1.000231 0.296506 -1.118034 0 -1.118034  C -0.296506 -1.118034 -0.580908 -1.000231 -0.790569 -0.790569  C -1.000231 -0.580908 -1.118034 -0.296506 -1.118034 0  C -1.118034 0.296506 -1.000231 0.580908 -0.790569 0.790569  C -0.580908 1.000231 -0.296506 1.118034 0 1.118034  z \" style=\"stroke: #4575b4; stroke-opacity: 0.7; stroke-width: 0.3\" />\n",
       "    </defs>\n",
       "    <g clip-path=\"url(#p87f14c7309)\">\n",
       "     <use xlink:href=\"#me6ba48bd81\" x=\"49.832\" y=\"28.530644\" style=\"fill: #4575b4; fill-opacity: 0.7; stroke: #4575b4; stroke-opacity: 0.7; stroke-width: 0.3\" />\n",
       "     <use xlink:href=\"#me6ba48bd81\" x=\"43.061412\" y=\"34.527875\" style=\"fill: #4575b4; fill-opacity: 0.7; stroke: #4575b4; stroke-opacity: 0.7; stroke-width: 0.3\" />\n",
       "     <use xlink:href=\"#me6ba48bd81\" x=\"48.431801\" y=\"34.681765\" style=\"fill: #4575b4; fill-opacity: 0.7; stroke: #4575b4; stroke-opacity: 0.7; stroke-width: 0.3\" />\n",
       "     <use xlink:href=\"#me6ba48bd81\" x=\"48.743984\" y=\"33.672625\" style=\"fill: #4575b4; fill-opacity: 0.7; stroke: #4575b4; stroke-opacity: 0.7; stroke-width: 0.3\" />\n",
       "     <use xlink:href=\"#me6ba48bd81\" x=\"48.997342\" y=\"35.419235\" style=\"fill: #4575b4; fill-opacity: 0.7; stroke: #4575b4; stroke-opacity: 0.7; stroke-width: 0.3\" />\n",
       "     <use xlink:href=\"#me6ba48bd81\" x=\"46.220186\" y=\"27.385666\" style=\"fill: #4575b4; fill-opacity: 0.7; stroke: #4575b4; stroke-opacity: 0.7; stroke-width: 0.3\" />\n",
       "     <use xlink:href=\"#me6ba48bd81\" x=\"47.423438\" y=\"30.770595\" style=\"fill: #4575b4; fill-opacity: 0.7; stroke: #4575b4; stroke-opacity: 0.7; stroke-width: 0.3\" />\n",
       "     <use xlink:href=\"#me6ba48bd81\" x=\"43.452244\" y=\"28.591823\" style=\"fill: #4575b4; fill-opacity: 0.7; stroke: #4575b4; stroke-opacity: 0.7; stroke-width: 0.3\" />\n",
       "     <use xlink:href=\"#me6ba48bd81\" x=\"46.568365\" y=\"33.521447\" style=\"fill: #4575b4; fill-opacity: 0.7; stroke: #4575b4; stroke-opacity: 0.7; stroke-width: 0.3\" />\n",
       "     <use xlink:href=\"#me6ba48bd81\" x=\"46.4025\" y=\"32.677493\" style=\"fill: #4575b4; fill-opacity: 0.7; stroke: #4575b4; stroke-opacity: 0.7; stroke-width: 0.3\" />\n",
       "     <use xlink:href=\"#me6ba48bd81\" x=\"49.612936\" y=\"31.102744\" style=\"fill: #4575b4; fill-opacity: 0.7; stroke: #4575b4; stroke-opacity: 0.7; stroke-width: 0.3\" />\n",
       "     <use xlink:href=\"#me6ba48bd81\" x=\"44.349101\" y=\"32.706709\" style=\"fill: #4575b4; fill-opacity: 0.7; stroke: #4575b4; stroke-opacity: 0.7; stroke-width: 0.3\" />\n",
       "     <use xlink:href=\"#me6ba48bd81\" x=\"50.835451\" y=\"29.386097\" style=\"fill: #4575b4; fill-opacity: 0.7; stroke: #4575b4; stroke-opacity: 0.7; stroke-width: 0.3\" />\n",
       "     <use xlink:href=\"#me6ba48bd81\" x=\"53.223534\" y=\"34.920297\" style=\"fill: #4575b4; fill-opacity: 0.7; stroke: #4575b4; stroke-opacity: 0.7; stroke-width: 0.3\" />\n",
       "     <use xlink:href=\"#me6ba48bd81\" x=\"41.28969\" y=\"28.799549\" style=\"fill: #4575b4; fill-opacity: 0.7; stroke: #4575b4; stroke-opacity: 0.7; stroke-width: 0.3\" />\n",
       "     <use xlink:href=\"#me6ba48bd81\" x=\"49.647114\" y=\"36.297458\" style=\"fill: #4575b4; fill-opacity: 0.7; stroke: #4575b4; stroke-opacity: 0.7; stroke-width: 0.3\" />\n",
       "     <use xlink:href=\"#me6ba48bd81\" x=\"50.486288\" y=\"36.697241\" style=\"fill: #4575b4; fill-opacity: 0.7; stroke: #4575b4; stroke-opacity: 0.7; stroke-width: 0.3\" />\n",
       "     <use xlink:href=\"#me6ba48bd81\" x=\"46.085861\" y=\"27.902413\" style=\"fill: #4575b4; fill-opacity: 0.7; stroke: #4575b4; stroke-opacity: 0.7; stroke-width: 0.3\" />\n",
       "    </g>\n",
       "   </g>\n",
       "   <g id=\"line2d_1\">\n",
       "    <path d=\"M 27.295 32.088427  L 74.574062 32.088427  \" clip-path=\"url(#p87f14c7309)\" style=\"fill: none; stroke-dasharray: 3.7,1.6; stroke-dashoffset: 0; stroke: #444443\" />\n",
       "   </g>\n",
       "   <g id=\"patch_3\">\n",
       "    <path d=\"M 27.295 44.352  L 27.295 -0  \" style=\"fill: none; stroke: #444443; stroke-width: 0.3; stroke-linejoin: miter; stroke-linecap: square\" />\n",
       "   </g>\n",
       "   <g id=\"text_3\">\n",
       "    \n",
       "    <g style=\"fill: #444443\" transform=\"translate(23.865938 54.727) scale(0.12 -0.12)\">\n",
       "     <defs>\n",
       "      <path id=\"ArialMT-79\" d=\"M 397 -1278  L 334 -750  Q 519 -800 656 -800  Q 844 -800 956 -737  Q 1069 -675 1141 -563  Q 1194 -478 1313 -144  Q 1328 -97 1363 -6  L 103 3319  L 709 3319  L 1400 1397  Q 1534 1031 1641 628  Q 1738 1016 1872 1384  L 2581 3319  L 3144 3319  L 1881 -56  Q 1678 -603 1566 -809  Q 1416 -1088 1222 -1217  Q 1028 -1347 759 -1347  Q 597 -1347 397 -1278  z \" transform=\"scale(0.015625)\" />\n",
       "      <path id=\"ArialMT-3d\" d=\"M 3381 2694  L 356 2694  L 356 3219  L 3381 3219  L 3381 2694  z M 3381 1303  L 356 1303  L 356 1828  L 3381 1828  L 3381 1303  z \" transform=\"scale(0.015625)\" />\n",
       "      <path id=\"ArialMT-35\" d=\"M 266 1200  L 856 1250  Q 922 819 1161 601  Q 1400 384 1738 384  Q 2144 384 2425 690  Q 2706 997 2706 1503  Q 2706 1984 2436 2262  Q 2166 2541 1728 2541  Q 1456 2541 1237 2417  Q 1019 2294 894 2097  L 366 2166  L 809 4519  L 3088 4519  L 3088 3981  L 1259 3981  L 1013 2750  Q 1425 3038 1878 3038  Q 2478 3038 2890 2622  Q 3303 2206 3303 1553  Q 3303 931 2941 478  Q 2500 -78 1738 -78  Q 1113 -78 717 272  Q 322 622 266 1200  z \" transform=\"scale(0.015625)\" />\n",
       "      <path id=\"ArialMT-33\" d=\"M 269 1209  L 831 1284  Q 928 806 1161 595  Q 1394 384 1728 384  Q 2125 384 2398 659  Q 2672 934 2672 1341  Q 2672 1728 2419 1979  Q 2166 2231 1775 2231  Q 1616 2231 1378 2169  L 1441 2663  Q 1497 2656 1531 2656  Q 1891 2656 2178 2843  Q 2466 3031 2466 3422  Q 2466 3731 2256 3934  Q 2047 4138 1716 4138  Q 1388 4138 1169 3931  Q 950 3725 888 3313  L 325 3413  Q 428 3978 793 4289  Q 1159 4600 1703 4600  Q 2078 4600 2393 4439  Q 2709 4278 2876 4000  Q 3044 3722 3044 3409  Q 3044 3113 2884 2869  Q 2725 2625 2413 2481  Q 2819 2388 3044 2092  Q 3269 1797 3269 1353  Q 3269 753 2831 336  Q 2394 -81 1725 -81  Q 1122 -81 723 278  Q 325 638 269 1209  z \" transform=\"scale(0.015625)\" />\n",
       "      <path id=\"ArialMT-38\" d=\"M 1131 2484  Q 781 2613 612 2850  Q 444 3088 444 3419  Q 444 3919 803 4259  Q 1163 4600 1759 4600  Q 2359 4600 2725 4251  Q 3091 3903 3091 3403  Q 3091 3084 2923 2848  Q 2756 2613 2416 2484  Q 2838 2347 3058 2040  Q 3278 1734 3278 1309  Q 3278 722 2862 322  Q 2447 -78 1769 -78  Q 1091 -78 675 323  Q 259 725 259 1325  Q 259 1772 486 2073  Q 713 2375 1131 2484  z M 1019 3438  Q 1019 3113 1228 2906  Q 1438 2700 1772 2700  Q 2097 2700 2305 2904  Q 2513 3109 2513 3406  Q 2513 3716 2298 3927  Q 2084 4138 1766 4138  Q 1444 4138 1231 3931  Q 1019 3725 1019 3438  z M 838 1322  Q 838 1081 952 856  Q 1066 631 1291 507  Q 1516 384 1775 384  Q 2178 384 2440 643  Q 2703 903 2703 1303  Q 2703 1709 2433 1975  Q 2163 2241 1756 2241  Q 1359 2241 1098 1978  Q 838 1716 838 1322  z \" transform=\"scale(0.015625)\" />\n",
       "      <path id=\"ArialMT-2e\" d=\"M 581 0  L 581 641  L 1222 641  L 1222 0  L 581 0  z \" transform=\"scale(0.015625)\" />\n",
       "      <path id=\"ArialMT-31\" d=\"M 2384 0  L 1822 0  L 1822 3584  Q 1619 3391 1289 3197  Q 959 3003 697 2906  L 697 3450  Q 1169 3672 1522 3987  Q 1875 4303 2022 4600  L 2384 4600  L 2384 0  z \" transform=\"scale(0.015625)\" />\n",
       "      <path id=\"ArialMT-36\" d=\"M 3184 3459  L 2625 3416  Q 2550 3747 2413 3897  Q 2184 4138 1850 4138  Q 1581 4138 1378 3988  Q 1113 3794 959 3422  Q 806 3050 800 2363  Q 1003 2672 1297 2822  Q 1591 2972 1913 2972  Q 2475 2972 2870 2558  Q 3266 2144 3266 1488  Q 3266 1056 3080 686  Q 2894 316 2569 119  Q 2244 -78 1831 -78  Q 1128 -78 684 439  Q 241 956 241 2144  Q 241 3472 731 4075  Q 1159 4600 1884 4600  Q 2425 4600 2770 4297  Q 3116 3994 3184 3459  z M 888 1484  Q 888 1194 1011 928  Q 1134 663 1356 523  Q 1578 384 1822 384  Q 2178 384 2434 671  Q 2691 959 2691 1453  Q 2691 1928 2437 2201  Q 2184 2475 1800 2475  Q 1419 2475 1153 2201  Q 888 1928 888 1484  z \" transform=\"scale(0.015625)\" />\n",
       "     </defs>\n",
       "     <use xlink:href=\"#ArialMT-79\" />\n",
       "     <use xlink:href=\"#ArialMT-3d\" x=\"50\" />\n",
       "     <use xlink:href=\"#ArialMT-35\" x=\"108.398438\" />\n",
       "     <use xlink:href=\"#ArialMT-33\" x=\"164.013672\" />\n",
       "     <use xlink:href=\"#ArialMT-38\" x=\"219.628906\" />\n",
       "     <use xlink:href=\"#ArialMT-2e\" x=\"275.244141\" />\n",
       "     <use xlink:href=\"#ArialMT-31\" x=\"303.027344\" />\n",
       "     <use xlink:href=\"#ArialMT-36\" x=\"358.642578\" />\n",
       "    </g>\n",
       "    \n",
       "    <g style=\"fill: #444443\" transform=\"translate(35.205938 67.559875) scale(0.12 -0.12)\">\n",
       "     <defs>\n",
       "      <path id=\"ArialMT-6e\" d=\"M 422 0  L 422 3319  L 928 3319  L 928 2847  Q 1294 3394 1984 3394  Q 2284 3394 2536 3286  Q 2788 3178 2913 3003  Q 3038 2828 3088 2588  Q 3119 2431 3119 2041  L 3119 0  L 2556 0  L 2556 2019  Q 2556 2363 2490 2533  Q 2425 2703 2258 2804  Q 2091 2906 1866 2906  Q 1506 2906 1245 2678  Q 984 2450 984 1813  L 984 0  L 422 0  z \" transform=\"scale(0.015625)\" />\n",
       "     </defs>\n",
       "     <use xlink:href=\"#ArialMT-6e\" />\n",
       "     <use xlink:href=\"#ArialMT-3d\" x=\"55.615234\" />\n",
       "     <use xlink:href=\"#ArialMT-31\" x=\"114.013672\" />\n",
       "     <use xlink:href=\"#ArialMT-38\" x=\"169.628906\" />\n",
       "    </g>\n",
       "   </g>\n",
       "  </g>\n",
       " </g>\n",
       " <defs>\n",
       "  <clipPath id=\"p87f14c7309\">\n",
       "   <rect x=\"27.295\" y=\"-0\" width=\"41.85\" height=\"44.352\" />\n",
       "  </clipPath>\n",
       " </defs>\n",
       "</svg></g>\n",
       "\n",
       "<g id=\"edge4\" class=\"edge\">\n",
       "<title>node4-&gt;leaf5</title>\n",
       "<path fill=\"none\" stroke=\"#444443\" stroke-width=\"0.3\" d=\"M225.14,-76.78C224.37,-72.72 223.59,-68.57 222.82,-64.51\" />\n",
       "<polygon fill=\"#444443\" stroke=\"#444443\" stroke-width=\"0.3\" points=\"224.18,-64.16 222.06,-60.49 221.43,-64.68 224.18,-64.16\" />\n",
       "</g>\n",
       "\n",
       "<g id=\"node7\" class=\"node\">\n",
       "<title>leaf6</title>\n",
       "<polygon fill=\"none\" stroke=\"#444443\" stroke-width=\"0\" points=\"325,-60 262,-60 262,0 325,0 325,-60\" />\n",
       "<svg width=\"55px\" height=\"52px\" viewBox=\"0 0 73.574062 69.944875\" version=\"1.1\" preserveAspectRatio=\"xMinYMin meet\" x=\"266.5\" y=\"-56\">\n",
       " <metadata>\n",
       "  <rdf:RDF>\n",
       "   <ns2:Work>\n",
       "    <dc:type rdf:resource=\"http://purl.org/dc/dcmitype/StillImage\" />\n",
       "    <dc:date>2023-12-12T05:33:58.806154</dc:date>\n",
       "    <dc:format>image/svg+xml</dc:format>\n",
       "    <dc:creator>\n",
       "     <ns2:Agent>\n",
       "      <dc:title>Matplotlib v3.6.0, https://matplotlib.org/</dc:title>\n",
       "     </ns2:Agent>\n",
       "    </dc:creator>\n",
       "   </ns2:Work>\n",
       "  </rdf:RDF>\n",
       " </metadata>\n",
       " <defs>\n",
       "  <style type=\"text/css\">*{stroke-linejoin: round; stroke-linecap: butt}</style>\n",
       " </defs>\n",
       " <g id=\"figure_1\">\n",
       "  <g id=\"patch_1\">\n",
       "   <path d=\"M 0 69.944875  L 73.574062 69.944875  L 73.574062 -0  L 0 -0  z \" style=\"fill: #ffffff\" />\n",
       "  </g>\n",
       "  <g id=\"axes_1\">\n",
       "   <g id=\"patch_2\">\n",
       "    <path d=\"M 27.295 44.352  L 69.145 44.352  L 69.145 -0  L 27.295 -0  z \" style=\"fill: #eaeaf2\" />\n",
       "   </g>\n",
       "   <g id=\"matplotlib.axis_1\" />\n",
       "   <g id=\"matplotlib.axis_2\">\n",
       "    <g id=\"ytick_1\">\n",
       "     <g id=\"text_1\">\n",
       "      \n",
       "      <g style=\"fill: #444443\" transform=\"translate(13.34625 45.164268) scale(0.08 -0.08)\">\n",
       "       <defs>\n",
       "        <path id=\"ArialMT-30\" d=\"M 266 2259  Q 266 3072 433 3567  Q 600 4063 929 4331  Q 1259 4600 1759 4600  Q 2128 4600 2406 4451  Q 2684 4303 2865 4023  Q 3047 3744 3150 3342  Q 3253 2941 3253 2259  Q 3253 1453 3087 958  Q 2922 463 2592 192  Q 2263 -78 1759 -78  Q 1097 -78 719 397  Q 266 969 266 2259  z M 844 2259  Q 844 1131 1108 757  Q 1372 384 1759 384  Q 2147 384 2411 759  Q 2675 1134 2675 2259  Q 2675 3391 2411 3762  Q 2147 4134 1753 4134  Q 1366 4134 1134 3806  Q 844 3388 844 2259  z \" transform=\"scale(0.015625)\" />\n",
       "       </defs>\n",
       "       <use xlink:href=\"#ArialMT-30\" />\n",
       "      </g>\n",
       "     </g>\n",
       "    </g>\n",
       "    <g id=\"ytick_2\">\n",
       "     <g id=\"text_2\">\n",
       "      \n",
       "      <g style=\"fill: #444443\" transform=\"translate(0 7.209819) scale(0.08 -0.08)\">\n",
       "       <defs>\n",
       "        <path id=\"ArialMT-32\" d=\"M 3222 541  L 3222 0  L 194 0  Q 188 203 259 391  Q 375 700 629 1000  Q 884 1300 1366 1694  Q 2113 2306 2375 2664  Q 2638 3022 2638 3341  Q 2638 3675 2398 3904  Q 2159 4134 1775 4134  Q 1369 4134 1125 3890  Q 881 3647 878 3216  L 300 3275  Q 359 3922 746 4261  Q 1134 4600 1788 4600  Q 2447 4600 2831 4234  Q 3216 3869 3216 3328  Q 3216 3053 3103 2787  Q 2991 2522 2730 2228  Q 2469 1934 1863 1422  Q 1356 997 1212 845  Q 1069 694 975 541  L 3222 541  z \" transform=\"scale(0.015625)\" />\n",
       "       </defs>\n",
       "       <use xlink:href=\"#ArialMT-32\" />\n",
       "       <use xlink:href=\"#ArialMT-30\" x=\"55.615234\" />\n",
       "       <use xlink:href=\"#ArialMT-30\" x=\"111.230469\" />\n",
       "       <use xlink:href=\"#ArialMT-30\" x=\"166.845703\" />\n",
       "      </g>\n",
       "     </g>\n",
       "    </g>\n",
       "   </g>\n",
       "   <g id=\"PathCollection_1\">\n",
       "    <defs>\n",
       "     <path id=\"m8522ef08d1\" d=\"M 0 1.118034  C 0.296506 1.118034 0.580908 1.000231 0.790569 0.790569  C 1.000231 0.580908 1.118034 0.296506 1.118034 0  C 1.118034 -0.296506 1.000231 -0.580908 0.790569 -0.790569  C 0.580908 -1.000231 0.296506 -1.118034 0 -1.118034  C -0.296506 -1.118034 -0.580908 -1.000231 -0.790569 -0.790569  C -1.000231 -0.580908 -1.118034 -0.296506 -1.118034 0  C -1.118034 0.296506 -1.000231 0.580908 -0.790569 0.790569  C -0.580908 1.000231 -0.296506 1.118034 0 1.118034  z \" style=\"stroke: #4575b4; stroke-opacity: 0.7; stroke-width: 0.3\" />\n",
       "    </defs>\n",
       "    <g clip-path=\"url(#pcda19ad435)\">\n",
       "     <use xlink:href=\"#m8522ef08d1\" x=\"46.889934\" y=\"39.224054\" style=\"fill: #4575b4; fill-opacity: 0.7; stroke: #4575b4; stroke-opacity: 0.7; stroke-width: 0.3\" />\n",
       "     <use xlink:href=\"#m8522ef08d1\" x=\"47.775116\" y=\"39.503964\" style=\"fill: #4575b4; fill-opacity: 0.7; stroke: #4575b4; stroke-opacity: 0.7; stroke-width: 0.3\" />\n",
       "     <use xlink:href=\"#m8522ef08d1\" x=\"47.222996\" y=\"40.361338\" style=\"fill: #4575b4; fill-opacity: 0.7; stroke: #4575b4; stroke-opacity: 0.7; stroke-width: 0.3\" />\n",
       "     <use xlink:href=\"#m8522ef08d1\" x=\"47.185425\" y=\"38.585931\" style=\"fill: #4575b4; fill-opacity: 0.7; stroke: #4575b4; stroke-opacity: 0.7; stroke-width: 0.3\" />\n",
       "     <use xlink:href=\"#m8522ef08d1\" x=\"42.608739\" y=\"42.609602\" style=\"fill: #4575b4; fill-opacity: 0.7; stroke: #4575b4; stroke-opacity: 0.7; stroke-width: 0.3\" />\n",
       "     <use xlink:href=\"#m8522ef08d1\" x=\"52.078006\" y=\"39.931433\" style=\"fill: #4575b4; fill-opacity: 0.7; stroke: #4575b4; stroke-opacity: 0.7; stroke-width: 0.3\" />\n",
       "     <use xlink:href=\"#m8522ef08d1\" x=\"51.834563\" y=\"38.529266\" style=\"fill: #4575b4; fill-opacity: 0.7; stroke: #4575b4; stroke-opacity: 0.7; stroke-width: 0.3\" />\n",
       "     <use xlink:href=\"#m8522ef08d1\" x=\"45.496856\" y=\"38.266098\" style=\"fill: #4575b4; fill-opacity: 0.7; stroke: #4575b4; stroke-opacity: 0.7; stroke-width: 0.3\" />\n",
       "     <use xlink:href=\"#m8522ef08d1\" x=\"43.310411\" y=\"40.876061\" style=\"fill: #4575b4; fill-opacity: 0.7; stroke: #4575b4; stroke-opacity: 0.7; stroke-width: 0.3\" />\n",
       "     <use xlink:href=\"#m8522ef08d1\" x=\"49.964525\" y=\"39.114712\" style=\"fill: #4575b4; fill-opacity: 0.7; stroke: #4575b4; stroke-opacity: 0.7; stroke-width: 0.3\" />\n",
       "     <use xlink:href=\"#m8522ef08d1\" x=\"46.292262\" y=\"42.29097\" style=\"fill: #4575b4; fill-opacity: 0.7; stroke: #4575b4; stroke-opacity: 0.7; stroke-width: 0.3\" />\n",
       "     <use xlink:href=\"#m8522ef08d1\" x=\"48.695259\" y=\"39.385254\" style=\"fill: #4575b4; fill-opacity: 0.7; stroke: #4575b4; stroke-opacity: 0.7; stroke-width: 0.3\" />\n",
       "     <use xlink:href=\"#m8522ef08d1\" x=\"47.150888\" y=\"40.706059\" style=\"fill: #4575b4; fill-opacity: 0.7; stroke: #4575b4; stroke-opacity: 0.7; stroke-width: 0.3\" />\n",
       "     <use xlink:href=\"#m8522ef08d1\" x=\"50.535272\" y=\"41.800922\" style=\"fill: #4575b4; fill-opacity: 0.7; stroke: #4575b4; stroke-opacity: 0.7; stroke-width: 0.3\" />\n",
       "     <use xlink:href=\"#m8522ef08d1\" x=\"50.54602\" y=\"40.627917\" style=\"fill: #4575b4; fill-opacity: 0.7; stroke: #4575b4; stroke-opacity: 0.7; stroke-width: 0.3\" />\n",
       "     <use xlink:href=\"#m8522ef08d1\" x=\"45.7907\" y=\"40.769813\" style=\"fill: #4575b4; fill-opacity: 0.7; stroke: #4575b4; stroke-opacity: 0.7; stroke-width: 0.3\" />\n",
       "     <use xlink:href=\"#m8522ef08d1\" x=\"43.588497\" y=\"38.817947\" style=\"fill: #4575b4; fill-opacity: 0.7; stroke: #4575b4; stroke-opacity: 0.7; stroke-width: 0.3\" />\n",
       "     <use xlink:href=\"#m8522ef08d1\" x=\"42.920322\" y=\"36.792405\" style=\"fill: #4575b4; fill-opacity: 0.7; stroke: #4575b4; stroke-opacity: 0.7; stroke-width: 0.3\" />\n",
       "     <use xlink:href=\"#m8522ef08d1\" x=\"50.26355\" y=\"43.011433\" style=\"fill: #4575b4; fill-opacity: 0.7; stroke: #4575b4; stroke-opacity: 0.7; stroke-width: 0.3\" />\n",
       "     <use xlink:href=\"#m8522ef08d1\" x=\"44.239699\" y=\"38.629909\" style=\"fill: #4575b4; fill-opacity: 0.7; stroke: #4575b4; stroke-opacity: 0.7; stroke-width: 0.3\" />\n",
       "     <use xlink:href=\"#m8522ef08d1\" x=\"46.523179\" y=\"39.850608\" style=\"fill: #4575b4; fill-opacity: 0.7; stroke: #4575b4; stroke-opacity: 0.7; stroke-width: 0.3\" />\n",
       "     <use xlink:href=\"#m8522ef08d1\" x=\"46.223541\" y=\"44.292266\" style=\"fill: #4575b4; fill-opacity: 0.7; stroke: #4575b4; stroke-opacity: 0.7; stroke-width: 0.3\" />\n",
       "     <use xlink:href=\"#m8522ef08d1\" x=\"48.044005\" y=\"40.80046\" style=\"fill: #4575b4; fill-opacity: 0.7; stroke: #4575b4; stroke-opacity: 0.7; stroke-width: 0.3\" />\n",
       "     <use xlink:href=\"#m8522ef08d1\" x=\"41.737335\" y=\"40.424383\" style=\"fill: #4575b4; fill-opacity: 0.7; stroke: #4575b4; stroke-opacity: 0.7; stroke-width: 0.3\" />\n",
       "     <use xlink:href=\"#m8522ef08d1\" x=\"48.852031\" y=\"41.141368\" style=\"fill: #4575b4; fill-opacity: 0.7; stroke: #4575b4; stroke-opacity: 0.7; stroke-width: 0.3\" />\n",
       "     <use xlink:href=\"#m8522ef08d1\" x=\"49.973987\" y=\"40.208982\" style=\"fill: #4575b4; fill-opacity: 0.7; stroke: #4575b4; stroke-opacity: 0.7; stroke-width: 0.3\" />\n",
       "     <use xlink:href=\"#m8522ef08d1\" x=\"48.516037\" y=\"38.86753\" style=\"fill: #4575b4; fill-opacity: 0.7; stroke: #4575b4; stroke-opacity: 0.7; stroke-width: 0.3\" />\n",
       "     <use xlink:href=\"#m8522ef08d1\" x=\"47.179153\" y=\"39.890804\" style=\"fill: #4575b4; fill-opacity: 0.7; stroke: #4575b4; stroke-opacity: 0.7; stroke-width: 0.3\" />\n",
       "     <use xlink:href=\"#m8522ef08d1\" x=\"48.546096\" y=\"36.735738\" style=\"fill: #4575b4; fill-opacity: 0.7; stroke: #4575b4; stroke-opacity: 0.7; stroke-width: 0.3\" />\n",
       "     <use xlink:href=\"#m8522ef08d1\" x=\"49.556007\" y=\"39.552856\" style=\"fill: #4575b4; fill-opacity: 0.7; stroke: #4575b4; stroke-opacity: 0.7; stroke-width: 0.3\" />\n",
       "     <use xlink:href=\"#m8522ef08d1\" x=\"38.937359\" y=\"43.356771\" style=\"fill: #4575b4; fill-opacity: 0.7; stroke: #4575b4; stroke-opacity: 0.7; stroke-width: 0.3\" />\n",
       "     <use xlink:href=\"#m8522ef08d1\" x=\"54.768394\" y=\"41.636215\" style=\"fill: #4575b4; fill-opacity: 0.7; stroke: #4575b4; stroke-opacity: 0.7; stroke-width: 0.3\" />\n",
       "     <use xlink:href=\"#m8522ef08d1\" x=\"49.526032\" y=\"41.202613\" style=\"fill: #4575b4; fill-opacity: 0.7; stroke: #4575b4; stroke-opacity: 0.7; stroke-width: 0.3\" />\n",
       "     <use xlink:href=\"#m8522ef08d1\" x=\"46.035736\" y=\"38.967473\" style=\"fill: #4575b4; fill-opacity: 0.7; stroke: #4575b4; stroke-opacity: 0.7; stroke-width: 0.3\" />\n",
       "     <use xlink:href=\"#m8522ef08d1\" x=\"46.911088\" y=\"41.194621\" style=\"fill: #4575b4; fill-opacity: 0.7; stroke: #4575b4; stroke-opacity: 0.7; stroke-width: 0.3\" />\n",
       "     <use xlink:href=\"#m8522ef08d1\" x=\"49.873047\" y=\"38.803124\" style=\"fill: #4575b4; fill-opacity: 0.7; stroke: #4575b4; stroke-opacity: 0.7; stroke-width: 0.3\" />\n",
       "     <use xlink:href=\"#m8522ef08d1\" x=\"47.831284\" y=\"39.544818\" style=\"fill: #4575b4; fill-opacity: 0.7; stroke: #4575b4; stroke-opacity: 0.7; stroke-width: 0.3\" />\n",
       "     <use xlink:href=\"#m8522ef08d1\" x=\"41.421268\" y=\"38.493361\" style=\"fill: #4575b4; fill-opacity: 0.7; stroke: #4575b4; stroke-opacity: 0.7; stroke-width: 0.3\" />\n",
       "     <use xlink:href=\"#m8522ef08d1\" x=\"55.131922\" y=\"39.563544\" style=\"fill: #4575b4; fill-opacity: 0.7; stroke: #4575b4; stroke-opacity: 0.7; stroke-width: 0.3\" />\n",
       "     <use xlink:href=\"#m8522ef08d1\" x=\"47.84991\" y=\"39.243469\" style=\"fill: #4575b4; fill-opacity: 0.7; stroke: #4575b4; stroke-opacity: 0.7; stroke-width: 0.3\" />\n",
       "     <use xlink:href=\"#m8522ef08d1\" x=\"51.635538\" y=\"40.876964\" style=\"fill: #4575b4; fill-opacity: 0.7; stroke: #4575b4; stroke-opacity: 0.7; stroke-width: 0.3\" />\n",
       "     <use xlink:href=\"#m8522ef08d1\" x=\"45.903017\" y=\"38.127769\" style=\"fill: #4575b4; fill-opacity: 0.7; stroke: #4575b4; stroke-opacity: 0.7; stroke-width: 0.3\" />\n",
       "     <use xlink:href=\"#m8522ef08d1\" x=\"53.36379\" y=\"39.471363\" style=\"fill: #4575b4; fill-opacity: 0.7; stroke: #4575b4; stroke-opacity: 0.7; stroke-width: 0.3\" />\n",
       "     <use xlink:href=\"#m8522ef08d1\" x=\"49.178679\" y=\"38.504971\" style=\"fill: #4575b4; fill-opacity: 0.7; stroke: #4575b4; stroke-opacity: 0.7; stroke-width: 0.3\" />\n",
       "     <use xlink:href=\"#m8522ef08d1\" x=\"50.258409\" y=\"39.98924\" style=\"fill: #4575b4; fill-opacity: 0.7; stroke: #4575b4; stroke-opacity: 0.7; stroke-width: 0.3\" />\n",
       "     <use xlink:href=\"#m8522ef08d1\" x=\"44.720492\" y=\"37.890639\" style=\"fill: #4575b4; fill-opacity: 0.7; stroke: #4575b4; stroke-opacity: 0.7; stroke-width: 0.3\" />\n",
       "     <use xlink:href=\"#m8522ef08d1\" x=\"52.274914\" y=\"41.607994\" style=\"fill: #4575b4; fill-opacity: 0.7; stroke: #4575b4; stroke-opacity: 0.7; stroke-width: 0.3\" />\n",
       "     <use xlink:href=\"#m8522ef08d1\" x=\"50.529511\" y=\"40.053105\" style=\"fill: #4575b4; fill-opacity: 0.7; stroke: #4575b4; stroke-opacity: 0.7; stroke-width: 0.3\" />\n",
       "     <use xlink:href=\"#m8522ef08d1\" x=\"52.578581\" y=\"40.088237\" style=\"fill: #4575b4; fill-opacity: 0.7; stroke: #4575b4; stroke-opacity: 0.7; stroke-width: 0.3\" />\n",
       "     <use xlink:href=\"#m8522ef08d1\" x=\"46.117163\" y=\"39.267355\" style=\"fill: #4575b4; fill-opacity: 0.7; stroke: #4575b4; stroke-opacity: 0.7; stroke-width: 0.3\" />\n",
       "     <use xlink:href=\"#m8522ef08d1\" x=\"46.609521\" y=\"37.695894\" style=\"fill: #4575b4; fill-opacity: 0.7; stroke: #4575b4; stroke-opacity: 0.7; stroke-width: 0.3\" />\n",
       "     <use xlink:href=\"#m8522ef08d1\" x=\"55.933513\" y=\"40.936501\" style=\"fill: #4575b4; fill-opacity: 0.7; stroke: #4575b4; stroke-opacity: 0.7; stroke-width: 0.3\" />\n",
       "     <use xlink:href=\"#m8522ef08d1\" x=\"44.671067\" y=\"40.656188\" style=\"fill: #4575b4; fill-opacity: 0.7; stroke: #4575b4; stroke-opacity: 0.7; stroke-width: 0.3\" />\n",
       "     <use xlink:href=\"#m8522ef08d1\" x=\"47.76484\" y=\"40.691772\" style=\"fill: #4575b4; fill-opacity: 0.7; stroke: #4575b4; stroke-opacity: 0.7; stroke-width: 0.3\" />\n",
       "     <use xlink:href=\"#m8522ef08d1\" x=\"52.026312\" y=\"42.942376\" style=\"fill: #4575b4; fill-opacity: 0.7; stroke: #4575b4; stroke-opacity: 0.7; stroke-width: 0.3\" />\n",
       "     <use xlink:href=\"#m8522ef08d1\" x=\"48.547183\" y=\"43.026301\" style=\"fill: #4575b4; fill-opacity: 0.7; stroke: #4575b4; stroke-opacity: 0.7; stroke-width: 0.3\" />\n",
       "     <use xlink:href=\"#m8522ef08d1\" x=\"50.171729\" y=\"39.276084\" style=\"fill: #4575b4; fill-opacity: 0.7; stroke: #4575b4; stroke-opacity: 0.7; stroke-width: 0.3\" />\n",
       "     <use xlink:href=\"#m8522ef08d1\" x=\"46.882645\" y=\"40.186613\" style=\"fill: #4575b4; fill-opacity: 0.7; stroke: #4575b4; stroke-opacity: 0.7; stroke-width: 0.3\" />\n",
       "     <use xlink:href=\"#m8522ef08d1\" x=\"49.458947\" y=\"43.870303\" style=\"fill: #4575b4; fill-opacity: 0.7; stroke: #4575b4; stroke-opacity: 0.7; stroke-width: 0.3\" />\n",
       "     <use xlink:href=\"#m8522ef08d1\" x=\"43.845748\" y=\"41.121685\" style=\"fill: #4575b4; fill-opacity: 0.7; stroke: #4575b4; stroke-opacity: 0.7; stroke-width: 0.3\" />\n",
       "     <use xlink:href=\"#m8522ef08d1\" x=\"53.771422\" y=\"42.273381\" style=\"fill: #4575b4; fill-opacity: 0.7; stroke: #4575b4; stroke-opacity: 0.7; stroke-width: 0.3\" />\n",
       "     <use xlink:href=\"#m8522ef08d1\" x=\"47.824387\" y=\"40.346733\" style=\"fill: #4575b4; fill-opacity: 0.7; stroke: #4575b4; stroke-opacity: 0.7; stroke-width: 0.3\" />\n",
       "     <use xlink:href=\"#m8522ef08d1\" x=\"45.942763\" y=\"38.141303\" style=\"fill: #4575b4; fill-opacity: 0.7; stroke: #4575b4; stroke-opacity: 0.7; stroke-width: 0.3\" />\n",
       "     <use xlink:href=\"#m8522ef08d1\" x=\"50.451051\" y=\"39.255541\" style=\"fill: #4575b4; fill-opacity: 0.7; stroke: #4575b4; stroke-opacity: 0.7; stroke-width: 0.3\" />\n",
       "     <use xlink:href=\"#m8522ef08d1\" x=\"46.67751\" y=\"40.284833\" style=\"fill: #4575b4; fill-opacity: 0.7; stroke: #4575b4; stroke-opacity: 0.7; stroke-width: 0.3\" />\n",
       "     <use xlink:href=\"#m8522ef08d1\" x=\"43.752903\" y=\"38.503724\" style=\"fill: #4575b4; fill-opacity: 0.7; stroke: #4575b4; stroke-opacity: 0.7; stroke-width: 0.3\" />\n",
       "     <use xlink:href=\"#m8522ef08d1\" x=\"43.71119\" y=\"38.825416\" style=\"fill: #4575b4; fill-opacity: 0.7; stroke: #4575b4; stroke-opacity: 0.7; stroke-width: 0.3\" />\n",
       "     <use xlink:href=\"#m8522ef08d1\" x=\"50.542753\" y=\"41.890698\" style=\"fill: #4575b4; fill-opacity: 0.7; stroke: #4575b4; stroke-opacity: 0.7; stroke-width: 0.3\" />\n",
       "     <use xlink:href=\"#m8522ef08d1\" x=\"47.685748\" y=\"42.032515\" style=\"fill: #4575b4; fill-opacity: 0.7; stroke: #4575b4; stroke-opacity: 0.7; stroke-width: 0.3\" />\n",
       "     <use xlink:href=\"#m8522ef08d1\" x=\"47.772367\" y=\"43.712275\" style=\"fill: #4575b4; fill-opacity: 0.7; stroke: #4575b4; stroke-opacity: 0.7; stroke-width: 0.3\" />\n",
       "     <use xlink:href=\"#m8522ef08d1\" x=\"51.828286\" y=\"41.165349\" style=\"fill: #4575b4; fill-opacity: 0.7; stroke: #4575b4; stroke-opacity: 0.7; stroke-width: 0.3\" />\n",
       "     <use xlink:href=\"#m8522ef08d1\" x=\"44.447387\" y=\"36.249659\" style=\"fill: #4575b4; fill-opacity: 0.7; stroke: #4575b4; stroke-opacity: 0.7; stroke-width: 0.3\" />\n",
       "     <use xlink:href=\"#m8522ef08d1\" x=\"45.773691\" y=\"43.31907\" style=\"fill: #4575b4; fill-opacity: 0.7; stroke: #4575b4; stroke-opacity: 0.7; stroke-width: 0.3\" />\n",
       "     <use xlink:href=\"#m8522ef08d1\" x=\"46.931422\" y=\"40.737282\" style=\"fill: #4575b4; fill-opacity: 0.7; stroke: #4575b4; stroke-opacity: 0.7; stroke-width: 0.3\" />\n",
       "     <use xlink:href=\"#m8522ef08d1\" x=\"48.535889\" y=\"38.29425\" style=\"fill: #4575b4; fill-opacity: 0.7; stroke: #4575b4; stroke-opacity: 0.7; stroke-width: 0.3\" />\n",
       "     <use xlink:href=\"#m8522ef08d1\" x=\"48.07881\" y=\"43.518195\" style=\"fill: #4575b4; fill-opacity: 0.7; stroke: #4575b4; stroke-opacity: 0.7; stroke-width: 0.3\" />\n",
       "     <use xlink:href=\"#m8522ef08d1\" x=\"47.259502\" y=\"36.60409\" style=\"fill: #4575b4; fill-opacity: 0.7; stroke: #4575b4; stroke-opacity: 0.7; stroke-width: 0.3\" />\n",
       "     <use xlink:href=\"#m8522ef08d1\" x=\"48.013675\" y=\"40.49532\" style=\"fill: #4575b4; fill-opacity: 0.7; stroke: #4575b4; stroke-opacity: 0.7; stroke-width: 0.3\" />\n",
       "     <use xlink:href=\"#m8522ef08d1\" x=\"47.860742\" y=\"41.368045\" style=\"fill: #4575b4; fill-opacity: 0.7; stroke: #4575b4; stroke-opacity: 0.7; stroke-width: 0.3\" />\n",
       "     <use xlink:href=\"#m8522ef08d1\" x=\"45.810765\" y=\"40.602531\" style=\"fill: #4575b4; fill-opacity: 0.7; stroke: #4575b4; stroke-opacity: 0.7; stroke-width: 0.3\" />\n",
       "     <use xlink:href=\"#m8522ef08d1\" x=\"45.498099\" y=\"41.448829\" style=\"fill: #4575b4; fill-opacity: 0.7; stroke: #4575b4; stroke-opacity: 0.7; stroke-width: 0.3\" />\n",
       "     <use xlink:href=\"#m8522ef08d1\" x=\"49.139081\" y=\"43.221624\" style=\"fill: #4575b4; fill-opacity: 0.7; stroke: #4575b4; stroke-opacity: 0.7; stroke-width: 0.3\" />\n",
       "     <use xlink:href=\"#m8522ef08d1\" x=\"45.237216\" y=\"36.366441\" style=\"fill: #4575b4; fill-opacity: 0.7; stroke: #4575b4; stroke-opacity: 0.7; stroke-width: 0.3\" />\n",
       "     <use xlink:href=\"#m8522ef08d1\" x=\"44.345175\" y=\"40.807176\" style=\"fill: #4575b4; fill-opacity: 0.7; stroke: #4575b4; stroke-opacity: 0.7; stroke-width: 0.3\" />\n",
       "     <use xlink:href=\"#m8522ef08d1\" x=\"47.174446\" y=\"42.331379\" style=\"fill: #4575b4; fill-opacity: 0.7; stroke: #4575b4; stroke-opacity: 0.7; stroke-width: 0.3\" />\n",
       "     <use xlink:href=\"#m8522ef08d1\" x=\"47.692131\" y=\"37.417992\" style=\"fill: #4575b4; fill-opacity: 0.7; stroke: #4575b4; stroke-opacity: 0.7; stroke-width: 0.3\" />\n",
       "     <use xlink:href=\"#m8522ef08d1\" x=\"55.77551\" y=\"40.767314\" style=\"fill: #4575b4; fill-opacity: 0.7; stroke: #4575b4; stroke-opacity: 0.7; stroke-width: 0.3\" />\n",
       "     <use xlink:href=\"#m8522ef08d1\" x=\"45.860663\" y=\"41.628208\" style=\"fill: #4575b4; fill-opacity: 0.7; stroke: #4575b4; stroke-opacity: 0.7; stroke-width: 0.3\" />\n",
       "     <use xlink:href=\"#m8522ef08d1\" x=\"51.378037\" y=\"40.458755\" style=\"fill: #4575b4; fill-opacity: 0.7; stroke: #4575b4; stroke-opacity: 0.7; stroke-width: 0.3\" />\n",
       "     <use xlink:href=\"#m8522ef08d1\" x=\"50.721587\" y=\"42.105621\" style=\"fill: #4575b4; fill-opacity: 0.7; stroke: #4575b4; stroke-opacity: 0.7; stroke-width: 0.3\" />\n",
       "     <use xlink:href=\"#m8522ef08d1\" x=\"44.239412\" y=\"39.9183\" style=\"fill: #4575b4; fill-opacity: 0.7; stroke: #4575b4; stroke-opacity: 0.7; stroke-width: 0.3\" />\n",
       "     <use xlink:href=\"#m8522ef08d1\" x=\"50.808851\" y=\"43.331854\" style=\"fill: #4575b4; fill-opacity: 0.7; stroke: #4575b4; stroke-opacity: 0.7; stroke-width: 0.3\" />\n",
       "     <use xlink:href=\"#m8522ef08d1\" x=\"44.256368\" y=\"40.404877\" style=\"fill: #4575b4; fill-opacity: 0.7; stroke: #4575b4; stroke-opacity: 0.7; stroke-width: 0.3\" />\n",
       "     <use xlink:href=\"#m8522ef08d1\" x=\"39.317091\" y=\"41.937483\" style=\"fill: #4575b4; fill-opacity: 0.7; stroke: #4575b4; stroke-opacity: 0.7; stroke-width: 0.3\" />\n",
       "     <use xlink:href=\"#m8522ef08d1\" x=\"50.249958\" y=\"39.879504\" style=\"fill: #4575b4; fill-opacity: 0.7; stroke: #4575b4; stroke-opacity: 0.7; stroke-width: 0.3\" />\n",
       "     <use xlink:href=\"#m8522ef08d1\" x=\"42.341278\" y=\"42.830712\" style=\"fill: #4575b4; fill-opacity: 0.7; stroke: #4575b4; stroke-opacity: 0.7; stroke-width: 0.3\" />\n",
       "     <use xlink:href=\"#m8522ef08d1\" x=\"49.729729\" y=\"41.766479\" style=\"fill: #4575b4; fill-opacity: 0.7; stroke: #4575b4; stroke-opacity: 0.7; stroke-width: 0.3\" />\n",
       "     <use xlink:href=\"#m8522ef08d1\" x=\"45.929932\" y=\"40.030341\" style=\"fill: #4575b4; fill-opacity: 0.7; stroke: #4575b4; stroke-opacity: 0.7; stroke-width: 0.3\" />\n",
       "     <use xlink:href=\"#m8522ef08d1\" x=\"53.776176\" y=\"44.173186\" style=\"fill: #4575b4; fill-opacity: 0.7; stroke: #4575b4; stroke-opacity: 0.7; stroke-width: 0.3\" />\n",
       "    </g>\n",
       "   </g>\n",
       "   <g id=\"line2d_1\">\n",
       "    <path d=\"M 27.295 40.387209  L 74.574062 40.387209  \" clip-path=\"url(#pcda19ad435)\" style=\"fill: none; stroke-dasharray: 3.7,1.6; stroke-dashoffset: 0; stroke: #444443\" />\n",
       "   </g>\n",
       "   <g id=\"patch_3\">\n",
       "    <path d=\"M 27.295 44.352  L 27.295 -0  \" style=\"fill: none; stroke: #444443; stroke-width: 0.3; stroke-linejoin: miter; stroke-linecap: square\" />\n",
       "   </g>\n",
       "   <g id=\"text_3\">\n",
       "    \n",
       "    <g style=\"fill: #444443\" transform=\"translate(23.865938 54.727) scale(0.12 -0.12)\">\n",
       "     <defs>\n",
       "      <path id=\"ArialMT-79\" d=\"M 397 -1278  L 334 -750  Q 519 -800 656 -800  Q 844 -800 956 -737  Q 1069 -675 1141 -563  Q 1194 -478 1313 -144  Q 1328 -97 1363 -6  L 103 3319  L 709 3319  L 1400 1397  Q 1534 1031 1641 628  Q 1738 1016 1872 1384  L 2581 3319  L 3144 3319  L 1881 -56  Q 1678 -603 1566 -809  Q 1416 -1088 1222 -1217  Q 1028 -1347 759 -1347  Q 597 -1347 397 -1278  z \" transform=\"scale(0.015625)\" />\n",
       "      <path id=\"ArialMT-3d\" d=\"M 3381 2694  L 356 2694  L 356 3219  L 3381 3219  L 3381 2694  z M 3381 1303  L 356 1303  L 356 1828  L 3381 1828  L 3381 1303  z \" transform=\"scale(0.015625)\" />\n",
       "      <path id=\"ArialMT-31\" d=\"M 2384 0  L 1822 0  L 1822 3584  Q 1619 3391 1289 3197  Q 959 3003 697 2906  L 697 3450  Q 1169 3672 1522 3987  Q 1875 4303 2022 4600  L 2384 4600  L 2384 0  z \" transform=\"scale(0.015625)\" />\n",
       "      <path id=\"ArialMT-2e\" d=\"M 581 0  L 581 641  L 1222 641  L 1222 0  L 581 0  z \" transform=\"scale(0.015625)\" />\n",
       "      <path id=\"ArialMT-38\" d=\"M 1131 2484  Q 781 2613 612 2850  Q 444 3088 444 3419  Q 444 3919 803 4259  Q 1163 4600 1759 4600  Q 2359 4600 2725 4251  Q 3091 3903 3091 3403  Q 3091 3084 2923 2848  Q 2756 2613 2416 2484  Q 2838 2347 3058 2040  Q 3278 1734 3278 1309  Q 3278 722 2862 322  Q 2447 -78 1769 -78  Q 1091 -78 675 323  Q 259 725 259 1325  Q 259 1772 486 2073  Q 713 2375 1131 2484  z M 1019 3438  Q 1019 3113 1228 2906  Q 1438 2700 1772 2700  Q 2097 2700 2305 2904  Q 2513 3109 2513 3406  Q 2513 3716 2298 3927  Q 2084 4138 1766 4138  Q 1444 4138 1231 3931  Q 1019 3725 1019 3438  z M 838 1322  Q 838 1081 952 856  Q 1066 631 1291 507  Q 1516 384 1775 384  Q 2178 384 2440 643  Q 2703 903 2703 1303  Q 2703 1709 2433 1975  Q 2163 2241 1756 2241  Q 1359 2241 1098 1978  Q 838 1716 838 1322  z \" transform=\"scale(0.015625)\" />\n",
       "      <path id=\"ArialMT-35\" d=\"M 266 1200  L 856 1250  Q 922 819 1161 601  Q 1400 384 1738 384  Q 2144 384 2425 690  Q 2706 997 2706 1503  Q 2706 1984 2436 2262  Q 2166 2541 1728 2541  Q 1456 2541 1237 2417  Q 1019 2294 894 2097  L 366 2166  L 809 4519  L 3088 4519  L 3088 3981  L 1259 3981  L 1013 2750  Q 1425 3038 1878 3038  Q 2478 3038 2890 2622  Q 3303 2206 3303 1553  Q 3303 931 2941 478  Q 2500 -78 1738 -78  Q 1113 -78 717 272  Q 322 622 266 1200  z \" transform=\"scale(0.015625)\" />\n",
       "     </defs>\n",
       "     <use xlink:href=\"#ArialMT-79\" />\n",
       "     <use xlink:href=\"#ArialMT-3d\" x=\"50\" />\n",
       "     <use xlink:href=\"#ArialMT-31\" x=\"108.398438\" />\n",
       "     <use xlink:href=\"#ArialMT-30\" x=\"164.013672\" />\n",
       "     <use xlink:href=\"#ArialMT-30\" x=\"219.628906\" />\n",
       "     <use xlink:href=\"#ArialMT-2e\" x=\"275.244141\" />\n",
       "     <use xlink:href=\"#ArialMT-38\" x=\"303.027344\" />\n",
       "     <use xlink:href=\"#ArialMT-35\" x=\"358.642578\" />\n",
       "    </g>\n",
       "    \n",
       "    <g style=\"fill: #444443\" transform=\"translate(35.205938 67.559875) scale(0.12 -0.12)\">\n",
       "     <defs>\n",
       "      <path id=\"ArialMT-6e\" d=\"M 422 0  L 422 3319  L 928 3319  L 928 2847  Q 1294 3394 1984 3394  Q 2284 3394 2536 3286  Q 2788 3178 2913 3003  Q 3038 2828 3088 2588  Q 3119 2431 3119 2041  L 3119 0  L 2556 0  L 2556 2019  Q 2556 2363 2490 2533  Q 2425 2703 2258 2804  Q 2091 2906 1866 2906  Q 1506 2906 1245 2678  Q 984 2450 984 1813  L 984 0  L 422 0  z \" transform=\"scale(0.015625)\" />\n",
       "      <path id=\"ArialMT-39\" d=\"M 350 1059  L 891 1109  Q 959 728 1153 556  Q 1347 384 1650 384  Q 1909 384 2104 503  Q 2300 622 2425 820  Q 2550 1019 2634 1356  Q 2719 1694 2719 2044  Q 2719 2081 2716 2156  Q 2547 1888 2255 1720  Q 1963 1553 1622 1553  Q 1053 1553 659 1965  Q 266 2378 266 3053  Q 266 3750 677 4175  Q 1088 4600 1706 4600  Q 2153 4600 2523 4359  Q 2894 4119 3086 3673  Q 3278 3228 3278 2384  Q 3278 1506 3087 986  Q 2897 466 2520 194  Q 2144 -78 1638 -78  Q 1100 -78 759 220  Q 419 519 350 1059  z M 2653 3081  Q 2653 3566 2395 3850  Q 2138 4134 1775 4134  Q 1400 4134 1122 3828  Q 844 3522 844 3034  Q 844 2597 1108 2323  Q 1372 2050 1759 2050  Q 2150 2050 2401 2323  Q 2653 2597 2653 3081  z \" transform=\"scale(0.015625)\" />\n",
       "     </defs>\n",
       "     <use xlink:href=\"#ArialMT-6e\" />\n",
       "     <use xlink:href=\"#ArialMT-3d\" x=\"55.615234\" />\n",
       "     <use xlink:href=\"#ArialMT-39\" x=\"114.013672\" />\n",
       "     <use xlink:href=\"#ArialMT-39\" x=\"169.628906\" />\n",
       "    </g>\n",
       "   </g>\n",
       "  </g>\n",
       " </g>\n",
       " <defs>\n",
       "  <clipPath id=\"pcda19ad435\">\n",
       "   <rect x=\"27.295\" y=\"-0\" width=\"41.85\" height=\"44.352\" />\n",
       "  </clipPath>\n",
       " </defs>\n",
       "</svg></g>\n",
       "\n",
       "<g id=\"edge5\" class=\"edge\">\n",
       "<title>node4-&gt;leaf6</title>\n",
       "<path fill=\"none\" stroke=\"#444443\" stroke-width=\"0.3\" d=\"M257.79,-76.78C261.16,-72.47 264.6,-68.05 267.96,-63.75\" />\n",
       "<polygon fill=\"#444443\" stroke=\"#444443\" stroke-width=\"0.3\" points=\"269.15,-64.51 270.5,-60.49 266.94,-62.78 269.15,-64.51\" />\n",
       "</g>\n",
       "\n",
       "<g id=\"node3\" class=\"node\">\n",
       "<title>node0</title>\n",
       "<svg width=\"142px\" height=\"61px\" viewBox=\"0 0 189.55375 82.30025\" version=\"1.1\" preserveAspectRatio=\"xMinYMin meet\" x=\"84.5\" y=\"-241.5\">\n",
       " <metadata>\n",
       "  <rdf:RDF>\n",
       "   <ns2:Work>\n",
       "    <dc:type rdf:resource=\"http://purl.org/dc/dcmitype/StillImage\" />\n",
       "    <dc:date>2023-12-12T05:33:58.560335</dc:date>\n",
       "    <dc:format>image/svg+xml</dc:format>\n",
       "    <dc:creator>\n",
       "     <ns2:Agent>\n",
       "      <dc:title>Matplotlib v3.6.0, https://matplotlib.org/</dc:title>\n",
       "     </ns2:Agent>\n",
       "    </dc:creator>\n",
       "   </ns2:Work>\n",
       "  </rdf:RDF>\n",
       " </metadata>\n",
       " <defs>\n",
       "  <style type=\"text/css\">*{stroke-linejoin: round; stroke-linecap: butt}</style>\n",
       " </defs>\n",
       " <g id=\"figure_1\">\n",
       "  <g id=\"patch_1\">\n",
       "   <path d=\"M 0 82.30025  L 189.55375 82.30025  L 189.55375 0  L 0 0  z \" style=\"fill: #ffffff\" />\n",
       "  </g>\n",
       "  <g id=\"axes_1\">\n",
       "   <g id=\"patch_2\">\n",
       "    <path d=\"M 42.269375 60.984  L 181.769375 60.984  L 181.769375 0  L 42.269375 0  z \" style=\"fill: #eaeaf2\" />\n",
       "   </g>\n",
       "   <g id=\"matplotlib.axis_1\">\n",
       "    <g id=\"xtick_1\">\n",
       "     <g id=\"text_1\">\n",
       "      \n",
       "      <g style=\"fill: #444443\" transform=\"translate(29.924375 80.71025) scale(0.08 -0.08)\">\n",
       "       <defs>\n",
       "        <path id=\"ArialMT-2212\" d=\"M 3381 1997  L 356 1997  L 356 2522  L 3381 2522  L 3381 1997  z \" transform=\"scale(0.015625)\" />\n",
       "        <path id=\"ArialMT-31\" d=\"M 2384 0  L 1822 0  L 1822 3584  Q 1619 3391 1289 3197  Q 959 3003 697 2906  L 697 3450  Q 1169 3672 1522 3987  Q 1875 4303 2022 4600  L 2384 4600  L 2384 0  z \" transform=\"scale(0.015625)\" />\n",
       "        <path id=\"ArialMT-30\" d=\"M 266 2259  Q 266 3072 433 3567  Q 600 4063 929 4331  Q 1259 4600 1759 4600  Q 2128 4600 2406 4451  Q 2684 4303 2865 4023  Q 3047 3744 3150 3342  Q 3253 2941 3253 2259  Q 3253 1453 3087 958  Q 2922 463 2592 192  Q 2263 -78 1759 -78  Q 1097 -78 719 397  Q 266 969 266 2259  z M 844 2259  Q 844 1131 1108 757  Q 1372 384 1759 384  Q 2147 384 2411 759  Q 2675 1134 2675 2259  Q 2675 3391 2411 3762  Q 2147 4134 1753 4134  Q 1366 4134 1134 3806  Q 844 3388 844 2259  z \" transform=\"scale(0.015625)\" />\n",
       "        <path id=\"ArialMT-2e\" d=\"M 581 0  L 581 641  L 1222 641  L 1222 0  L 581 0  z \" transform=\"scale(0.015625)\" />\n",
       "       </defs>\n",
       "       <use xlink:href=\"#ArialMT-2212\" />\n",
       "       <use xlink:href=\"#ArialMT-31\" x=\"58.398438\" />\n",
       "       <use xlink:href=\"#ArialMT-30\" x=\"114.013672\" />\n",
       "       <use xlink:href=\"#ArialMT-2e\" x=\"169.628906\" />\n",
       "       <use xlink:href=\"#ArialMT-30\" x=\"197.412109\" />\n",
       "       <use xlink:href=\"#ArialMT-30\" x=\"253.027344\" />\n",
       "      </g>\n",
       "     </g>\n",
       "    </g>\n",
       "    <g id=\"xtick_2\">\n",
       "     <g id=\"text_2\">\n",
       "      \n",
       "      <g style=\"fill: #444443\" transform=\"translate(54.230407 80.71025) scale(0.08 -0.08)\">\n",
       "       <defs>\n",
       "        <path id=\"ArialMT-36\" d=\"M 3184 3459  L 2625 3416  Q 2550 3747 2413 3897  Q 2184 4138 1850 4138  Q 1581 4138 1378 3988  Q 1113 3794 959 3422  Q 806 3050 800 2363  Q 1003 2672 1297 2822  Q 1591 2972 1913 2972  Q 2475 2972 2870 2558  Q 3266 2144 3266 1488  Q 3266 1056 3080 686  Q 2894 316 2569 119  Q 2244 -78 1831 -78  Q 1128 -78 684 439  Q 241 956 241 2144  Q 241 3472 731 4075  Q 1159 4600 1884 4600  Q 2425 4600 2770 4297  Q 3116 3994 3184 3459  z M 888 1484  Q 888 1194 1011 928  Q 1134 663 1356 523  Q 1578 384 1822 384  Q 2178 384 2434 671  Q 2691 959 2691 1453  Q 2691 1928 2437 2201  Q 2184 2475 1800 2475  Q 1419 2475 1153 2201  Q 888 1928 888 1484  z \" transform=\"scale(0.015625)\" />\n",
       "        <path id=\"ArialMT-38\" d=\"M 1131 2484  Q 781 2613 612 2850  Q 444 3088 444 3419  Q 444 3919 803 4259  Q 1163 4600 1759 4600  Q 2359 4600 2725 4251  Q 3091 3903 3091 3403  Q 3091 3084 2923 2848  Q 2756 2613 2416 2484  Q 2838 2347 3058 2040  Q 3278 1734 3278 1309  Q 3278 722 2862 322  Q 2447 -78 1769 -78  Q 1091 -78 675 323  Q 259 725 259 1325  Q 259 1772 486 2073  Q 713 2375 1131 2484  z M 1019 3438  Q 1019 3113 1228 2906  Q 1438 2700 1772 2700  Q 2097 2700 2305 2904  Q 2513 3109 2513 3406  Q 2513 3716 2298 3927  Q 2084 4138 1766 4138  Q 1444 4138 1231 3931  Q 1019 3725 1019 3438  z M 838 1322  Q 838 1081 952 856  Q 1066 631 1291 507  Q 1516 384 1775 384  Q 2178 384 2440 643  Q 2703 903 2703 1303  Q 2703 1709 2433 1975  Q 2163 2241 1756 2241  Q 1359 2241 1098 1978  Q 838 1716 838 1322  z \" transform=\"scale(0.015625)\" />\n",
       "        <path id=\"ArialMT-35\" d=\"M 266 1200  L 856 1250  Q 922 819 1161 601  Q 1400 384 1738 384  Q 2144 384 2425 690  Q 2706 997 2706 1503  Q 2706 1984 2436 2262  Q 2166 2541 1728 2541  Q 1456 2541 1237 2417  Q 1019 2294 894 2097  L 366 2166  L 809 4519  L 3088 4519  L 3088 3981  L 1259 3981  L 1013 2750  Q 1425 3038 1878 3038  Q 2478 3038 2890 2622  Q 3303 2206 3303 1553  Q 3303 931 2941 478  Q 2500 -78 1738 -78  Q 1113 -78 717 272  Q 322 622 266 1200  z \" transform=\"scale(0.015625)\" />\n",
       "       </defs>\n",
       "       <use xlink:href=\"#ArialMT-2212\" />\n",
       "       <use xlink:href=\"#ArialMT-36\" x=\"58.398438\" />\n",
       "       <use xlink:href=\"#ArialMT-2e\" x=\"114.013672\" />\n",
       "       <use xlink:href=\"#ArialMT-38\" x=\"141.796875\" />\n",
       "       <use xlink:href=\"#ArialMT-35\" x=\"197.412109\" />\n",
       "      </g>\n",
       "     </g>\n",
       "    </g>\n",
       "    <g id=\"xtick_3\">\n",
       "     <g id=\"text_3\">\n",
       "      \n",
       "      <g style=\"fill: #444443\" transform=\"translate(173.985 80.71025) scale(0.08 -0.08)\">\n",
       "       <defs>\n",
       "        <path id=\"ArialMT-39\" d=\"M 350 1059  L 891 1109  Q 959 728 1153 556  Q 1347 384 1650 384  Q 1909 384 2104 503  Q 2300 622 2425 820  Q 2550 1019 2634 1356  Q 2719 1694 2719 2044  Q 2719 2081 2716 2156  Q 2547 1888 2255 1720  Q 1963 1553 1622 1553  Q 1053 1553 659 1965  Q 266 2378 266 3053  Q 266 3750 677 4175  Q 1088 4600 1706 4600  Q 2153 4600 2523 4359  Q 2894 4119 3086 3673  Q 3278 3228 3278 2384  Q 3278 1506 3087 986  Q 2897 466 2520 194  Q 2144 -78 1638 -78  Q 1100 -78 759 220  Q 419 519 350 1059  z M 2653 3081  Q 2653 3566 2395 3850  Q 2138 4134 1775 4134  Q 1400 4134 1122 3828  Q 844 3522 844 3034  Q 844 2597 1108 2323  Q 1372 2050 1759 2050  Q 2150 2050 2401 2323  Q 2653 2597 2653 3081  z \" transform=\"scale(0.015625)\" />\n",
       "       </defs>\n",
       "       <use xlink:href=\"#ArialMT-39\" />\n",
       "       <use xlink:href=\"#ArialMT-2e\" x=\"55.615234\" />\n",
       "       <use xlink:href=\"#ArialMT-39\" x=\"83.398438\" />\n",
       "       <use xlink:href=\"#ArialMT-30\" x=\"139.013672\" />\n",
       "      </g>\n",
       "     </g>\n",
       "    </g>\n",
       "   </g>\n",
       "   <g id=\"matplotlib.axis_2\">\n",
       "    <g id=\"ytick_1\">\n",
       "     <g id=\"text_4\">\n",
       "      \n",
       "      <g style=\"fill: #444443\" transform=\"translate(28.320625 61.027197) scale(0.08 -0.08)\">\n",
       "       <use xlink:href=\"#ArialMT-30\" />\n",
       "      </g>\n",
       "     </g>\n",
       "    </g>\n",
       "    <g id=\"ytick_2\">\n",
       "     <g id=\"text_5\">\n",
       "      \n",
       "      <g style=\"fill: #444443\" transform=\"translate(14.974375 34.933513) scale(0.08 -0.08)\">\n",
       "       <use xlink:href=\"#ArialMT-31\" />\n",
       "       <use xlink:href=\"#ArialMT-30\" x=\"55.615234\" />\n",
       "       <use xlink:href=\"#ArialMT-30\" x=\"111.230469\" />\n",
       "       <use xlink:href=\"#ArialMT-30\" x=\"166.845703\" />\n",
       "      </g>\n",
       "     </g>\n",
       "    </g>\n",
       "    <g id=\"ytick_3\">\n",
       "     <g id=\"text_6\">\n",
       "      \n",
       "      <g style=\"fill: #444443\" transform=\"translate(14.974375 8.839829) scale(0.08 -0.08)\">\n",
       "       <defs>\n",
       "        <path id=\"ArialMT-32\" d=\"M 3222 541  L 3222 0  L 194 0  Q 188 203 259 391  Q 375 700 629 1000  Q 884 1300 1366 1694  Q 2113 2306 2375 2664  Q 2638 3022 2638 3341  Q 2638 3675 2398 3904  Q 2159 4134 1775 4134  Q 1369 4134 1125 3890  Q 881 3647 878 3216  L 300 3275  Q 359 3922 746 4261  Q 1134 4600 1788 4600  Q 2447 4600 2831 4234  Q 3216 3869 3216 3328  Q 3216 3053 3103 2787  Q 2991 2522 2730 2228  Q 2469 1934 1863 1422  Q 1356 997 1212 845  Q 1069 694 975 541  L 3222 541  z \" transform=\"scale(0.015625)\" />\n",
       "       </defs>\n",
       "       <use xlink:href=\"#ArialMT-32\" />\n",
       "       <use xlink:href=\"#ArialMT-30\" x=\"55.615234\" />\n",
       "       <use xlink:href=\"#ArialMT-30\" x=\"111.230469\" />\n",
       "       <use xlink:href=\"#ArialMT-30\" x=\"166.845703\" />\n",
       "      </g>\n",
       "     </g>\n",
       "    </g>\n",
       "    <g id=\"text_7\">\n",
       "     \n",
       "     <g style=\"fill: #444443\" transform=\"translate(8.44875 33.492) rotate(-90) scale(0.12 -0.12)\">\n",
       "      <defs>\n",
       "       <path id=\"ArialMT-79\" d=\"M 397 -1278  L 334 -750  Q 519 -800 656 -800  Q 844 -800 956 -737  Q 1069 -675 1141 -563  Q 1194 -478 1313 -144  Q 1328 -97 1363 -6  L 103 3319  L 709 3319  L 1400 1397  Q 1534 1031 1641 628  Q 1738 1016 1872 1384  L 2581 3319  L 3144 3319  L 1881 -56  Q 1678 -603 1566 -809  Q 1416 -1088 1222 -1217  Q 1028 -1347 759 -1347  Q 597 -1347 397 -1278  z \" transform=\"scale(0.015625)\" />\n",
       "      </defs>\n",
       "      <use xlink:href=\"#ArialMT-79\" />\n",
       "     </g>\n",
       "    </g>\n",
       "   </g>\n",
       "   <g id=\"PathCollection_1\">\n",
       "    <defs>\n",
       "     <path id=\"m686771df3f\" d=\"M 0 1.118034  C 0.296506 1.118034 0.580908 1.000231 0.790569 0.790569  C 1.000231 0.580908 1.118034 0.296506 1.118034 0  C 1.118034 -0.296506 1.000231 -0.580908 0.790569 -0.790569  C 0.580908 -1.000231 0.296506 -1.118034 0 -1.118034  C -0.296506 -1.118034 -0.580908 -1.000231 -0.790569 -0.790569  C -1.000231 -0.580908 -1.118034 -0.296506 -1.118034 0  C -1.118034 0.296506 -1.000231 0.580908 -0.790569 0.790569  C -0.580908 1.000231 -0.296506 1.118034 0 1.118034  z \" style=\"stroke: #4575b4; stroke-opacity: 0.7; stroke-width: 0.3\" />\n",
       "    </defs>\n",
       "    <g clip-path=\"url(#p66bce40415)\">\n",
       "     <use xlink:href=\"#m686771df3f\" x=\"160.739224\" y=\"53.933075\" style=\"fill: #4575b4; fill-opacity: 0.7; stroke: #4575b4; stroke-opacity: 0.7; stroke-width: 0.3\" />\n",
       "     <use xlink:href=\"#m686771df3f\" x=\"110.266862\" y=\"54.317951\" style=\"fill: #4575b4; fill-opacity: 0.7; stroke: #4575b4; stroke-opacity: 0.7; stroke-width: 0.3\" />\n",
       "     <use xlink:href=\"#m686771df3f\" x=\"64.000531\" y=\"35.941073\" style=\"fill: #4575b4; fill-opacity: 0.7; stroke: #4575b4; stroke-opacity: 0.7; stroke-width: 0.3\" />\n",
       "     <use xlink:href=\"#m686771df3f\" x=\"50.681435\" y=\"18.048816\" style=\"fill: #4575b4; fill-opacity: 0.7; stroke: #4575b4; stroke-opacity: 0.7; stroke-width: 0.3\" />\n",
       "     <use xlink:href=\"#m686771df3f\" x=\"66.804551\" y=\"39.229636\" style=\"fill: #4575b4; fill-opacity: 0.7; stroke: #4575b4; stroke-opacity: 0.7; stroke-width: 0.3\" />\n",
       "     <use xlink:href=\"#m686771df3f\" x=\"125.688973\" y=\"55.49684\" style=\"fill: #4575b4; fill-opacity: 0.7; stroke: #4575b4; stroke-opacity: 0.7; stroke-width: 0.3\" />\n",
       "     <use xlink:href=\"#m686771df3f\" x=\"71.711586\" y=\"47.475828\" style=\"fill: #4575b4; fill-opacity: 0.7; stroke: #4575b4; stroke-opacity: 0.7; stroke-width: 0.3\" />\n",
       "     <use xlink:href=\"#m686771df3f\" x=\"174.759325\" y=\"53.055655\" style=\"fill: #4575b4; fill-opacity: 0.7; stroke: #4575b4; stroke-opacity: 0.7; stroke-width: 0.3\" />\n",
       "     <use xlink:href=\"#m686771df3f\" x=\"105.359827\" y=\"58.588203\" style=\"fill: #4575b4; fill-opacity: 0.7; stroke: #4575b4; stroke-opacity: 0.7; stroke-width: 0.3\" />\n",
       "     <use xlink:href=\"#m686771df3f\" x=\"137.606058\" y=\"54.905721\" style=\"fill: #4575b4; fill-opacity: 0.7; stroke: #4575b4; stroke-opacity: 0.7; stroke-width: 0.3\" />\n",
       "     <use xlink:href=\"#m686771df3f\" x=\"78.020631\" y=\"47.687426\" style=\"fill: #4575b4; fill-opacity: 0.7; stroke: #4575b4; stroke-opacity: 0.7; stroke-width: 0.3\" />\n",
       "     <use xlink:href=\"#m686771df3f\" x=\"131.297013\" y=\"52.977741\" style=\"fill: #4575b4; fill-opacity: 0.7; stroke: #4575b4; stroke-opacity: 0.7; stroke-width: 0.3\" />\n",
       "     <use xlink:href=\"#m686771df3f\" x=\"155.832189\" y=\"52.615885\" style=\"fill: #4575b4; fill-opacity: 0.7; stroke: #4575b4; stroke-opacity: 0.7; stroke-width: 0.3\" />\n",
       "     <use xlink:href=\"#m686771df3f\" x=\"71.010581\" y=\"46.299859\" style=\"fill: #4575b4; fill-opacity: 0.7; stroke: #4575b4; stroke-opacity: 0.7; stroke-width: 0.3\" />\n",
       "     <use xlink:href=\"#m686771df3f\" x=\"124.987968\" y=\"56.204584\" style=\"fill: #4575b4; fill-opacity: 0.7; stroke: #4575b4; stroke-opacity: 0.7; stroke-width: 0.3\" />\n",
       "     <use xlink:href=\"#m686771df3f\" x=\"121.482943\" y=\"53.782728\" style=\"fill: #4575b4; fill-opacity: 0.7; stroke: #4575b4; stroke-opacity: 0.7; stroke-width: 0.3\" />\n",
       "     <use xlink:href=\"#m686771df3f\" x=\"60.495506\" y=\"32.741395\" style=\"fill: #4575b4; fill-opacity: 0.7; stroke: #4575b4; stroke-opacity: 0.7; stroke-width: 0.3\" />\n",
       "     <use xlink:href=\"#m686771df3f\" x=\"139.709073\" y=\"58.150084\" style=\"fill: #4575b4; fill-opacity: 0.7; stroke: #4575b4; stroke-opacity: 0.7; stroke-width: 0.3\" />\n",
       "     <use xlink:href=\"#m686771df3f\" x=\"112.369878\" y=\"54.154724\" style=\"fill: #4575b4; fill-opacity: 0.7; stroke: #4575b4; stroke-opacity: 0.7; stroke-width: 0.3\" />\n",
       "     <use xlink:href=\"#m686771df3f\" x=\"120.080933\" y=\"55.970831\" style=\"fill: #4575b4; fill-opacity: 0.7; stroke: #4575b4; stroke-opacity: 0.7; stroke-width: 0.3\" />\n",
       "     <use xlink:href=\"#m686771df3f\" x=\"43.671385\" y=\"5.911703\" style=\"fill: #4575b4; fill-opacity: 0.7; stroke: #4575b4; stroke-opacity: 0.7; stroke-width: 0.3\" />\n",
       "     <use xlink:href=\"#m686771df3f\" x=\"96.246762\" y=\"57.476268\" style=\"fill: #4575b4; fill-opacity: 0.7; stroke: #4575b4; stroke-opacity: 0.7; stroke-width: 0.3\" />\n",
       "     <use xlink:href=\"#m686771df3f\" x=\"74.515606\" y=\"48.701449\" style=\"fill: #4575b4; fill-opacity: 0.7; stroke: #4575b4; stroke-opacity: 0.7; stroke-width: 0.3\" />\n",
       "     <use xlink:href=\"#m686771df3f\" x=\"173.357315\" y=\"55.863386\" style=\"fill: #4575b4; fill-opacity: 0.7; stroke: #4575b4; stroke-opacity: 0.7; stroke-width: 0.3\" />\n",
       "     <use xlink:href=\"#m686771df3f\" x=\"176.161335\" y=\"56.058492\" style=\"fill: #4575b4; fill-opacity: 0.7; stroke: #4575b4; stroke-opacity: 0.7; stroke-width: 0.3\" />\n",
       "     <use xlink:href=\"#m686771df3f\" x=\"101.854802\" y=\"53.374677\" style=\"fill: #4575b4; fill-opacity: 0.7; stroke: #4575b4; stroke-opacity: 0.7; stroke-width: 0.3\" />\n",
       "     <use xlink:href=\"#m686771df3f\" x=\"155.131184\" y=\"50.589556\" style=\"fill: #4575b4; fill-opacity: 0.7; stroke: #4575b4; stroke-opacity: 0.7; stroke-width: 0.3\" />\n",
       "     <use xlink:href=\"#m686771df3f\" x=\"67.505556\" y=\"37.655291\" style=\"fill: #4575b4; fill-opacity: 0.7; stroke: #4575b4; stroke-opacity: 0.7; stroke-width: 0.3\" />\n",
       "     <use xlink:href=\"#m686771df3f\" x=\"175.46033\" y=\"59.140721\" style=\"fill: #4575b4; fill-opacity: 0.7; stroke: #4575b4; stroke-opacity: 0.7; stroke-width: 0.3\" />\n",
       "     <use xlink:href=\"#m686771df3f\" x=\"85.030682\" y=\"53.116125\" style=\"fill: #4575b4; fill-opacity: 0.7; stroke: #4575b4; stroke-opacity: 0.7; stroke-width: 0.3\" />\n",
       "     <use xlink:href=\"#m686771df3f\" x=\"57.691486\" y=\"27.616016\" style=\"fill: #4575b4; fill-opacity: 0.7; stroke: #4575b4; stroke-opacity: 0.7; stroke-width: 0.3\" />\n",
       "     <use xlink:href=\"#m686771df3f\" x=\"141.111084\" y=\"54.794586\" style=\"fill: #4575b4; fill-opacity: 0.7; stroke: #4575b4; stroke-opacity: 0.7; stroke-width: 0.3\" />\n",
       "     <use xlink:href=\"#m686771df3f\" x=\"113.070883\" y=\"60.901866\" style=\"fill: #4575b4; fill-opacity: 0.7; stroke: #4575b4; stroke-opacity: 0.7; stroke-width: 0.3\" />\n",
       "     <use xlink:href=\"#m686771df3f\" x=\"65.402541\" y=\"42.309568\" style=\"fill: #4575b4; fill-opacity: 0.7; stroke: #4575b4; stroke-opacity: 0.7; stroke-width: 0.3\" />\n",
       "     <use xlink:href=\"#m686771df3f\" x=\"49.98043\" y=\"15.52149\" style=\"fill: #4575b4; fill-opacity: 0.7; stroke: #4575b4; stroke-opacity: 0.7; stroke-width: 0.3\" />\n",
       "     <use xlink:href=\"#m686771df3f\" x=\"178.26435\" y=\"56.100632\" style=\"fill: #4575b4; fill-opacity: 0.7; stroke: #4575b4; stroke-opacity: 0.7; stroke-width: 0.3\" />\n",
       "     <use xlink:href=\"#m686771df3f\" x=\"153.729174\" y=\"55.583527\" style=\"fill: #4575b4; fill-opacity: 0.7; stroke: #4575b4; stroke-opacity: 0.7; stroke-width: 0.3\" />\n",
       "     <use xlink:href=\"#m686771df3f\" x=\"46.475405\" y=\"10.882549\" style=\"fill: #4575b4; fill-opacity: 0.7; stroke: #4575b4; stroke-opacity: 0.7; stroke-width: 0.3\" />\n",
       "     <use xlink:href=\"#m686771df3f\" x=\"61.196511\" y=\"34.039357\" style=\"fill: #4575b4; fill-opacity: 0.7; stroke: #4575b4; stroke-opacity: 0.7; stroke-width: 0.3\" />\n",
       "     <use xlink:href=\"#m686771df3f\" x=\"126.389978\" y=\"56.569381\" style=\"fill: #4575b4; fill-opacity: 0.7; stroke: #4575b4; stroke-opacity: 0.7; stroke-width: 0.3\" />\n",
       "     <use xlink:href=\"#m686771df3f\" x=\"45.073395\" y=\"6.552314\" style=\"fill: #4575b4; fill-opacity: 0.7; stroke: #4575b4; stroke-opacity: 0.7; stroke-width: 0.3\" />\n",
       "     <use xlink:href=\"#m686771df3f\" x=\"64.701536\" y=\"39.313756\" style=\"fill: #4575b4; fill-opacity: 0.7; stroke: #4575b4; stroke-opacity: 0.7; stroke-width: 0.3\" />\n",
       "     <use xlink:href=\"#m686771df3f\" x=\"141.812089\" y=\"55.287351\" style=\"fill: #4575b4; fill-opacity: 0.7; stroke: #4575b4; stroke-opacity: 0.7; stroke-width: 0.3\" />\n",
       "     <use xlink:href=\"#m686771df3f\" x=\"143.915104\" y=\"53.442854\" style=\"fill: #4575b4; fill-opacity: 0.7; stroke: #4575b4; stroke-opacity: 0.7; stroke-width: 0.3\" />\n",
       "     <use xlink:href=\"#m686771df3f\" x=\"118.678923\" y=\"54.849856\" style=\"fill: #4575b4; fill-opacity: 0.7; stroke: #4575b4; stroke-opacity: 0.7; stroke-width: 0.3\" />\n",
       "     <use xlink:href=\"#m686771df3f\" x=\"143.214099\" y=\"50.51164\" style=\"fill: #4575b4; fill-opacity: 0.7; stroke: #4575b4; stroke-opacity: 0.7; stroke-width: 0.3\" />\n",
       "     <use xlink:href=\"#m686771df3f\" x=\"49.279425\" y=\"17.157235\" style=\"fill: #4575b4; fill-opacity: 0.7; stroke: #4575b4; stroke-opacity: 0.7; stroke-width: 0.3\" />\n",
       "     <use xlink:href=\"#m686771df3f\" x=\"85.731687\" y=\"54.385177\" style=\"fill: #4575b4; fill-opacity: 0.7; stroke: #4575b4; stroke-opacity: 0.7; stroke-width: 0.3\" />\n",
       "     <use xlink:href=\"#m686771df3f\" x=\"120.781938\" y=\"59.615561\" style=\"fill: #4575b4; fill-opacity: 0.7; stroke: #4575b4; stroke-opacity: 0.7; stroke-width: 0.3\" />\n",
       "     <use xlink:href=\"#m686771df3f\" x=\"144.616109\" y=\"57.249796\" style=\"fill: #4575b4; fill-opacity: 0.7; stroke: #4575b4; stroke-opacity: 0.7; stroke-width: 0.3\" />\n",
       "     <use xlink:href=\"#m686771df3f\" x=\"158.636209\" y=\"56.653593\" style=\"fill: #4575b4; fill-opacity: 0.7; stroke: #4575b4; stroke-opacity: 0.7; stroke-width: 0.3\" />\n",
       "     <use xlink:href=\"#m686771df3f\" x=\"42.269375\" y=\"1.694099\" style=\"fill: #4575b4; fill-opacity: 0.7; stroke: #4575b4; stroke-opacity: 0.7; stroke-width: 0.3\" />\n",
       "     <use xlink:href=\"#m686771df3f\" x=\"181.06837\" y=\"53.580276\" style=\"fill: #4575b4; fill-opacity: 0.7; stroke: #4575b4; stroke-opacity: 0.7; stroke-width: 0.3\" />\n",
       "     <use xlink:href=\"#m686771df3f\" x=\"149.523144\" y=\"56.642603\" style=\"fill: #4575b4; fill-opacity: 0.7; stroke: #4575b4; stroke-opacity: 0.7; stroke-width: 0.3\" />\n",
       "     <use xlink:href=\"#m686771df3f\" x=\"91.339727\" y=\"53.354295\" style=\"fill: #4575b4; fill-opacity: 0.7; stroke: #4575b4; stroke-opacity: 0.7; stroke-width: 0.3\" />\n",
       "     <use xlink:href=\"#m686771df3f\" x=\"128.492993\" y=\"54.374124\" style=\"fill: #4575b4; fill-opacity: 0.7; stroke: #4575b4; stroke-opacity: 0.7; stroke-width: 0.3\" />\n",
       "     <use xlink:href=\"#m686771df3f\" x=\"87.133697\" y=\"52.928372\" style=\"fill: #4575b4; fill-opacity: 0.7; stroke: #4575b4; stroke-opacity: 0.7; stroke-width: 0.3\" />\n",
       "     <use xlink:href=\"#m686771df3f\" x=\"73.113596\" y=\"46.09199\" style=\"fill: #4575b4; fill-opacity: 0.7; stroke: #4575b4; stroke-opacity: 0.7; stroke-width: 0.3\" />\n",
       "     <use xlink:href=\"#m686771df3f\" x=\"156.533194\" y=\"54.399873\" style=\"fill: #4575b4; fill-opacity: 0.7; stroke: #4575b4; stroke-opacity: 0.7; stroke-width: 0.3\" />\n",
       "     <use xlink:href=\"#m686771df3f\" x=\"61.897516\" y=\"31.243992\" style=\"fill: #4575b4; fill-opacity: 0.7; stroke: #4575b4; stroke-opacity: 0.7; stroke-width: 0.3\" />\n",
       "     <use xlink:href=\"#m686771df3f\" x=\"70.309576\" y=\"44.931553\" style=\"fill: #4575b4; fill-opacity: 0.7; stroke: #4575b4; stroke-opacity: 0.7; stroke-width: 0.3\" />\n",
       "     <use xlink:href=\"#m686771df3f\" x=\"117.977918\" y=\"53.95977\" style=\"fill: #4575b4; fill-opacity: 0.7; stroke: #4575b4; stroke-opacity: 0.7; stroke-width: 0.3\" />\n",
       "     <use xlink:href=\"#m686771df3f\" x=\"150.925154\" y=\"56.205826\" style=\"fill: #4575b4; fill-opacity: 0.7; stroke: #4575b4; stroke-opacity: 0.7; stroke-width: 0.3\" />\n",
       "     <use xlink:href=\"#m686771df3f\" x=\"151.626159\" y=\"52.425683\" style=\"fill: #4575b4; fill-opacity: 0.7; stroke: #4575b4; stroke-opacity: 0.7; stroke-width: 0.3\" />\n",
       "     <use xlink:href=\"#m686771df3f\" x=\"59.794501\" y=\"35.044396\" style=\"fill: #4575b4; fill-opacity: 0.7; stroke: #4575b4; stroke-opacity: 0.7; stroke-width: 0.3\" />\n",
       "     <use xlink:href=\"#m686771df3f\" x=\"58.392491\" y=\"31.849641\" style=\"fill: #4575b4; fill-opacity: 0.7; stroke: #4575b4; stroke-opacity: 0.7; stroke-width: 0.3\" />\n",
       "     <use xlink:href=\"#m686771df3f\" x=\"171.2543\" y=\"54.273125\" style=\"fill: #4575b4; fill-opacity: 0.7; stroke: #4575b4; stroke-opacity: 0.7; stroke-width: 0.3\" />\n",
       "     <use xlink:href=\"#m686771df3f\" x=\"145.317114\" y=\"52.944336\" style=\"fill: #4575b4; fill-opacity: 0.7; stroke: #4575b4; stroke-opacity: 0.7; stroke-width: 0.3\" />\n",
       "     <use xlink:href=\"#m686771df3f\" x=\"99.050782\" y=\"54.985206\" style=\"fill: #4575b4; fill-opacity: 0.7; stroke: #4575b4; stroke-opacity: 0.7; stroke-width: 0.3\" />\n",
       "     <use xlink:href=\"#m686771df3f\" x=\"69.608571\" y=\"42.766273\" style=\"fill: #4575b4; fill-opacity: 0.7; stroke: #4575b4; stroke-opacity: 0.7; stroke-width: 0.3\" />\n",
       "     <use xlink:href=\"#m686771df3f\" x=\"160.038219\" y=\"52.099629\" style=\"fill: #4575b4; fill-opacity: 0.7; stroke: #4575b4; stroke-opacity: 0.7; stroke-width: 0.3\" />\n",
       "     <use xlink:href=\"#m686771df3f\" x=\"75.216611\" y=\"44.971726\" style=\"fill: #4575b4; fill-opacity: 0.7; stroke: #4575b4; stroke-opacity: 0.7; stroke-width: 0.3\" />\n",
       "     <use xlink:href=\"#m686771df3f\" x=\"108.163847\" y=\"57.210992\" style=\"fill: #4575b4; fill-opacity: 0.7; stroke: #4575b4; stroke-opacity: 0.7; stroke-width: 0.3\" />\n",
       "     <use xlink:href=\"#m686771df3f\" x=\"150.224149\" y=\"55.073019\" style=\"fill: #4575b4; fill-opacity: 0.7; stroke: #4575b4; stroke-opacity: 0.7; stroke-width: 0.3\" />\n",
       "     <use xlink:href=\"#m686771df3f\" x=\"72.412591\" y=\"40.405884\" style=\"fill: #4575b4; fill-opacity: 0.7; stroke: #4575b4; stroke-opacity: 0.7; stroke-width: 0.3\" />\n",
       "     <use xlink:href=\"#m686771df3f\" x=\"139.008068\" y=\"55.121326\" style=\"fill: #4575b4; fill-opacity: 0.7; stroke: #4575b4; stroke-opacity: 0.7; stroke-width: 0.3\" />\n",
       "     <use xlink:href=\"#m686771df3f\" x=\"44.37239\" y=\"4.535172\" style=\"fill: #4575b4; fill-opacity: 0.7; stroke: #4575b4; stroke-opacity: 0.7; stroke-width: 0.3\" />\n",
       "     <use xlink:href=\"#m686771df3f\" x=\"115.874903\" y=\"53.992613\" style=\"fill: #4575b4; fill-opacity: 0.7; stroke: #4575b4; stroke-opacity: 0.7; stroke-width: 0.3\" />\n",
       "     <use xlink:href=\"#m686771df3f\" x=\"79.422641\" y=\"51.831854\" style=\"fill: #4575b4; fill-opacity: 0.7; stroke: #4575b4; stroke-opacity: 0.7; stroke-width: 0.3\" />\n",
       "     <use xlink:href=\"#m686771df3f\" x=\"135.503043\" y=\"56.28769\" style=\"fill: #4575b4; fill-opacity: 0.7; stroke: #4575b4; stroke-opacity: 0.7; stroke-width: 0.3\" />\n",
       "     <use xlink:href=\"#m686771df3f\" x=\"168.45028\" y=\"55.902259\" style=\"fill: #4575b4; fill-opacity: 0.7; stroke: #4575b4; stroke-opacity: 0.7; stroke-width: 0.3\" />\n",
       "     <use xlink:href=\"#m686771df3f\" x=\"167.048269\" y=\"55.951187\" style=\"fill: #4575b4; fill-opacity: 0.7; stroke: #4575b4; stroke-opacity: 0.7; stroke-width: 0.3\" />\n",
       "     <use xlink:href=\"#m686771df3f\" x=\"171.955305\" y=\"59.045767\" style=\"fill: #4575b4; fill-opacity: 0.7; stroke: #4575b4; stroke-opacity: 0.7; stroke-width: 0.3\" />\n",
       "     <use xlink:href=\"#m686771df3f\" x=\"76.618621\" y=\"48.015409\" style=\"fill: #4575b4; fill-opacity: 0.7; stroke: #4575b4; stroke-opacity: 0.7; stroke-width: 0.3\" />\n",
       "     <use xlink:href=\"#m686771df3f\" x=\"98.349777\" y=\"59.161163\" style=\"fill: #4575b4; fill-opacity: 0.7; stroke: #4575b4; stroke-opacity: 0.7; stroke-width: 0.3\" />\n",
       "     <use xlink:href=\"#m686771df3f\" x=\"66.103546\" y=\"39.59938\" style=\"fill: #4575b4; fill-opacity: 0.7; stroke: #4575b4; stroke-opacity: 0.7; stroke-width: 0.3\" />\n",
       "     <use xlink:href=\"#m686771df3f\" x=\"47.17641\" y=\"14.359341\" style=\"fill: #4575b4; fill-opacity: 0.7; stroke: #4575b4; stroke-opacity: 0.7; stroke-width: 0.3\" />\n",
       "     <use xlink:href=\"#m686771df3f\" x=\"119.379928\" y=\"54.004616\" style=\"fill: #4575b4; fill-opacity: 0.7; stroke: #4575b4; stroke-opacity: 0.7; stroke-width: 0.3\" />\n",
       "     <use xlink:href=\"#m686771df3f\" x=\"106.060832\" y=\"55.256593\" style=\"fill: #4575b4; fill-opacity: 0.7; stroke: #4575b4; stroke-opacity: 0.7; stroke-width: 0.3\" />\n",
       "     <use xlink:href=\"#m686771df3f\" x=\"100.452792\" y=\"60.321667\" style=\"fill: #4575b4; fill-opacity: 0.7; stroke: #4575b4; stroke-opacity: 0.7; stroke-width: 0.3\" />\n",
       "     <use xlink:href=\"#m686771df3f\" x=\"165.646259\" y=\"56.542317\" style=\"fill: #4575b4; fill-opacity: 0.7; stroke: #4575b4; stroke-opacity: 0.7; stroke-width: 0.3\" />\n",
       "     <use xlink:href=\"#m686771df3f\" x=\"169.151285\" y=\"58.125899\" style=\"fill: #4575b4; fill-opacity: 0.7; stroke: #4575b4; stroke-opacity: 0.7; stroke-width: 0.3\" />\n",
       "     <use xlink:href=\"#m686771df3f\" x=\"104.658822\" y=\"55.476758\" style=\"fill: #4575b4; fill-opacity: 0.7; stroke: #4575b4; stroke-opacity: 0.7; stroke-width: 0.3\" />\n",
       "     <use xlink:href=\"#m686771df3f\" x=\"47.877415\" y=\"15.416603\" style=\"fill: #4575b4; fill-opacity: 0.7; stroke: #4575b4; stroke-opacity: 0.7; stroke-width: 0.3\" />\n",
       "     <use xlink:href=\"#m686771df3f\" x=\"51.38244\" y=\"20.444686\" style=\"fill: #4575b4; fill-opacity: 0.7; stroke: #4575b4; stroke-opacity: 0.7; stroke-width: 0.3\" />\n",
       "     <use xlink:href=\"#m686771df3f\" x=\"83.628671\" y=\"52.444292\" style=\"fill: #4575b4; fill-opacity: 0.7; stroke: #4575b4; stroke-opacity: 0.7; stroke-width: 0.3\" />\n",
       "     <use xlink:href=\"#m686771df3f\" x=\"162.141234\" y=\"53.976369\" style=\"fill: #4575b4; fill-opacity: 0.7; stroke: #4575b4; stroke-opacity: 0.7; stroke-width: 0.3\" />\n",
       "     <use xlink:href=\"#m686771df3f\" x=\"134.101033\" y=\"55.391646\" style=\"fill: #4575b4; fill-opacity: 0.7; stroke: #4575b4; stroke-opacity: 0.7; stroke-width: 0.3\" />\n",
       "     <use xlink:href=\"#m686771df3f\" x=\"54.18646\" y=\"25.184934\" style=\"fill: #4575b4; fill-opacity: 0.7; stroke: #4575b4; stroke-opacity: 0.7; stroke-width: 0.3\" />\n",
       "     <use xlink:href=\"#m686771df3f\" x=\"92.741737\" y=\"52.94262\" style=\"fill: #4575b4; fill-opacity: 0.7; stroke: #4575b4; stroke-opacity: 0.7; stroke-width: 0.3\" />\n",
       "     <use xlink:href=\"#m686771df3f\" x=\"164.945254\" y=\"53.384947\" style=\"fill: #4575b4; fill-opacity: 0.7; stroke: #4575b4; stroke-opacity: 0.7; stroke-width: 0.3\" />\n",
       "     <use xlink:href=\"#m686771df3f\" x=\"136.204048\" y=\"57.599709\" style=\"fill: #4575b4; fill-opacity: 0.7; stroke: #4575b4; stroke-opacity: 0.7; stroke-width: 0.3\" />\n",
       "     <use xlink:href=\"#m686771df3f\" x=\"159.337214\" y=\"57.794708\" style=\"fill: #4575b4; fill-opacity: 0.7; stroke: #4575b4; stroke-opacity: 0.7; stroke-width: 0.3\" />\n",
       "     <use xlink:href=\"#m686771df3f\" x=\"170.553295\" y=\"60.104379\" style=\"fill: #4575b4; fill-opacity: 0.7; stroke: #4575b4; stroke-opacity: 0.7; stroke-width: 0.3\" />\n",
       "     <use xlink:href=\"#m686771df3f\" x=\"86.432692\" y=\"56.602355\" style=\"fill: #4575b4; fill-opacity: 0.7; stroke: #4575b4; stroke-opacity: 0.7; stroke-width: 0.3\" />\n",
       "     <use xlink:href=\"#m686771df3f\" x=\"80.123646\" y=\"49.843281\" style=\"fill: #4575b4; fill-opacity: 0.7; stroke: #4575b4; stroke-opacity: 0.7; stroke-width: 0.3\" />\n",
       "     <use xlink:href=\"#m686771df3f\" x=\"117.276913\" y=\"59.563721\" style=\"fill: #4575b4; fill-opacity: 0.7; stroke: #4575b4; stroke-opacity: 0.7; stroke-width: 0.3\" />\n",
       "     <use xlink:href=\"#m686771df3f\" x=\"77.319626\" y=\"49.909004\" style=\"fill: #4575b4; fill-opacity: 0.7; stroke: #4575b4; stroke-opacity: 0.7; stroke-width: 0.3\" />\n",
       "     <use xlink:href=\"#m686771df3f\" x=\"179.66636\" y=\"56.013763\" style=\"fill: #4575b4; fill-opacity: 0.7; stroke: #4575b4; stroke-opacity: 0.7; stroke-width: 0.3\" />\n",
       "     <use xlink:href=\"#m686771df3f\" x=\"82.927666\" y=\"52.654593\" style=\"fill: #4575b4; fill-opacity: 0.7; stroke: #4575b4; stroke-opacity: 0.7; stroke-width: 0.3\" />\n",
       "     <use xlink:href=\"#m686771df3f\" x=\"75.917616\" y=\"50.458707\" style=\"fill: #4575b4; fill-opacity: 0.7; stroke: #4575b4; stroke-opacity: 0.7; stroke-width: 0.3\" />\n",
       "     <use xlink:href=\"#m686771df3f\" x=\"103.957817\" y=\"59.837517\" style=\"fill: #4575b4; fill-opacity: 0.7; stroke: #4575b4; stroke-opacity: 0.7; stroke-width: 0.3\" />\n",
       "     <use xlink:href=\"#m686771df3f\" x=\"56.990481\" y=\"27.158813\" style=\"fill: #4575b4; fill-opacity: 0.7; stroke: #4575b4; stroke-opacity: 0.7; stroke-width: 0.3\" />\n",
       "     <use xlink:href=\"#m686771df3f\" x=\"82.226661\" y=\"50.330624\" style=\"fill: #4575b4; fill-opacity: 0.7; stroke: #4575b4; stroke-opacity: 0.7; stroke-width: 0.3\" />\n",
       "     <use xlink:href=\"#m686771df3f\" x=\"154.430179\" y=\"55.681065\" style=\"fill: #4575b4; fill-opacity: 0.7; stroke: #4575b4; stroke-opacity: 0.7; stroke-width: 0.3\" />\n",
       "     <use xlink:href=\"#m686771df3f\" x=\"176.86234\" y=\"56.881062\" style=\"fill: #4575b4; fill-opacity: 0.7; stroke: #4575b4; stroke-opacity: 0.7; stroke-width: 0.3\" />\n",
       "     <use xlink:href=\"#m686771df3f\" x=\"132.699023\" y=\"55.82848\" style=\"fill: #4575b4; fill-opacity: 0.7; stroke: #4575b4; stroke-opacity: 0.7; stroke-width: 0.3\" />\n",
       "     <use xlink:href=\"#m686771df3f\" x=\"68.206561\" y=\"38.365818\" style=\"fill: #4575b4; fill-opacity: 0.7; stroke: #4575b4; stroke-opacity: 0.7; stroke-width: 0.3\" />\n",
       "     <use xlink:href=\"#m686771df3f\" x=\"152.327164\" y=\"56.99214\" style=\"fill: #4575b4; fill-opacity: 0.7; stroke: #4575b4; stroke-opacity: 0.7; stroke-width: 0.3\" />\n",
       "     <use xlink:href=\"#m686771df3f\" x=\"177.563345\" y=\"59.429732\" style=\"fill: #4575b4; fill-opacity: 0.7; stroke: #4575b4; stroke-opacity: 0.7; stroke-width: 0.3\" />\n",
       "     <use xlink:href=\"#m686771df3f\" x=\"42.97038\" y=\"5.840715\" style=\"fill: #4575b4; fill-opacity: 0.7; stroke: #4575b4; stroke-opacity: 0.7; stroke-width: 0.3\" />\n",
       "     <use xlink:href=\"#m686771df3f\" x=\"78.721636\" y=\"50.003857\" style=\"fill: #4575b4; fill-opacity: 0.7; stroke: #4575b4; stroke-opacity: 0.7; stroke-width: 0.3\" />\n",
       "     <use xlink:href=\"#m686771df3f\" x=\"146.719124\" y=\"56.109867\" style=\"fill: #4575b4; fill-opacity: 0.7; stroke: #4575b4; stroke-opacity: 0.7; stroke-width: 0.3\" />\n",
       "     <use xlink:href=\"#m686771df3f\" x=\"133.400028\" y=\"58.205647\" style=\"fill: #4575b4; fill-opacity: 0.7; stroke: #4575b4; stroke-opacity: 0.7; stroke-width: 0.3\" />\n",
       "     <use xlink:href=\"#m686771df3f\" x=\"148.121134\" y=\"51.449739\" style=\"fill: #4575b4; fill-opacity: 0.7; stroke: #4575b4; stroke-opacity: 0.7; stroke-width: 0.3\" />\n",
       "     <use xlink:href=\"#m686771df3f\" x=\"114.472893\" y=\"56.055057\" style=\"fill: #4575b4; fill-opacity: 0.7; stroke: #4575b4; stroke-opacity: 0.7; stroke-width: 0.3\" />\n",
       "     <use xlink:href=\"#m686771df3f\" x=\"111.668872\" y=\"57.238786\" style=\"fill: #4575b4; fill-opacity: 0.7; stroke: #4575b4; stroke-opacity: 0.7; stroke-width: 0.3\" />\n",
       "     <use xlink:href=\"#m686771df3f\" x=\"123.585958\" y=\"55.630789\" style=\"fill: #4575b4; fill-opacity: 0.7; stroke: #4575b4; stroke-opacity: 0.7; stroke-width: 0.3\" />\n",
       "     <use xlink:href=\"#m686771df3f\" x=\"103.256812\" y=\"57.895228\" style=\"fill: #4575b4; fill-opacity: 0.7; stroke: #4575b4; stroke-opacity: 0.7; stroke-width: 0.3\" />\n",
       "     <use xlink:href=\"#m686771df3f\" x=\"94.143747\" y=\"54.887662\" style=\"fill: #4575b4; fill-opacity: 0.7; stroke: #4575b4; stroke-opacity: 0.7; stroke-width: 0.3\" />\n",
       "     <use xlink:href=\"#m686771df3f\" x=\"127.090983\" y=\"59.5813\" style=\"fill: #4575b4; fill-opacity: 0.7; stroke: #4575b4; stroke-opacity: 0.7; stroke-width: 0.3\" />\n",
       "     <use xlink:href=\"#m686771df3f\" x=\"181.769375\" y=\"55.556706\" style=\"fill: #4575b4; fill-opacity: 0.7; stroke: #4575b4; stroke-opacity: 0.7; stroke-width: 0.3\" />\n",
       "     <use xlink:href=\"#m686771df3f\" x=\"56.289476\" y=\"32.937721\" style=\"fill: #4575b4; fill-opacity: 0.7; stroke: #4575b4; stroke-opacity: 0.7; stroke-width: 0.3\" />\n",
       "     <use xlink:href=\"#m686771df3f\" x=\"174.05832\" y=\"57.66404\" style=\"fill: #4575b4; fill-opacity: 0.7; stroke: #4575b4; stroke-opacity: 0.7; stroke-width: 0.3\" />\n",
       "     <use xlink:href=\"#m686771df3f\" x=\"92.040732\" y=\"54.834319\" style=\"fill: #4575b4; fill-opacity: 0.7; stroke: #4575b4; stroke-opacity: 0.7; stroke-width: 0.3\" />\n",
       "     <use xlink:href=\"#m686771df3f\" x=\"116.575908\" y=\"58.89223\" style=\"fill: #4575b4; fill-opacity: 0.7; stroke: #4575b4; stroke-opacity: 0.7; stroke-width: 0.3\" />\n",
       "     <use xlink:href=\"#m686771df3f\" x=\"52.083445\" y=\"20.814484\" style=\"fill: #4575b4; fill-opacity: 0.7; stroke: #4575b4; stroke-opacity: 0.7; stroke-width: 0.3\" />\n",
       "     <use xlink:href=\"#m686771df3f\" x=\"106.761837\" y=\"57.428908\" style=\"fill: #4575b4; fill-opacity: 0.7; stroke: #4575b4; stroke-opacity: 0.7; stroke-width: 0.3\" />\n",
       "     <use xlink:href=\"#m686771df3f\" x=\"167.749274\" y=\"55.041719\" style=\"fill: #4575b4; fill-opacity: 0.7; stroke: #4575b4; stroke-opacity: 0.7; stroke-width: 0.3\" />\n",
       "     <use xlink:href=\"#m686771df3f\" x=\"113.771888\" y=\"60.73813\" style=\"fill: #4575b4; fill-opacity: 0.7; stroke: #4575b4; stroke-opacity: 0.7; stroke-width: 0.3\" />\n",
       "    </g>\n",
       "   </g>\n",
       "   <g id=\"patch_3\">\n",
       "    <path d=\"M 64.351032 60.984  L 61.840032 67.0824  L 66.862032 67.0824  z \" style=\"fill: #444443; stroke: #ffffff; stroke-linejoin: miter\" />\n",
       "   </g>\n",
       "   <g id=\"line2d_1\">\n",
       "    <path d=\"M 42.269375 20.475502  L 64.351032 20.475502  \" clip-path=\"url(#p66bce40415)\" style=\"fill: none; stroke-dasharray: 3.7,1.6; stroke-dashoffset: 0; stroke: #444443\" />\n",
       "   </g>\n",
       "   <g id=\"line2d_2\">\n",
       "    <path d=\"M 64.351032 60.984  L 64.351032 0  \" clip-path=\"url(#p66bce40415)\" style=\"fill: none; stroke-dasharray: 3.7,1.6; stroke-dashoffset: 0; stroke: #444443\" />\n",
       "   </g>\n",
       "   <g id=\"line2d_3\">\n",
       "    <path d=\"M 64.351032 53.776901  L 181.769375 53.776901  \" clip-path=\"url(#p66bce40415)\" style=\"fill: none; stroke-dasharray: 3.7,1.6; stroke-dashoffset: 0; stroke: #444443\" />\n",
       "   </g>\n",
       "   <g id=\"patch_4\">\n",
       "    <path d=\"M 42.269375 60.984  L 42.269375 0  \" style=\"fill: none; stroke: #444443; stroke-width: 0.3; stroke-linejoin: miter; stroke-linecap: square\" />\n",
       "   </g>\n",
       "   <g id=\"patch_5\">\n",
       "    <path d=\"M 42.269375 60.984  L 181.769375 60.984  \" style=\"fill: none; stroke: #444443; stroke-width: 0.3; stroke-linejoin: miter; stroke-linecap: square\" />\n",
       "   </g>\n",
       "  </g>\n",
       " </g>\n",
       " <defs>\n",
       "  <clipPath id=\"p66bce40415\">\n",
       "   <rect x=\"42.269375\" y=\"0\" width=\"139.5\" height=\"60.984\" />\n",
       "  </clipPath>\n",
       " </defs>\n",
       "</svg></g>\n",
       "\n",
       "<g id=\"edge7\" class=\"edge\">\n",
       "<title>node0-&gt;node1</title>\n",
       "<path fill=\"none\" stroke=\"#444443\" stroke-width=\"0.3\" d=\"M129.35,-176.77C122.54,-168 115.17,-158.49 108.24,-149.55\" />\n",
       "<polygon fill=\"#444443\" stroke=\"#444443\" stroke-width=\"0.3\" points=\"109.26,-148.59 105.7,-146.29 107.05,-150.31 109.26,-148.59\" />\n",
       "<text text-anchor=\"start\" x=\"122.5\" y=\"-157.8\" font-family=\"Arial\" font-size=\"14.00\" fill=\"#444443\"> &#160;&#8804;</text>\n",
       "</g>\n",
       "\n",
       "<g id=\"edge8\" class=\"edge\">\n",
       "<title>node0-&gt;node4</title>\n",
       "<path fill=\"none\" stroke=\"#444443\" stroke-width=\"0.3\" d=\"M181.65,-176.77C188.46,-168 195.83,-158.49 202.76,-149.55\" />\n",
       "<polygon fill=\"#444443\" stroke=\"#444443\" stroke-width=\"0.3\" points=\"203.95,-150.31 205.3,-146.29 201.74,-148.59 203.95,-150.31\" />\n",
       "<text text-anchor=\"start\" x=\"198.5\" y=\"-157.8\" font-family=\"Arial\" font-size=\"14.00\" fill=\"#444443\"> &#160;&gt;</text>\n",
       "</g>\n",
       "\n",
       "\n",
       "</g>\n",
       "</svg>"
      ],
      "text/plain": [
       "<dtreeviz.utils.DTreeVizRender at 0x269340b62e0>"
      ]
     },
     "execution_count": 28,
     "metadata": {},
     "output_type": "execute_result"
    }
   ],
   "source": [
    "# pip install dtreeviz\n",
    "# https://github.com/parrt/dtreeviz/blob/master/notebooks/dtreeviz_sklearn_visualisations.ipynb\n",
    "import dtreeviz.trees\n",
    "dtr3 = DecisionTreeRegressor(max_depth=2)\n",
    "dtr3.fit(X_train, y_train)\n",
    "viz_model = dtreeviz.model(\n",
    "    dtr3,\n",
    "    X_train=X_train,\n",
    "    y_train=y_train,\n",
    "    target_name=\"y\"\n",
    ")\n",
    "viz_model.view(scale=2)"
   ]
  },
  {
   "cell_type": "code",
   "execution_count": 29,
   "metadata": {},
   "outputs": [],
   "source": [
    "import pydotplus\n",
    "from io import StringIO\n",
    "from sklearn.tree import export_graphviz\n",
    "dot_data = StringIO()\n",
    "export_graphviz(\n",
    "    dtr,\n",
    "    out_file=dot_data,\n",
    "    feature_names=['X'], # X.columns,\n",
    "    filled=True,\n",
    ")\n",
    "g = pydotplus.graph_from_dot_data(\n",
    "    dot_data.getvalue()\n",
    ")\n",
    "g.write_png(\"tree.png\");"
   ]
  },
  {
   "cell_type": "markdown",
   "metadata": {},
   "source": [
    "## Random Forest"
   ]
  },
  {
   "cell_type": "code",
   "execution_count": 31,
   "metadata": {},
   "outputs": [
    {
     "data": {
      "text/plain": [
       "0.9597158970285286"
      ]
     },
     "execution_count": 31,
     "metadata": {},
     "output_type": "execute_result"
    }
   ],
   "source": [
    "from sklearn.ensemble import (\n",
    "    RandomForestRegressor,\n",
    ")\n",
    "rfr = RandomForestRegressor(\n",
    "    random_state=42, n_estimators=100\n",
    ")\n",
    "rfr.fit(X_train, y_train)\n",
    "rfr.score(X_test, y_test) #R^2"
   ]
  },
  {
   "cell_type": "markdown",
   "metadata": {},
   "source": [
    "## XGBoost (eXtreme Gradient Boosting)"
   ]
  },
  {
   "cell_type": "code",
   "execution_count": 32,
   "metadata": {},
   "outputs": [
    {
     "data": {
      "text/plain": [
       "0.9454065882623204"
      ]
     },
     "execution_count": 32,
     "metadata": {},
     "output_type": "execute_result"
    }
   ],
   "source": [
    "import xgboost as xgb\n",
    "xgr = xgb.XGBRegressor(random_state=42, )\n",
    "xgr.fit(X_train, y_train)\n",
    "xgr.score(X_test, y_test) #R^2"
   ]
  },
  {
   "cell_type": "code",
   "execution_count": 34,
   "metadata": {},
   "outputs": [
    {
     "data": {
      "text/plain": [
       "<AxesSubplot: title={'center': 'Feature importance'}, xlabel='F score', ylabel='Features'>"
      ]
     },
     "execution_count": 34,
     "metadata": {},
     "output_type": "execute_result"
    },
    {
     "data": {
      "image/png": "[encoded data removed]",
      "text/plain": [
       "<Figure size 600x400 with 1 Axes>"
      ]
     },
     "metadata": {},
     "output_type": "display_data"
    }
   ],
   "source": [
    "fig, ax = plt.subplots(figsize=(6, 4))\n",
    "xgb.plot_importance(xgr, ax=ax) # tu tylko jedna cecha :)"
   ]
  },
  {
   "cell_type": "code",
   "execution_count": 44,
   "metadata": {},
   "outputs": [
    {
     "data": {
      "image/png": "[encoded data removed]",
      "text/plain": [
       "<Figure size 640x480 with 1 Axes>"
      ]
     },
     "metadata": {},
     "output_type": "display_data"
    }
   ],
   "source": [
    "y_pred = xgr.predict(X_test)\n",
    "\n",
    "plt.scatter(X_test, y_test)\n",
    "_ = plt.scatter(X_test, y_pred, c='r')"
   ]
  },
  {
   "cell_type": "markdown",
   "metadata": {},
   "source": [
    "## Ocena modelu"
   ]
  },
  {
   "cell_type": "code",
   "execution_count": 46,
   "metadata": {},
   "outputs": [],
   "source": [
    "predictions = xgr.predict(X_test)"
   ]
  },
  {
   "cell_type": "code",
   "execution_count": 47,
   "metadata": {},
   "outputs": [
    {
     "data": {
      "text/plain": [
       "<matplotlib.collections.PathCollection at 0x2693e8a46a0>"
      ]
     },
     "execution_count": 47,
     "metadata": {},
     "output_type": "execute_result"
    },
    {
     "data": {
      "image/png": "[encoded data removed]",
      "text/plain": [
       "<Figure size 640x480 with 1 Axes>"
      ]
     },
     "metadata": {},
     "output_type": "display_data"
    }
   ],
   "source": [
    "plt.scatter(y_test,predictions)"
   ]
  },
  {
   "cell_type": "markdown",
   "metadata": {},
   "source": [
    "**Resztkowy histogram**"
   ]
  },
  {
   "cell_type": "code",
   "execution_count": 48,
   "metadata": {},
   "outputs": [
    {
     "data": {
      "image/png": "[encoded data removed]",
      "text/plain": [
       "<Figure size 640x480 with 1 Axes>"
      ]
     },
     "metadata": {},
     "output_type": "display_data"
    }
   ],
   "source": [
    "sns.histplot((y_test-predictions),bins=50);"
   ]
  },
  {
   "cell_type": "markdown",
   "metadata": {},
   "source": [
    "## Metryki oceny regresji\n",
    "\n",
    "Oto trzy typowe metryki oceny problemów z regresją:\n",
    "\n",
    "**Średni błąd bezwzględny** (MAE) to średnia wartości bezwzględnej błędów:\n",
    "\n",
    "$$\\frac 1n\\sum_{i=1}^n|y_i-\\hat{y}_i|$$\n",
    "\n",
    "**Średni błąd kwadratowy** (MSE) to średnia kwadratów błędów:\n",
    "\n",
    "$$\\frac 1n\\sum_{i=1}^n(y_i-\\hat{y}_i)^2$$\n",
    "\n",
    "**Pierwiastek ze średniego błądu kwadratowego** (RMSE) to pierwiastek kwadratowy średniej kwadratów błędów:\n",
    "\n",
    "$$\\sqrt{\\frac 1n\\sum_{i=1}^n(y_i-\\hat{y}_i)^2}$$\n",
    "\n",
    "Porównując te dane:\n",
    "\n",
    "- **MAE** jest najłatwiejszy do zrozumienia, ponieważ jest to średni błąd.\n",
    "- **MSE** jest bardziej popularne niż MAE, ponieważ MSE „karze” większe błędy, co zwykle jest przydatne w prawdziwym świecie.\n",
    "- **RMSE** jest jeszcze bardziej popularny niż MSE, ponieważ RMSE można interpretować w jednostkach „y”.\n",
    "\n",
    "Wszystkie te funkcje są **funkcjami strat**, ponieważ chcemy je zminimalizować."
   ]
  },
  {
   "cell_type": "code",
   "execution_count": 49,
   "metadata": {},
   "outputs": [],
   "source": [
    "from sklearn import metrics"
   ]
  },
  {
   "cell_type": "code",
   "execution_count": 50,
   "metadata": {},
   "outputs": [
    {
     "name": "stdout",
     "output_type": "stream",
     "text": [
      "MAE: 82.66316613339265\n",
      "MSE: 11212.694287078339\n",
      "RMSE: 105.89001032712358\n"
     ]
    }
   ],
   "source": [
    "print('MAE:', metrics.mean_absolute_error(y_test, predictions))\n",
    "print('MSE:', metrics.mean_squared_error(y_test, predictions))\n",
    "print('RMSE:', np.sqrt(metrics.mean_squared_error(y_test, predictions)))"
   ]
  },
  {
   "cell_type": "code",
   "execution_count": 51,
   "metadata": {},
   "outputs": [
    {
     "data": {
      "text/plain": [
       "0.9454065882623204"
      ]
     },
     "execution_count": 51,
     "metadata": {},
     "output_type": "execute_result"
    }
   ],
   "source": [
    "xgr.score(X_test, y_test)"
   ]
  },
  {
   "cell_type": "markdown",
   "metadata": {},
   "source": [
    "## Regresja logistyczna"
   ]
  },
  {
   "cell_type": "markdown",
   "metadata": {},
   "source": [
    "Jedną z najpopularniejszych odmian analizy regresji jest regresja logistyczna. Najważniejszą cechą regresji logistycznej jest to, że zmienna zależna (wyjaśniana, przewidywana) jest zmienną dychotomiczną, czyli przyjmuje dwie wartości, najczęściej 0 i 1. \n",
    "\n",
    "Jest to zatem klasyfikacja, nie zaś \"regresja\" rozumiana jako szacowanie wartości :)\n",
    "\n",
    "W klasycznej analizy regresji - model liniowy analizowaliśmy zależność pomiędzy dwiema zmiennymi mierzonymi na skali ilościowej. Zastosowanie modelu liniowego dla zmiennej zależnej mierzonej na skali dychotomicznej dałoby błędną interpretację, ponieważ model taki zakłada występowanie wartości poniżej 0 lub powyżej 1, a w przypadku zmiennej dychotomicznej nie mamy takich przypadków, coś może wystąpić bądź nie. \n",
    "\n",
    "Dlatego też zastosowanie klasycznej regresji liniowej dla zmiennych dychotomicznych jest nieodpowiednim podejściem analitycznym.\n",
    "\n",
    "Więcej, np.: https://asystaekspercka.pl/regresja-logistyczna.html"
   ]
  },
  {
   "cell_type": "markdown",
   "metadata": {},
   "source": [
    "# Bibliografia"
   ]
  },
  {
   "cell_type": "markdown",
   "metadata": {},
   "source": [
    "* Matt Harrison, Uczenie maszynowe w Pythonie (Leksykon kieszonkowy), Helion\n",
    "* Materiały internetowe, kursy i szkolenia\n",
    "\n",
    "Warto zajrzeć: https://machinelearningmastery.com/calculate-feature-importance-with-python/ \n",
    "\n",
    "oraz portal Kaggle"
   ]
  }
 ],
 "metadata": {
  "accelerator": "GPU",
  "colab": {
   "include_colab_link": true,
   "name": "04_regresja_liniowa.ipynb",
   "provenance": []
  },
  "kernelspec": {
   "display_name": "Python 3 (ipykernel)",
   "language": "python",
   "name": "python3"
  },
  "language_info": {
   "codemirror_mode": {
    "name": "ipython",
    "version": 3
   },
   "file_extension": ".py",
   "mimetype": "text/x-python",
   "name": "python",
   "nbconvert_exporter": "python",
   "pygments_lexer": "ipython3",
   "version": "3.9.13"
  },
  "toc": {
   "base_numbering": 1,
   "nav_menu": {},
   "number_sections": true,
   "sideBar": true,
   "skip_h1_title": false,
   "title_cell": "Table of Contents",
   "title_sidebar": "Contents",
   "toc_cell": false,
   "toc_position": {},
   "toc_section_display": true,
   "toc_window_display": true
  }
 },
 "nbformat": 4,
 "nbformat_minor": 1
}
