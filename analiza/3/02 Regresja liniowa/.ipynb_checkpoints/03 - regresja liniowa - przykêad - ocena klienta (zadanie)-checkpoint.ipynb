{
 "cells": [
  {
   "cell_type": "markdown",
   "metadata": {},
   "source": [
    "# <font color='navy'>Zadanie: Regresja liniowa - przykład oceny klienta</font>\n",
    "\n",
    "<img src=\"./Images/klienci.jpg\" alt=\"Girl in a jacket\" width=\"300\">\n",
    "\n",
    "Gratulacje! Właśnie podpisałeś umowę z firmą e-commerce z siedzibą w Nowym Jorku, która sprzedaje ubrania online, ale mają również sesje doradztwa w zakresie stylu i odzieży w sklepie. Klienci przychodzą do sklepu, mają sesje / spotkania z osobistym stylistą, a następnie mogą iść do domu i zamówić w aplikacji mobilnej lub stronie internetowej na ubrania, które chcą.\n",
    "\n",
    "Firma stara się zdecydować, czy skupić się na swoich doświadczeniach z aplikacji mobilnej, czy na swojej stronie internetowej. Zatrudnili cię na umowę, aby pomóc im to rozgryźć! Zacznijmy!\n",
    "\n",
    "Wystarczy wykonać poniższe czynności, aby przeanalizować dane klienta (jest to fałszywe, nie martw się, nie podałem prawdziwych numerów kart kredytowych ani wiadomości e-mail)."
   ]
  },
  {
   "cell_type": "markdown",
   "metadata": {},
   "source": [
    "## Import"
   ]
  },
  {
   "cell_type": "code",
   "execution_count": 1,
   "metadata": {},
   "outputs": [],
   "source": [
    "import pandas as pd\n",
    "import numpy as np\n",
    "import matplotlib.pyplot as plt\n",
    "import seaborn as sns\n",
    "%matplotlib inline"
   ]
  },
  {
   "cell_type": "markdown",
   "metadata": {},
   "source": [
    "## Pobranie danych\n",
    "\n",
    "Będziemy współpracować z plikiem csv klienta e-commerce od firmy. \n",
    "Ma informacje o kliencie, takie jak adres e-mail, adres i ich kolor Avatara. Następnie ma również kolumny wartości liczbowych:\n",
    "\n",
    "* Avg. Session Length: średnia długość sesji doradztwa w sklepie.\n",
    "* Time on App: średni czas spędzony na aplikacji w minutach\n",
    "* Time on Website: Średni czas spędzony na stronie internetowej w minutach\n",
    "* Length of Membership: ile lat klient jest członkiem.\n",
    "\n",
    "**Pobranie z pliku csv klientów e-commerce jako DataFrame nazwie klientów.**\n",
    "\n"
   ]
  },
  {
   "cell_type": "code",
   "execution_count": null,
   "metadata": {},
   "outputs": [],
   "source": []
  },
  {
   "cell_type": "markdown",
   "metadata": {},
   "source": [
    "**Przejrzenie danych:**"
   ]
  },
  {
   "cell_type": "code",
   "execution_count": null,
   "metadata": {},
   "outputs": [],
   "source": []
  },
  {
   "cell_type": "code",
   "execution_count": null,
   "metadata": {},
   "outputs": [],
   "source": []
  },
  {
   "cell_type": "code",
   "execution_count": null,
   "metadata": {},
   "outputs": [],
   "source": []
  },
  {
   "cell_type": "markdown",
   "metadata": {},
   "source": [
    "## EDA - eksploracyjna analiza danych\n",
    "\n",
    "Przez resztę ćwiczenia będziemy używać tylko danych liczbowych pliku csv.\n",
    "\n",
    "**Użyj seaborn, aby utworzyć tabelę łączącą, aby porównać kolumny Czas spędzony w witrynie i Roczne wydatki. \n",
    "Czy korelacja ma sens?**"
   ]
  },
  {
   "cell_type": "code",
   "execution_count": 2,
   "metadata": {},
   "outputs": [],
   "source": [
    "# Dla tych ustawień wykresy poniżej mogą wyglądać trochę inaczej.\n",
    "sns.set_palette(\"GnBu_d\")\n",
    "sns.set_style('whitegrid')"
   ]
  },
  {
   "cell_type": "code",
   "execution_count": 3,
   "metadata": {},
   "outputs": [],
   "source": [
    "# Więcej czasu na stronie, więcej wydanych pieniędzy.\n"
   ]
  },
  {
   "cell_type": "markdown",
   "metadata": {},
   "source": [
    "**A jak wygląda w tym konteście czas w aplikacji.**"
   ]
  },
  {
   "cell_type": "code",
   "execution_count": null,
   "metadata": {},
   "outputs": [],
   "source": []
  },
  {
   "cell_type": "markdown",
   "metadata": {},
   "source": [
    "**Następnie analiza parami.** \n",
    "Więcej o formatowaniu: [pairplot](https://stanford.edu/~mwaskom/software/seaborn/tutorial/axis_grids.html#plotting-pairwise-relationships-with-pairgrid-and-pairplot)"
   ]
  },
  {
   "cell_type": "code",
   "execution_count": null,
   "metadata": {},
   "outputs": [],
   "source": []
  },
  {
   "cell_type": "markdown",
   "metadata": {},
   "source": [
    "**Opierając się na tym wykresie, co wydaje się być najbardziej skorelowany z cechą rocznej wydanej kwoty (Yearly Amount Spent)?**"
   ]
  },
  {
   "cell_type": "markdown",
   "metadata": {
    "collapsed": true
   },
   "source": [
    "*Wpisz swoją odpowiedź.*"
   ]
  },
  {
   "cell_type": "markdown",
   "metadata": {},
   "source": [
    "**Stwórzmy liniowy wykres tej zależności (seaborn: lmplot) - Yearly Amount Spent vs. Length of Membership.**"
   ]
  },
  {
   "cell_type": "code",
   "execution_count": null,
   "metadata": {},
   "outputs": [],
   "source": []
  },
  {
   "cell_type": "markdown",
   "metadata": {},
   "source": [
    "Wiadomo, że jeśli r jest bliskie 1 lub -1, to istnieje silna, odpowiednio, dodatnia lub ujemna zależność liniowa między parą zmiennych. Wyznaczmy wartości r dla wszystkich par zmiennych ilościowch:"
   ]
  },
  {
   "cell_type": "code",
   "execution_count": null,
   "metadata": {},
   "outputs": [],
   "source": []
  },
  {
   "cell_type": "markdown",
   "metadata": {},
   "source": [
    "Współczynnik korelacji Spearmana jest ogólniejszy od współczynnika korelacji Pearsona, który mierzy tylko zależność liniową."
   ]
  },
  {
   "cell_type": "code",
   "execution_count": null,
   "metadata": {},
   "outputs": [],
   "source": []
  },
  {
   "cell_type": "markdown",
   "metadata": {},
   "source": [
    "Dla naszych danych, te współczynniki powinny być zbliżone."
   ]
  },
  {
   "cell_type": "markdown",
   "metadata": {},
   "source": [
    "## Przygotowanie danych\n",
    "\n",
    "Po przeanalizowaniu danych, podzielmy dane na zestawy szkoleniowe i testowe.\n",
    "\n",
    "**Ustaw zmienną X równą numerycznym cechom klientów i zmienną y równą kolumnie \"Roczne wydatki wydane\" (Yearly Amount Spent).**"
   ]
  },
  {
   "cell_type": "code",
   "execution_count": null,
   "metadata": {},
   "outputs": [],
   "source": []
  },
  {
   "cell_type": "code",
   "execution_count": null,
   "metadata": {},
   "outputs": [],
   "source": []
  },
  {
   "cell_type": "markdown",
   "metadata": {},
   "source": [
    "**Użyj modelu_selection.train_test_split ze sklearn, aby podzielić dane na zestawy szkoleniowe i testowe. Ustaw test_size = 0,3 i random_state = 101**"
   ]
  },
  {
   "cell_type": "code",
   "execution_count": null,
   "metadata": {},
   "outputs": [],
   "source": []
  },
  {
   "cell_type": "code",
   "execution_count": null,
   "metadata": {},
   "outputs": [],
   "source": []
  },
  {
   "cell_type": "markdown",
   "metadata": {},
   "source": [
    "## Tworzenie modelu\n",
    "\n",
    "Teraz czas na szkolenie naszego modelu na naszych danych treningowych!\n",
    "\n",
    "**Importuj LinearRegression ze sklearn.linear_model.**"
   ]
  },
  {
   "cell_type": "code",
   "execution_count": null,
   "metadata": {},
   "outputs": [],
   "source": []
  },
  {
   "cell_type": "markdown",
   "metadata": {},
   "source": [
    "**Utwórz instancję modelu o nazwie LinearRegression () o nazwie lm.**"
   ]
  },
  {
   "cell_type": "code",
   "execution_count": null,
   "metadata": {},
   "outputs": [],
   "source": []
  },
  {
   "cell_type": "markdown",
   "metadata": {},
   "source": [
    "**Wytrenuj model na podstawie danych treningowych.**"
   ]
  },
  {
   "cell_type": "code",
   "execution_count": null,
   "metadata": {},
   "outputs": [],
   "source": []
  },
  {
   "cell_type": "markdown",
   "metadata": {},
   "source": [
    "**Przedstaw współczynniki modelu.**"
   ]
  },
  {
   "cell_type": "code",
   "execution_count": null,
   "metadata": {},
   "outputs": [],
   "source": []
  },
  {
   "cell_type": "markdown",
   "metadata": {},
   "source": [
    "## Przewidywanie danych testowych\n",
    "\n",
    "Teraz, gdy dopasowaliśmy nasz model, oceńmy jego wydajność, przewidując wartości testowe!\n",
    "\n",
    "**Użyj lm.predict (), aby przewidzieć wynik dla zestawu danych X_test.**"
   ]
  },
  {
   "cell_type": "code",
   "execution_count": null,
   "metadata": {},
   "outputs": [],
   "source": []
  },
  {
   "cell_type": "markdown",
   "metadata": {},
   "source": [
    "**Utwórz wykres rozproszenia rzeczywistych wartości testowych w stosunku do przewidywanych wartości.**"
   ]
  },
  {
   "cell_type": "code",
   "execution_count": null,
   "metadata": {},
   "outputs": [],
   "source": []
  },
  {
   "cell_type": "markdown",
   "metadata": {},
   "source": [
    "## Ocena metryczna modelu regresji"
   ]
  },
  {
   "cell_type": "markdown",
   "metadata": {},
   "source": [
    "## Ewaluacja modelu\n",
    "\n",
    "Oceńmy wydajność naszego modelu, obliczając resztkową sumę kwadratów i współczynnik determinacji (R ^ 2).\n",
    "\n",
    "**Oblicz MAE, MSE, RMSE**"
   ]
  },
  {
   "cell_type": "code",
   "execution_count": null,
   "metadata": {},
   "outputs": [],
   "source": []
  },
  {
   "cell_type": "markdown",
   "metadata": {},
   "source": [
    "## Odchylenia\n",
    "\n",
    "Powinieneś dostać bardzo dobry model z dobrym dopasowaniem. Szybko zbadaj odchylenia, aby upewnić się, że wszystko jest w porządku z naszymi danymi.\n",
    "\n",
    "**Sporządź histogram odchyleń i upewnij się, że wygląda jak rozkład normalny. Użyj seaborn distplot (histplot), lub po prostu plt.hist ().**"
   ]
  },
  {
   "cell_type": "code",
   "execution_count": null,
   "metadata": {},
   "outputs": [],
   "source": []
  },
  {
   "cell_type": "markdown",
   "metadata": {},
   "source": [
    "## Podsumowanie\n",
    "\n",
    "Nadal chcemy znaleźć odpowiedź na oryginalne pytanie, czy koncentrujemy się na działaniach mobilnych czy tworzeniu witryn? A może to nie ma znaczenia, a czas członkostwa jest bardzo ważny. Zobaczmy, czy możemy w ogóle interpretować współczynniki, aby uzyskać pomysł.\n",
    "\n",
    "**Utwórz tabelkę poniżej, która zawiera wpływ (zgodnie z modelem) każdej zmiennej na wynik.**"
   ]
  },
  {
   "cell_type": "code",
   "execution_count": null,
   "metadata": {},
   "outputs": [],
   "source": []
  },
  {
   "cell_type": "markdown",
   "metadata": {},
   "source": [
    "**Jak można interpretować te współczynniki?**"
   ]
  },
  {
   "cell_type": "markdown",
   "metadata": {},
   "source": [
    "*Wpisz swoją odpowiedź.*"
   ]
  },
  {
   "cell_type": "markdown",
   "metadata": {},
   "source": [
    "**Czy uważasz, że firma powinna bardziej skupić się na swojej aplikacji mobilnej lub na swojej stronie internetowej?**"
   ]
  },
  {
   "cell_type": "markdown",
   "metadata": {},
   "source": [
    "*Wpisz swoją odpowiedź.*"
   ]
  }
 ],
 "metadata": {
  "kernelspec": {
   "display_name": "Python 3 (ipykernel)",
   "language": "python",
   "name": "python3"
  },
  "language_info": {
   "codemirror_mode": {
    "name": "ipython",
    "version": 3
   },
   "file_extension": ".py",
   "mimetype": "text/x-python",
   "name": "python",
   "nbconvert_exporter": "python",
   "pygments_lexer": "ipython3",
   "version": "3.9.13"
  },
  "toc": {
   "base_numbering": 1,
   "nav_menu": {},
   "number_sections": true,
   "sideBar": true,
   "skip_h1_title": false,
   "title_cell": "Table of Contents",
   "title_sidebar": "Contents",
   "toc_cell": false,
   "toc_position": {},
   "toc_section_display": true,
   "toc_window_display": false
  }
 },
 "nbformat": 4,
 "nbformat_minor": 1
}
