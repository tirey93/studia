{
 "cells": [
  {
   "cell_type": "markdown",
   "metadata": {
    "vscode": {
     "languageId": "latex"
    }
   },
   "source": [
    "# <font color='GreenYellow' font-size:0.5em>Analiza wpływu czynników demograficznych i zawodowych na poziom dochodów w USA na podstawie zbioru danych \"Adult\"</font>"
   ]
  },
  {
   "cell_type": "markdown",
   "metadata": {},
   "source": [
    "Autor: **Damian Opolski** \\\n",
    "Numer indeksu: **202280**"
   ]
  },
  {
   "cell_type": "markdown",
   "metadata": {},
   "source": [
    "**Opis Problemu:**\n",
    "Celem analizy jest zrozumienie, jak różne czynniki demograficzne i zawodowe wpływają na poziom dochodów dorosłych osób w Stanach Zjednoczonych. Analizujemy zależności między wiekiem, statusem zawodowym, edukacją, stanem cywilnym, zawodem, rasą, płcią oraz innymi zmiennymi a dwoma kategoriami dochodów: zarobki równiejsze lub mniejsze niż 50 tys. dolarów rocznie oraz zarobki wyższe niż 50 tys. dolarów rocznie.\n",
    "\n",
    "**Źródło Danych:**\n",
    "Dane użyte do analizy pochodzą z zestawu danych \"Adult\", który jest publicznie dostępny i często wykorzystywany w statystykach oraz pracach badawczych związanych z uczeniem maszynowym. Zestaw danych zawiera informacje na temat cech demograficznych, edukacyjnych, zawodowych i innych cech osób dorosłych, skupiając się na tych, którzy mogą być aktywni na rynku pracy w Stanach Zjednoczonych. Dane zostały zebrane w ramach spisu ludności, który dostarcza szerokiego przekroju danych, umożliwiających analizę wpływu tych cech na poziom dochodów."
   ]
  }
 ],
 "metadata": {
  "kernelspec": {
   "display_name": "Python 3",
   "language": "python",
   "name": "python3"
  },
  "language_info": {
   "codemirror_mode": {
    "name": "ipython",
    "version": 3
   },
   "file_extension": ".py",
   "mimetype": "text/x-python",
   "name": "python",
   "nbconvert_exporter": "python",
   "pygments_lexer": "ipython3",
   "version": "3.12.3"
  }
 },
 "nbformat": 4,
 "nbformat_minor": 2
}
